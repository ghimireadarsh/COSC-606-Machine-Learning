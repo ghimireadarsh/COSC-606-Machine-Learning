{
 "cells": [
  {
   "cell_type": "markdown",
   "metadata": {
    "id": "jUvkaaFf6KlW"
   },
   "source": [
    "__Completed by:__\n",
    "\n",
    "Name : Adarsh Ghimire\n",
    "\n",
    "Student ID : 100058927\n",
    "\n",
    "MSc in Electrical and Computer Engineering"
   ]
  },
  {
   "cell_type": "code",
   "execution_count": null,
   "metadata": {
    "colab": {
     "base_uri": "https://localhost:8080/"
    },
    "id": "obalkrog874I",
    "outputId": "886581cf-fb33-4509-fceb-542a8d80e723"
   },
   "outputs": [
    {
     "name": "stdout",
     "output_type": "stream",
     "text": [
      "Drive already mounted at /content/drive; to attempt to forcibly remount, call drive.mount(\"/content/drive\", force_remount=True).\n"
     ]
    }
   ],
   "source": [
    "from google.colab import drive\n",
    "drive.mount('/content/drive')"
   ]
  },
  {
   "cell_type": "code",
   "execution_count": null,
   "metadata": {
    "id": "-9RLptpp9SLL"
   },
   "outputs": [],
   "source": [
    "try:\n",
    "  import os\n",
    "  os.chdir('drive/MyDrive/COSC 606 Machine learning/Project/notebooks/')\n",
    "except:\n",
    "  print(\"Already in working directory\")"
   ]
  },
  {
   "cell_type": "code",
   "execution_count": null,
   "metadata": {
    "id": "g-0hMsPkz3W_"
   },
   "outputs": [],
   "source": [
    "import pandas as pd\n",
    "import matplotlib.pyplot as plt\n",
    "import seaborn as sns\n",
    "from sklearn.linear_model import LinearRegression\n",
    "from sklearn.preprocessing import PolynomialFeatures\n",
    "from sklearn.model_selection import train_test_split\n",
    "from sklearn.model_selection import KFold\n",
    "from sklearn.metrics import mean_squared_error\n",
    "from sklearn.metrics import r2_score"
   ]
  },
  {
   "cell_type": "code",
   "execution_count": null,
   "metadata": {
    "colab": {
     "base_uri": "https://localhost:8080/",
     "height": 204
    },
    "id": "zy55_8-F6wyq",
    "outputId": "9faa662f-b9cc-40b7-a576-0f58cb484785"
   },
   "outputs": [
    {
     "data": {
      "text/html": [
       "<div>\n",
       "<style scoped>\n",
       "    .dataframe tbody tr th:only-of-type {\n",
       "        vertical-align: middle;\n",
       "    }\n",
       "\n",
       "    .dataframe tbody tr th {\n",
       "        vertical-align: top;\n",
       "    }\n",
       "\n",
       "    .dataframe thead th {\n",
       "        text-align: right;\n",
       "    }\n",
       "</style>\n",
       "<table border=\"1\" class=\"dataframe\">\n",
       "  <thead>\n",
       "    <tr style=\"text-align: right;\">\n",
       "      <th></th>\n",
       "      <th>Report Date</th>\n",
       "      <th>Route</th>\n",
       "      <th>Time</th>\n",
       "      <th>Day</th>\n",
       "      <th>Location</th>\n",
       "      <th>Direction</th>\n",
       "      <th>Min Delay</th>\n",
       "      <th>Min Gap</th>\n",
       "    </tr>\n",
       "  </thead>\n",
       "  <tbody>\n",
       "    <tr>\n",
       "      <th>0</th>\n",
       "      <td>2014-01-02</td>\n",
       "      <td>505</td>\n",
       "      <td>06:31:00</td>\n",
       "      <td>Thursday</td>\n",
       "      <td>Dundas and Roncesvalles</td>\n",
       "      <td>E/B</td>\n",
       "      <td>4.0</td>\n",
       "      <td>8.0</td>\n",
       "    </tr>\n",
       "    <tr>\n",
       "      <th>1</th>\n",
       "      <td>2014-01-02</td>\n",
       "      <td>504</td>\n",
       "      <td>12:43:00</td>\n",
       "      <td>Thursday</td>\n",
       "      <td>King and Shaw</td>\n",
       "      <td>E/B</td>\n",
       "      <td>20.0</td>\n",
       "      <td>22.0</td>\n",
       "    </tr>\n",
       "    <tr>\n",
       "      <th>2</th>\n",
       "      <td>2014-01-02</td>\n",
       "      <td>501</td>\n",
       "      <td>14:01:00</td>\n",
       "      <td>Thursday</td>\n",
       "      <td>Kingston road and Bingham</td>\n",
       "      <td>W/B</td>\n",
       "      <td>13.0</td>\n",
       "      <td>19.0</td>\n",
       "    </tr>\n",
       "    <tr>\n",
       "      <th>3</th>\n",
       "      <td>2014-01-02</td>\n",
       "      <td>504</td>\n",
       "      <td>14:22:00</td>\n",
       "      <td>Thursday</td>\n",
       "      <td>King St. and Roncesvalles Ave.</td>\n",
       "      <td>W/B</td>\n",
       "      <td>7.0</td>\n",
       "      <td>11.0</td>\n",
       "    </tr>\n",
       "    <tr>\n",
       "      <th>4</th>\n",
       "      <td>2014-01-02</td>\n",
       "      <td>504</td>\n",
       "      <td>16:42:00</td>\n",
       "      <td>Thursday</td>\n",
       "      <td>King and Bathurst</td>\n",
       "      <td>E/B</td>\n",
       "      <td>3.0</td>\n",
       "      <td>6.0</td>\n",
       "    </tr>\n",
       "  </tbody>\n",
       "</table>\n",
       "</div>"
      ],
      "text/plain": [
       "  Report Date  Route      Time  ... Direction Min Delay Min Gap\n",
       "0  2014-01-02    505  06:31:00  ...       E/B       4.0     8.0\n",
       "1  2014-01-02    504  12:43:00  ...       E/B      20.0    22.0\n",
       "2  2014-01-02    501  14:01:00  ...       W/B      13.0    19.0\n",
       "3  2014-01-02    504  14:22:00  ...       W/B       7.0    11.0\n",
       "4  2014-01-02    504  16:42:00  ...       E/B       3.0     6.0\n",
       "\n",
       "[5 rows x 8 columns]"
      ]
     },
     "execution_count": 16,
     "metadata": {
      "tags": []
     },
     "output_type": "execute_result"
    }
   ],
   "source": [
    "# Training and test data were made in second notebook, and were saved to make future use easier\n",
    "training_dataset_path = \"../final_dataset/train.csv\" \n",
    "test_dataset_path = \"../final_dataset/test.csv\" \n",
    "train_df = pd.read_csv(training_dataset_path)\n",
    "test_df = pd.read_csv(test_dataset_path)\n",
    "train_df.head()"
   ]
  },
  {
   "cell_type": "markdown",
   "metadata": {
    "id": "ZjqGrO37-BAK"
   },
   "source": [
    "## Data Manipulations functions\n"
   ]
  },
  {
   "cell_type": "code",
   "execution_count": null,
   "metadata": {
    "id": "Mh8LGRIU96IN"
   },
   "outputs": [],
   "source": [
    "# Since our target is Min Delay so the function below cleans the Min Delay rows if they are nan values\n",
    "def clean_delay(df):\n",
    "  df = df[df['Min Delay'].notna()]\n",
    "  return df"
   ]
  },
  {
   "cell_type": "code",
   "execution_count": null,
   "metadata": {
    "id": "7WZuWE52-UOQ"
   },
   "outputs": [],
   "source": [
    "# This function checks for valid routes only\n",
    "def check_route(x):\n",
    "  # load the valid list of TTC Streetcar routes\n",
    "  valid_routes = [501, 502, 503, 504, 505, 506, 509, 510, 511, 512, 301, 304, 306, 310]\n",
    "\n",
    "  if x in valid_routes:\n",
    "    return x\n",
    "  else:\n",
    "    return \"bad route\"\n",
    "\n",
    "# This function cleans the data based on valid routes\n",
    "def clean_route(df):\n",
    "  # This function takes dataframe as input\n",
    "  # cleans the route column based on the validity of the route of street car\n",
    "  # returns the cleaned dataframe\n",
    "  df['Route'] = df['Route'].apply(lambda x:check_route(x))\n",
    "  df = df[df.Route != \"bad route\"]\n",
    "  df['Route'] = df['Route'].astype('int64')\n",
    "  return df"
   ]
  },
  {
   "cell_type": "code",
   "execution_count": null,
   "metadata": {
    "id": "cz3zM1FP-aBX"
   },
   "outputs": [],
   "source": [
    "# This function drops the Location column\n",
    "def drop_location(df):\n",
    "  df = df.drop([\"Location\"], axis=1)\n",
    "  return df"
   ]
  },
  {
   "cell_type": "code",
   "execution_count": null,
   "metadata": {
    "id": "ch9Jcxpo-sFV"
   },
   "outputs": [],
   "source": [
    "def create_date_time_column(df):\n",
    "   # This function takes dataframe, then merges the date and time \n",
    "   # Then convert that column into datetime datatype\n",
    "   # Such that it can be further used in time series easily\n",
    "  try:\n",
    "    new = pd.to_datetime(df[\"Report Date\"] + \" \"+ df[\"Time\"], utc=True)\n",
    "    df[\"Date Time\"] = new\n",
    "    df = df.drop([\"Report Date\", \"Time\"], axis=1)\n",
    "    return df\n",
    "  except:\n",
    "    return df"
   ]
  },
  {
   "cell_type": "code",
   "execution_count": null,
   "metadata": {
    "id": "l6SsaqbS-6Ar"
   },
   "outputs": [],
   "source": [
    "# This function divides a day into different period\n",
    "def day_divider(hour):\n",
    "  if hour > 5 and hour < 12:\n",
    "    return \"morning\"\n",
    "  elif hour >= 12 and hour < 17: \n",
    "    return \"afternoon\"\n",
    "  elif hour >= 17 and hour < 21:\n",
    "    return \"evening\"\n",
    "  else:\n",
    "    return \"night\""
   ]
  },
  {
   "cell_type": "code",
   "execution_count": null,
   "metadata": {
    "id": "zRVsFj9i_X9H"
   },
   "outputs": [],
   "source": [
    "def clean_gap(df):\n",
    "  # This function will help to clean the Min Gap column feature with training data Min Gap mean value\n",
    "  df[\"Min Gap\"] = df[\"Min Gap\"].fillna(train_df['Min Gap'].mean())\n",
    "  return df"
   ]
  },
  {
   "cell_type": "code",
   "execution_count": null,
   "metadata": {
    "id": "VIi-xSe8_Yw_"
   },
   "outputs": [],
   "source": [
    "# These function help to filter the Direction values and clean them\n",
    "valid_directions = ['eb','wb','nb','sb','bw']\n",
    "def check_direction (x):\n",
    "    if x in valid_directions:\n",
    "        return(x)\n",
    "    else:\n",
    "        return(\"bad direction\")\n",
    "\n",
    "def direction_cleanup(df):\n",
    "    df['Direction'] = df['Direction'].str.lower()\n",
    "    df['Direction'] = df['Direction'].str.replace('/','')\n",
    "    df['Direction'] = df['Direction'].replace({'eastbound':'eb','westbound':'wb','southbound':'sb','northbound':'nb'})\n",
    "    df['Direction'] = df['Direction'].apply(lambda x:check_direction(x))\n",
    "    return(df)"
   ]
  },
  {
   "cell_type": "code",
   "execution_count": null,
   "metadata": {
    "id": "lfLfmfoy_opd"
   },
   "outputs": [],
   "source": [
    "def complete_cleaner(df):\n",
    "  df = clean_delay(df) # drops the nan Min delay rows\n",
    "  df = clean_route(df) # cleans the unwanted route from the dataset\n",
    "  df = drop_location(df) # drops the location column from the dataset\n",
    "  df = create_date_time_column(df) # creates Date Time column in the dataset\n",
    "  df[\"Part of Day\"] = df.apply(lambda x: day_divider(x[\"Date Time\"].hour),axis=1) # Creates Part of Day column in the dataset\n",
    "  df = clean_gap(df) # cleans gap based on the mean of gap values\n",
    "  df = direction_cleanup(df) # cleans the direction column to 5 directions(eb,wb,nb,sb,bw)\n",
    "  df = df[df[\"Direction\"] != \"bad direction\"]\n",
    "  df.reset_index(inplace=True, drop=True)\n",
    "  df.drop(['Date Time'], axis=1, inplace=True)\n",
    "  return df"
   ]
  },
  {
   "cell_type": "code",
   "execution_count": null,
   "metadata": {
    "id": "NV9wx9XXBoH-"
   },
   "outputs": [],
   "source": [
    "# Creating a copy of training data to work on\n",
    "df = train_df.copy(deep=True)"
   ]
  },
  {
   "cell_type": "code",
   "execution_count": null,
   "metadata": {
    "colab": {
     "base_uri": "https://localhost:8080/"
    },
    "id": "LBMf_cwzA2DX",
    "outputId": "78b34f94-9bf3-4bc5-a684-1175b03f4301"
   },
   "outputs": [
    {
     "name": "stderr",
     "output_type": "stream",
     "text": [
      "/usr/local/lib/python3.7/dist-packages/ipykernel_launcher.py:16: SettingWithCopyWarning: \n",
      "A value is trying to be set on a copy of a slice from a DataFrame.\n",
      "Try using .loc[row_indexer,col_indexer] = value instead\n",
      "\n",
      "See the caveats in the documentation: https://pandas.pydata.org/pandas-docs/stable/user_guide/indexing.html#returning-a-view-versus-a-copy\n",
      "  app.launch_new_instance()\n",
      "/usr/local/lib/python3.7/dist-packages/ipykernel_launcher.py:18: SettingWithCopyWarning: \n",
      "A value is trying to be set on a copy of a slice from a DataFrame.\n",
      "Try using .loc[row_indexer,col_indexer] = value instead\n",
      "\n",
      "See the caveats in the documentation: https://pandas.pydata.org/pandas-docs/stable/user_guide/indexing.html#returning-a-view-versus-a-copy\n"
     ]
    }
   ],
   "source": [
    "df = complete_cleaner(df)"
   ]
  },
  {
   "cell_type": "code",
   "execution_count": null,
   "metadata": {
    "colab": {
     "base_uri": "https://localhost:8080/",
     "height": 359
    },
    "id": "mNkcHfAsA6B9",
    "outputId": "d4d4c21d-8432-4477-ef82-596ab39521f6"
   },
   "outputs": [
    {
     "data": {
      "text/html": [
       "<div>\n",
       "<style scoped>\n",
       "    .dataframe tbody tr th:only-of-type {\n",
       "        vertical-align: middle;\n",
       "    }\n",
       "\n",
       "    .dataframe tbody tr th {\n",
       "        vertical-align: top;\n",
       "    }\n",
       "\n",
       "    .dataframe thead th {\n",
       "        text-align: right;\n",
       "    }\n",
       "</style>\n",
       "<table border=\"1\" class=\"dataframe\">\n",
       "  <thead>\n",
       "    <tr style=\"text-align: right;\">\n",
       "      <th></th>\n",
       "      <th>Route</th>\n",
       "      <th>Day</th>\n",
       "      <th>Direction</th>\n",
       "      <th>Min Delay</th>\n",
       "      <th>Min Gap</th>\n",
       "      <th>Part of Day</th>\n",
       "    </tr>\n",
       "  </thead>\n",
       "  <tbody>\n",
       "    <tr>\n",
       "      <th>11615</th>\n",
       "      <td>512</td>\n",
       "      <td>Monday</td>\n",
       "      <td>eb</td>\n",
       "      <td>4.0</td>\n",
       "      <td>8.0</td>\n",
       "      <td>morning</td>\n",
       "    </tr>\n",
       "    <tr>\n",
       "      <th>25712</th>\n",
       "      <td>509</td>\n",
       "      <td>Saturday</td>\n",
       "      <td>wb</td>\n",
       "      <td>18.0</td>\n",
       "      <td>36.0</td>\n",
       "      <td>night</td>\n",
       "    </tr>\n",
       "    <tr>\n",
       "      <th>61661</th>\n",
       "      <td>506</td>\n",
       "      <td>Tuesday</td>\n",
       "      <td>wb</td>\n",
       "      <td>6.0</td>\n",
       "      <td>12.0</td>\n",
       "      <td>afternoon</td>\n",
       "    </tr>\n",
       "    <tr>\n",
       "      <th>57689</th>\n",
       "      <td>506</td>\n",
       "      <td>Thursday</td>\n",
       "      <td>wb</td>\n",
       "      <td>5.0</td>\n",
       "      <td>10.0</td>\n",
       "      <td>evening</td>\n",
       "    </tr>\n",
       "    <tr>\n",
       "      <th>17206</th>\n",
       "      <td>501</td>\n",
       "      <td>Monday</td>\n",
       "      <td>eb</td>\n",
       "      <td>10.0</td>\n",
       "      <td>20.0</td>\n",
       "      <td>afternoon</td>\n",
       "    </tr>\n",
       "    <tr>\n",
       "      <th>57370</th>\n",
       "      <td>504</td>\n",
       "      <td>Wednesday</td>\n",
       "      <td>eb</td>\n",
       "      <td>11.0</td>\n",
       "      <td>21.0</td>\n",
       "      <td>night</td>\n",
       "    </tr>\n",
       "    <tr>\n",
       "      <th>27191</th>\n",
       "      <td>504</td>\n",
       "      <td>Monday</td>\n",
       "      <td>eb</td>\n",
       "      <td>4.0</td>\n",
       "      <td>8.0</td>\n",
       "      <td>morning</td>\n",
       "    </tr>\n",
       "    <tr>\n",
       "      <th>51570</th>\n",
       "      <td>501</td>\n",
       "      <td>Friday</td>\n",
       "      <td>eb</td>\n",
       "      <td>60.0</td>\n",
       "      <td>67.0</td>\n",
       "      <td>night</td>\n",
       "    </tr>\n",
       "    <tr>\n",
       "      <th>64756</th>\n",
       "      <td>509</td>\n",
       "      <td>Saturday</td>\n",
       "      <td>eb</td>\n",
       "      <td>13.0</td>\n",
       "      <td>26.0</td>\n",
       "      <td>evening</td>\n",
       "    </tr>\n",
       "    <tr>\n",
       "      <th>22315</th>\n",
       "      <td>504</td>\n",
       "      <td>Wednesday</td>\n",
       "      <td>wb</td>\n",
       "      <td>7.0</td>\n",
       "      <td>11.0</td>\n",
       "      <td>evening</td>\n",
       "    </tr>\n",
       "  </tbody>\n",
       "</table>\n",
       "</div>"
      ],
      "text/plain": [
       "       Route        Day Direction  Min Delay  Min Gap Part of Day\n",
       "11615    512     Monday        eb        4.0      8.0     morning\n",
       "25712    509   Saturday        wb       18.0     36.0       night\n",
       "61661    506    Tuesday        wb        6.0     12.0   afternoon\n",
       "57689    506   Thursday        wb        5.0     10.0     evening\n",
       "17206    501     Monday        eb       10.0     20.0   afternoon\n",
       "57370    504  Wednesday        eb       11.0     21.0       night\n",
       "27191    504     Monday        eb        4.0      8.0     morning\n",
       "51570    501     Friday        eb       60.0     67.0       night\n",
       "64756    509   Saturday        eb       13.0     26.0     evening\n",
       "22315    504  Wednesday        wb        7.0     11.0     evening"
      ]
     },
     "execution_count": 27,
     "metadata": {
      "tags": []
     },
     "output_type": "execute_result"
    }
   ],
   "source": [
    "df.sample(10)"
   ]
  },
  {
   "cell_type": "markdown",
   "metadata": {
    "id": "qHMYHMqPDYfv"
   },
   "source": [
    "# Now doing one hot encoding for the categorical data\n",
    "1. Route is categorical\n",
    "2. Day is categorical\n",
    "3. Direction is categorical\n",
    "4. Part of Day is categorical"
   ]
  },
  {
   "cell_type": "code",
   "execution_count": null,
   "metadata": {
    "colab": {
     "base_uri": "https://localhost:8080/"
    },
    "id": "QByFz21zDAcD",
    "outputId": "fa8157f8-2b19-44be-c8a7-2596e0fe68f1"
   },
   "outputs": [
    {
     "data": {
      "text/plain": [
       "OneHotEncoder(categories='auto', drop=None, dtype=<class 'numpy.float64'>,\n",
       "              handle_unknown='error', sparse=True)"
      ]
     },
     "execution_count": 28,
     "metadata": {
      "tags": []
     },
     "output_type": "execute_result"
    }
   ],
   "source": [
    " # One hot encoder object made using training data, so that it can be used for testing later on.\n",
    "from sklearn.preprocessing import OneHotEncoder\n",
    "import numpy as np\n",
    "day_enc = OneHotEncoder() \n",
    "route_enc = OneHotEncoder()\n",
    "dir_enc = OneHotEncoder()\n",
    "part_enc = OneHotEncoder()\n",
    "\n",
    "day_enc.fit(np.array(df[\"Day\"]).reshape(-1,1))\n",
    "route_enc.fit(np.array(df[\"Route\"]).reshape(-1,1))\n",
    "dir_enc.fit(np.array(df[\"Direction\"]).reshape(-1,1))\n",
    "part_enc.fit(np.array(df[\"Part of Day\"]).reshape(-1,1))"
   ]
  },
  {
   "cell_type": "code",
   "execution_count": null,
   "metadata": {
    "id": "KuIBDV-GFd88"
   },
   "outputs": [],
   "source": [
    "def one_hot_encoder(df):\n",
    "  \n",
    "  df[day_enc.categories_[0]] = day_enc.transform(np.array(df[\"Day\"]).reshape(-1,1)).toarray()\n",
    "  df[route_enc.categories_[0]] = route_enc.transform(np.array(df[\"Route\"]).reshape(-1,1)).toarray()\n",
    "  df[dir_enc.categories_[0]] = dir_enc.transform(np.array(df[\"Direction\"]).reshape(-1,1)).toarray()\n",
    "  df[part_enc.categories_[0]] = part_enc.transform(np.array(df[\"Part of Day\"]).reshape(-1,1)).toarray()\n",
    "\n",
    "  df.drop(['Day', 'Route', 'Direction', 'Part of Day'], axis=1, inplace=True)\n",
    "  return df"
   ]
  },
  {
   "cell_type": "code",
   "execution_count": null,
   "metadata": {
    "id": "zvgwAdvqJAbd"
   },
   "outputs": [],
   "source": [
    "df = one_hot_encoder(df)"
   ]
  },
  {
   "cell_type": "code",
   "execution_count": null,
   "metadata": {
    "colab": {
     "base_uri": "https://localhost:8080/",
     "height": 456
    },
    "id": "JdyoDJBQJHKl",
    "outputId": "c25faa77-ecf7-4c73-9215-8d6aa44eccde"
   },
   "outputs": [
    {
     "data": {
      "text/html": [
       "<div>\n",
       "<style scoped>\n",
       "    .dataframe tbody tr th:only-of-type {\n",
       "        vertical-align: middle;\n",
       "    }\n",
       "\n",
       "    .dataframe tbody tr th {\n",
       "        vertical-align: top;\n",
       "    }\n",
       "\n",
       "    .dataframe thead th {\n",
       "        text-align: right;\n",
       "    }\n",
       "</style>\n",
       "<table border=\"1\" class=\"dataframe\">\n",
       "  <thead>\n",
       "    <tr style=\"text-align: right;\">\n",
       "      <th></th>\n",
       "      <th>Min Delay</th>\n",
       "      <th>Min Gap</th>\n",
       "      <th>Friday</th>\n",
       "      <th>Monday</th>\n",
       "      <th>Saturday</th>\n",
       "      <th>Sunday</th>\n",
       "      <th>Thursday</th>\n",
       "      <th>Tuesday</th>\n",
       "      <th>Wednesday</th>\n",
       "      <th>301</th>\n",
       "      <th>304</th>\n",
       "      <th>306</th>\n",
       "      <th>310</th>\n",
       "      <th>501</th>\n",
       "      <th>502</th>\n",
       "      <th>503</th>\n",
       "      <th>504</th>\n",
       "      <th>505</th>\n",
       "      <th>506</th>\n",
       "      <th>509</th>\n",
       "      <th>510</th>\n",
       "      <th>511</th>\n",
       "      <th>512</th>\n",
       "      <th>bw</th>\n",
       "      <th>eb</th>\n",
       "      <th>nb</th>\n",
       "      <th>sb</th>\n",
       "      <th>wb</th>\n",
       "      <th>afternoon</th>\n",
       "      <th>evening</th>\n",
       "      <th>morning</th>\n",
       "      <th>night</th>\n",
       "    </tr>\n",
       "  </thead>\n",
       "  <tbody>\n",
       "    <tr>\n",
       "      <th>0</th>\n",
       "      <td>4.0</td>\n",
       "      <td>8.0</td>\n",
       "      <td>0.0</td>\n",
       "      <td>0.0</td>\n",
       "      <td>0.0</td>\n",
       "      <td>0.0</td>\n",
       "      <td>1.0</td>\n",
       "      <td>0.0</td>\n",
       "      <td>0.0</td>\n",
       "      <td>0.0</td>\n",
       "      <td>0.0</td>\n",
       "      <td>0.0</td>\n",
       "      <td>0.0</td>\n",
       "      <td>0.0</td>\n",
       "      <td>0.0</td>\n",
       "      <td>0.0</td>\n",
       "      <td>0.0</td>\n",
       "      <td>1.0</td>\n",
       "      <td>0.0</td>\n",
       "      <td>0.0</td>\n",
       "      <td>0.0</td>\n",
       "      <td>0.0</td>\n",
       "      <td>0.0</td>\n",
       "      <td>0.0</td>\n",
       "      <td>1.0</td>\n",
       "      <td>0.0</td>\n",
       "      <td>0.0</td>\n",
       "      <td>0.0</td>\n",
       "      <td>0.0</td>\n",
       "      <td>0.0</td>\n",
       "      <td>1.0</td>\n",
       "      <td>0.0</td>\n",
       "    </tr>\n",
       "    <tr>\n",
       "      <th>1</th>\n",
       "      <td>20.0</td>\n",
       "      <td>22.0</td>\n",
       "      <td>0.0</td>\n",
       "      <td>0.0</td>\n",
       "      <td>0.0</td>\n",
       "      <td>0.0</td>\n",
       "      <td>1.0</td>\n",
       "      <td>0.0</td>\n",
       "      <td>0.0</td>\n",
       "      <td>0.0</td>\n",
       "      <td>0.0</td>\n",
       "      <td>0.0</td>\n",
       "      <td>0.0</td>\n",
       "      <td>0.0</td>\n",
       "      <td>0.0</td>\n",
       "      <td>0.0</td>\n",
       "      <td>1.0</td>\n",
       "      <td>0.0</td>\n",
       "      <td>0.0</td>\n",
       "      <td>0.0</td>\n",
       "      <td>0.0</td>\n",
       "      <td>0.0</td>\n",
       "      <td>0.0</td>\n",
       "      <td>0.0</td>\n",
       "      <td>1.0</td>\n",
       "      <td>0.0</td>\n",
       "      <td>0.0</td>\n",
       "      <td>0.0</td>\n",
       "      <td>1.0</td>\n",
       "      <td>0.0</td>\n",
       "      <td>0.0</td>\n",
       "      <td>0.0</td>\n",
       "    </tr>\n",
       "    <tr>\n",
       "      <th>2</th>\n",
       "      <td>13.0</td>\n",
       "      <td>19.0</td>\n",
       "      <td>0.0</td>\n",
       "      <td>0.0</td>\n",
       "      <td>0.0</td>\n",
       "      <td>0.0</td>\n",
       "      <td>1.0</td>\n",
       "      <td>0.0</td>\n",
       "      <td>0.0</td>\n",
       "      <td>0.0</td>\n",
       "      <td>0.0</td>\n",
       "      <td>0.0</td>\n",
       "      <td>0.0</td>\n",
       "      <td>1.0</td>\n",
       "      <td>0.0</td>\n",
       "      <td>0.0</td>\n",
       "      <td>0.0</td>\n",
       "      <td>0.0</td>\n",
       "      <td>0.0</td>\n",
       "      <td>0.0</td>\n",
       "      <td>0.0</td>\n",
       "      <td>0.0</td>\n",
       "      <td>0.0</td>\n",
       "      <td>0.0</td>\n",
       "      <td>0.0</td>\n",
       "      <td>0.0</td>\n",
       "      <td>0.0</td>\n",
       "      <td>1.0</td>\n",
       "      <td>1.0</td>\n",
       "      <td>0.0</td>\n",
       "      <td>0.0</td>\n",
       "      <td>0.0</td>\n",
       "    </tr>\n",
       "    <tr>\n",
       "      <th>3</th>\n",
       "      <td>7.0</td>\n",
       "      <td>11.0</td>\n",
       "      <td>0.0</td>\n",
       "      <td>0.0</td>\n",
       "      <td>0.0</td>\n",
       "      <td>0.0</td>\n",
       "      <td>1.0</td>\n",
       "      <td>0.0</td>\n",
       "      <td>0.0</td>\n",
       "      <td>0.0</td>\n",
       "      <td>0.0</td>\n",
       "      <td>0.0</td>\n",
       "      <td>0.0</td>\n",
       "      <td>0.0</td>\n",
       "      <td>0.0</td>\n",
       "      <td>0.0</td>\n",
       "      <td>1.0</td>\n",
       "      <td>0.0</td>\n",
       "      <td>0.0</td>\n",
       "      <td>0.0</td>\n",
       "      <td>0.0</td>\n",
       "      <td>0.0</td>\n",
       "      <td>0.0</td>\n",
       "      <td>0.0</td>\n",
       "      <td>0.0</td>\n",
       "      <td>0.0</td>\n",
       "      <td>0.0</td>\n",
       "      <td>1.0</td>\n",
       "      <td>1.0</td>\n",
       "      <td>0.0</td>\n",
       "      <td>0.0</td>\n",
       "      <td>0.0</td>\n",
       "    </tr>\n",
       "    <tr>\n",
       "      <th>4</th>\n",
       "      <td>3.0</td>\n",
       "      <td>6.0</td>\n",
       "      <td>0.0</td>\n",
       "      <td>0.0</td>\n",
       "      <td>0.0</td>\n",
       "      <td>0.0</td>\n",
       "      <td>1.0</td>\n",
       "      <td>0.0</td>\n",
       "      <td>0.0</td>\n",
       "      <td>0.0</td>\n",
       "      <td>0.0</td>\n",
       "      <td>0.0</td>\n",
       "      <td>0.0</td>\n",
       "      <td>0.0</td>\n",
       "      <td>0.0</td>\n",
       "      <td>0.0</td>\n",
       "      <td>1.0</td>\n",
       "      <td>0.0</td>\n",
       "      <td>0.0</td>\n",
       "      <td>0.0</td>\n",
       "      <td>0.0</td>\n",
       "      <td>0.0</td>\n",
       "      <td>0.0</td>\n",
       "      <td>0.0</td>\n",
       "      <td>1.0</td>\n",
       "      <td>0.0</td>\n",
       "      <td>0.0</td>\n",
       "      <td>0.0</td>\n",
       "      <td>1.0</td>\n",
       "      <td>0.0</td>\n",
       "      <td>0.0</td>\n",
       "      <td>0.0</td>\n",
       "    </tr>\n",
       "    <tr>\n",
       "      <th>...</th>\n",
       "      <td>...</td>\n",
       "      <td>...</td>\n",
       "      <td>...</td>\n",
       "      <td>...</td>\n",
       "      <td>...</td>\n",
       "      <td>...</td>\n",
       "      <td>...</td>\n",
       "      <td>...</td>\n",
       "      <td>...</td>\n",
       "      <td>...</td>\n",
       "      <td>...</td>\n",
       "      <td>...</td>\n",
       "      <td>...</td>\n",
       "      <td>...</td>\n",
       "      <td>...</td>\n",
       "      <td>...</td>\n",
       "      <td>...</td>\n",
       "      <td>...</td>\n",
       "      <td>...</td>\n",
       "      <td>...</td>\n",
       "      <td>...</td>\n",
       "      <td>...</td>\n",
       "      <td>...</td>\n",
       "      <td>...</td>\n",
       "      <td>...</td>\n",
       "      <td>...</td>\n",
       "      <td>...</td>\n",
       "      <td>...</td>\n",
       "      <td>...</td>\n",
       "      <td>...</td>\n",
       "      <td>...</td>\n",
       "      <td>...</td>\n",
       "    </tr>\n",
       "    <tr>\n",
       "      <th>71507</th>\n",
       "      <td>8.0</td>\n",
       "      <td>16.0</td>\n",
       "      <td>0.0</td>\n",
       "      <td>0.0</td>\n",
       "      <td>1.0</td>\n",
       "      <td>0.0</td>\n",
       "      <td>0.0</td>\n",
       "      <td>0.0</td>\n",
       "      <td>0.0</td>\n",
       "      <td>0.0</td>\n",
       "      <td>0.0</td>\n",
       "      <td>0.0</td>\n",
       "      <td>0.0</td>\n",
       "      <td>0.0</td>\n",
       "      <td>0.0</td>\n",
       "      <td>0.0</td>\n",
       "      <td>0.0</td>\n",
       "      <td>0.0</td>\n",
       "      <td>0.0</td>\n",
       "      <td>0.0</td>\n",
       "      <td>1.0</td>\n",
       "      <td>0.0</td>\n",
       "      <td>0.0</td>\n",
       "      <td>0.0</td>\n",
       "      <td>0.0</td>\n",
       "      <td>0.0</td>\n",
       "      <td>1.0</td>\n",
       "      <td>0.0</td>\n",
       "      <td>0.0</td>\n",
       "      <td>0.0</td>\n",
       "      <td>1.0</td>\n",
       "      <td>0.0</td>\n",
       "    </tr>\n",
       "    <tr>\n",
       "      <th>71508</th>\n",
       "      <td>7.0</td>\n",
       "      <td>14.0</td>\n",
       "      <td>0.0</td>\n",
       "      <td>0.0</td>\n",
       "      <td>1.0</td>\n",
       "      <td>0.0</td>\n",
       "      <td>0.0</td>\n",
       "      <td>0.0</td>\n",
       "      <td>0.0</td>\n",
       "      <td>0.0</td>\n",
       "      <td>0.0</td>\n",
       "      <td>0.0</td>\n",
       "      <td>0.0</td>\n",
       "      <td>1.0</td>\n",
       "      <td>0.0</td>\n",
       "      <td>0.0</td>\n",
       "      <td>0.0</td>\n",
       "      <td>0.0</td>\n",
       "      <td>0.0</td>\n",
       "      <td>0.0</td>\n",
       "      <td>0.0</td>\n",
       "      <td>0.0</td>\n",
       "      <td>0.0</td>\n",
       "      <td>0.0</td>\n",
       "      <td>0.0</td>\n",
       "      <td>0.0</td>\n",
       "      <td>0.0</td>\n",
       "      <td>1.0</td>\n",
       "      <td>0.0</td>\n",
       "      <td>0.0</td>\n",
       "      <td>1.0</td>\n",
       "      <td>0.0</td>\n",
       "    </tr>\n",
       "    <tr>\n",
       "      <th>71509</th>\n",
       "      <td>5.0</td>\n",
       "      <td>10.0</td>\n",
       "      <td>0.0</td>\n",
       "      <td>0.0</td>\n",
       "      <td>1.0</td>\n",
       "      <td>0.0</td>\n",
       "      <td>0.0</td>\n",
       "      <td>0.0</td>\n",
       "      <td>0.0</td>\n",
       "      <td>0.0</td>\n",
       "      <td>0.0</td>\n",
       "      <td>0.0</td>\n",
       "      <td>0.0</td>\n",
       "      <td>0.0</td>\n",
       "      <td>0.0</td>\n",
       "      <td>0.0</td>\n",
       "      <td>0.0</td>\n",
       "      <td>1.0</td>\n",
       "      <td>0.0</td>\n",
       "      <td>0.0</td>\n",
       "      <td>0.0</td>\n",
       "      <td>0.0</td>\n",
       "      <td>0.0</td>\n",
       "      <td>0.0</td>\n",
       "      <td>0.0</td>\n",
       "      <td>0.0</td>\n",
       "      <td>0.0</td>\n",
       "      <td>1.0</td>\n",
       "      <td>0.0</td>\n",
       "      <td>0.0</td>\n",
       "      <td>1.0</td>\n",
       "      <td>0.0</td>\n",
       "    </tr>\n",
       "    <tr>\n",
       "      <th>71510</th>\n",
       "      <td>5.0</td>\n",
       "      <td>10.0</td>\n",
       "      <td>0.0</td>\n",
       "      <td>0.0</td>\n",
       "      <td>1.0</td>\n",
       "      <td>0.0</td>\n",
       "      <td>0.0</td>\n",
       "      <td>0.0</td>\n",
       "      <td>0.0</td>\n",
       "      <td>0.0</td>\n",
       "      <td>0.0</td>\n",
       "      <td>0.0</td>\n",
       "      <td>0.0</td>\n",
       "      <td>0.0</td>\n",
       "      <td>0.0</td>\n",
       "      <td>0.0</td>\n",
       "      <td>0.0</td>\n",
       "      <td>1.0</td>\n",
       "      <td>0.0</td>\n",
       "      <td>0.0</td>\n",
       "      <td>0.0</td>\n",
       "      <td>0.0</td>\n",
       "      <td>0.0</td>\n",
       "      <td>0.0</td>\n",
       "      <td>1.0</td>\n",
       "      <td>0.0</td>\n",
       "      <td>0.0</td>\n",
       "      <td>0.0</td>\n",
       "      <td>0.0</td>\n",
       "      <td>0.0</td>\n",
       "      <td>1.0</td>\n",
       "      <td>0.0</td>\n",
       "    </tr>\n",
       "    <tr>\n",
       "      <th>71511</th>\n",
       "      <td>9.0</td>\n",
       "      <td>16.0</td>\n",
       "      <td>0.0</td>\n",
       "      <td>0.0</td>\n",
       "      <td>1.0</td>\n",
       "      <td>0.0</td>\n",
       "      <td>0.0</td>\n",
       "      <td>0.0</td>\n",
       "      <td>0.0</td>\n",
       "      <td>0.0</td>\n",
       "      <td>0.0</td>\n",
       "      <td>0.0</td>\n",
       "      <td>0.0</td>\n",
       "      <td>0.0</td>\n",
       "      <td>0.0</td>\n",
       "      <td>0.0</td>\n",
       "      <td>1.0</td>\n",
       "      <td>0.0</td>\n",
       "      <td>0.0</td>\n",
       "      <td>0.0</td>\n",
       "      <td>0.0</td>\n",
       "      <td>0.0</td>\n",
       "      <td>0.0</td>\n",
       "      <td>0.0</td>\n",
       "      <td>1.0</td>\n",
       "      <td>0.0</td>\n",
       "      <td>0.0</td>\n",
       "      <td>0.0</td>\n",
       "      <td>0.0</td>\n",
       "      <td>0.0</td>\n",
       "      <td>1.0</td>\n",
       "      <td>0.0</td>\n",
       "    </tr>\n",
       "  </tbody>\n",
       "</table>\n",
       "<p>71512 rows × 32 columns</p>\n",
       "</div>"
      ],
      "text/plain": [
       "       Min Delay  Min Gap  Friday  Monday  ...  afternoon  evening  morning  night\n",
       "0            4.0      8.0     0.0     0.0  ...        0.0      0.0      1.0    0.0\n",
       "1           20.0     22.0     0.0     0.0  ...        1.0      0.0      0.0    0.0\n",
       "2           13.0     19.0     0.0     0.0  ...        1.0      0.0      0.0    0.0\n",
       "3            7.0     11.0     0.0     0.0  ...        1.0      0.0      0.0    0.0\n",
       "4            3.0      6.0     0.0     0.0  ...        1.0      0.0      0.0    0.0\n",
       "...          ...      ...     ...     ...  ...        ...      ...      ...    ...\n",
       "71507        8.0     16.0     0.0     0.0  ...        0.0      0.0      1.0    0.0\n",
       "71508        7.0     14.0     0.0     0.0  ...        0.0      0.0      1.0    0.0\n",
       "71509        5.0     10.0     0.0     0.0  ...        0.0      0.0      1.0    0.0\n",
       "71510        5.0     10.0     0.0     0.0  ...        0.0      0.0      1.0    0.0\n",
       "71511        9.0     16.0     0.0     0.0  ...        0.0      0.0      1.0    0.0\n",
       "\n",
       "[71512 rows x 32 columns]"
      ]
     },
     "execution_count": 31,
     "metadata": {
      "tags": []
     },
     "output_type": "execute_result"
    }
   ],
   "source": [
    "df"
   ]
  },
  {
   "cell_type": "markdown",
   "metadata": {
    "id": "l2ElTB_rKLvQ"
   },
   "source": [
    "## Need to do feature scaling for Min Gap column feature"
   ]
  },
  {
   "cell_type": "code",
   "execution_count": null,
   "metadata": {
    "colab": {
     "base_uri": "https://localhost:8080/"
    },
    "id": "Fy3L4ucvKCl8",
    "outputId": "2bf7a290-399c-48c4-fd8a-f140c52913ae"
   },
   "outputs": [
    {
     "name": "stdout",
     "output_type": "stream",
     "text": [
      "18.13560073354417\n",
      "33.68768666213863\n"
     ]
    }
   ],
   "source": [
    "# Feature Standardization, which means changing between -1 and 1, such that algorithm can coverge swiftly\n",
    "min_gap_train_mean = np.mean(df[\"Min Gap\"])\n",
    "min_gap_train_std = np.std(df[\"Min Gap\"])\n",
    "print(min_gap_train_mean)\n",
    "print(min_gap_train_std)\n",
    "\n",
    "def min_gap_scaler(df):\n",
    "  df[\"Min Gap\"] = (df[\"Min Gap\"]-min_gap_train_mean)/min_gap_train_std\n",
    "  return df"
   ]
  },
  {
   "cell_type": "code",
   "execution_count": null,
   "metadata": {
    "id": "xViZGRyxKrvm"
   },
   "outputs": [],
   "source": [
    "df = min_gap_scaler(df)"
   ]
  },
  {
   "cell_type": "code",
   "execution_count": null,
   "metadata": {
    "colab": {
     "base_uri": "https://localhost:8080/",
     "height": 241
    },
    "id": "VzjEVpAoK75J",
    "outputId": "a5fa7a53-d1c8-4e5f-e1a1-245a64031a45"
   },
   "outputs": [
    {
     "data": {
      "text/html": [
       "<div>\n",
       "<style scoped>\n",
       "    .dataframe tbody tr th:only-of-type {\n",
       "        vertical-align: middle;\n",
       "    }\n",
       "\n",
       "    .dataframe tbody tr th {\n",
       "        vertical-align: top;\n",
       "    }\n",
       "\n",
       "    .dataframe thead th {\n",
       "        text-align: right;\n",
       "    }\n",
       "</style>\n",
       "<table border=\"1\" class=\"dataframe\">\n",
       "  <thead>\n",
       "    <tr style=\"text-align: right;\">\n",
       "      <th></th>\n",
       "      <th>Min Delay</th>\n",
       "      <th>Min Gap</th>\n",
       "      <th>Friday</th>\n",
       "      <th>Monday</th>\n",
       "      <th>Saturday</th>\n",
       "      <th>Sunday</th>\n",
       "      <th>Thursday</th>\n",
       "      <th>Tuesday</th>\n",
       "      <th>Wednesday</th>\n",
       "      <th>301</th>\n",
       "      <th>304</th>\n",
       "      <th>306</th>\n",
       "      <th>310</th>\n",
       "      <th>501</th>\n",
       "      <th>502</th>\n",
       "      <th>503</th>\n",
       "      <th>504</th>\n",
       "      <th>505</th>\n",
       "      <th>506</th>\n",
       "      <th>509</th>\n",
       "      <th>510</th>\n",
       "      <th>511</th>\n",
       "      <th>512</th>\n",
       "      <th>bw</th>\n",
       "      <th>eb</th>\n",
       "      <th>nb</th>\n",
       "      <th>sb</th>\n",
       "      <th>wb</th>\n",
       "      <th>afternoon</th>\n",
       "      <th>evening</th>\n",
       "      <th>morning</th>\n",
       "      <th>night</th>\n",
       "    </tr>\n",
       "  </thead>\n",
       "  <tbody>\n",
       "    <tr>\n",
       "      <th>0</th>\n",
       "      <td>4.0</td>\n",
       "      <td>-0.300870</td>\n",
       "      <td>0.0</td>\n",
       "      <td>0.0</td>\n",
       "      <td>0.0</td>\n",
       "      <td>0.0</td>\n",
       "      <td>1.0</td>\n",
       "      <td>0.0</td>\n",
       "      <td>0.0</td>\n",
       "      <td>0.0</td>\n",
       "      <td>0.0</td>\n",
       "      <td>0.0</td>\n",
       "      <td>0.0</td>\n",
       "      <td>0.0</td>\n",
       "      <td>0.0</td>\n",
       "      <td>0.0</td>\n",
       "      <td>0.0</td>\n",
       "      <td>1.0</td>\n",
       "      <td>0.0</td>\n",
       "      <td>0.0</td>\n",
       "      <td>0.0</td>\n",
       "      <td>0.0</td>\n",
       "      <td>0.0</td>\n",
       "      <td>0.0</td>\n",
       "      <td>1.0</td>\n",
       "      <td>0.0</td>\n",
       "      <td>0.0</td>\n",
       "      <td>0.0</td>\n",
       "      <td>0.0</td>\n",
       "      <td>0.0</td>\n",
       "      <td>1.0</td>\n",
       "      <td>0.0</td>\n",
       "    </tr>\n",
       "    <tr>\n",
       "      <th>1</th>\n",
       "      <td>20.0</td>\n",
       "      <td>0.114713</td>\n",
       "      <td>0.0</td>\n",
       "      <td>0.0</td>\n",
       "      <td>0.0</td>\n",
       "      <td>0.0</td>\n",
       "      <td>1.0</td>\n",
       "      <td>0.0</td>\n",
       "      <td>0.0</td>\n",
       "      <td>0.0</td>\n",
       "      <td>0.0</td>\n",
       "      <td>0.0</td>\n",
       "      <td>0.0</td>\n",
       "      <td>0.0</td>\n",
       "      <td>0.0</td>\n",
       "      <td>0.0</td>\n",
       "      <td>1.0</td>\n",
       "      <td>0.0</td>\n",
       "      <td>0.0</td>\n",
       "      <td>0.0</td>\n",
       "      <td>0.0</td>\n",
       "      <td>0.0</td>\n",
       "      <td>0.0</td>\n",
       "      <td>0.0</td>\n",
       "      <td>1.0</td>\n",
       "      <td>0.0</td>\n",
       "      <td>0.0</td>\n",
       "      <td>0.0</td>\n",
       "      <td>1.0</td>\n",
       "      <td>0.0</td>\n",
       "      <td>0.0</td>\n",
       "      <td>0.0</td>\n",
       "    </tr>\n",
       "    <tr>\n",
       "      <th>2</th>\n",
       "      <td>13.0</td>\n",
       "      <td>0.025659</td>\n",
       "      <td>0.0</td>\n",
       "      <td>0.0</td>\n",
       "      <td>0.0</td>\n",
       "      <td>0.0</td>\n",
       "      <td>1.0</td>\n",
       "      <td>0.0</td>\n",
       "      <td>0.0</td>\n",
       "      <td>0.0</td>\n",
       "      <td>0.0</td>\n",
       "      <td>0.0</td>\n",
       "      <td>0.0</td>\n",
       "      <td>1.0</td>\n",
       "      <td>0.0</td>\n",
       "      <td>0.0</td>\n",
       "      <td>0.0</td>\n",
       "      <td>0.0</td>\n",
       "      <td>0.0</td>\n",
       "      <td>0.0</td>\n",
       "      <td>0.0</td>\n",
       "      <td>0.0</td>\n",
       "      <td>0.0</td>\n",
       "      <td>0.0</td>\n",
       "      <td>0.0</td>\n",
       "      <td>0.0</td>\n",
       "      <td>0.0</td>\n",
       "      <td>1.0</td>\n",
       "      <td>1.0</td>\n",
       "      <td>0.0</td>\n",
       "      <td>0.0</td>\n",
       "      <td>0.0</td>\n",
       "    </tr>\n",
       "    <tr>\n",
       "      <th>3</th>\n",
       "      <td>7.0</td>\n",
       "      <td>-0.211816</td>\n",
       "      <td>0.0</td>\n",
       "      <td>0.0</td>\n",
       "      <td>0.0</td>\n",
       "      <td>0.0</td>\n",
       "      <td>1.0</td>\n",
       "      <td>0.0</td>\n",
       "      <td>0.0</td>\n",
       "      <td>0.0</td>\n",
       "      <td>0.0</td>\n",
       "      <td>0.0</td>\n",
       "      <td>0.0</td>\n",
       "      <td>0.0</td>\n",
       "      <td>0.0</td>\n",
       "      <td>0.0</td>\n",
       "      <td>1.0</td>\n",
       "      <td>0.0</td>\n",
       "      <td>0.0</td>\n",
       "      <td>0.0</td>\n",
       "      <td>0.0</td>\n",
       "      <td>0.0</td>\n",
       "      <td>0.0</td>\n",
       "      <td>0.0</td>\n",
       "      <td>0.0</td>\n",
       "      <td>0.0</td>\n",
       "      <td>0.0</td>\n",
       "      <td>1.0</td>\n",
       "      <td>1.0</td>\n",
       "      <td>0.0</td>\n",
       "      <td>0.0</td>\n",
       "      <td>0.0</td>\n",
       "    </tr>\n",
       "    <tr>\n",
       "      <th>4</th>\n",
       "      <td>3.0</td>\n",
       "      <td>-0.360238</td>\n",
       "      <td>0.0</td>\n",
       "      <td>0.0</td>\n",
       "      <td>0.0</td>\n",
       "      <td>0.0</td>\n",
       "      <td>1.0</td>\n",
       "      <td>0.0</td>\n",
       "      <td>0.0</td>\n",
       "      <td>0.0</td>\n",
       "      <td>0.0</td>\n",
       "      <td>0.0</td>\n",
       "      <td>0.0</td>\n",
       "      <td>0.0</td>\n",
       "      <td>0.0</td>\n",
       "      <td>0.0</td>\n",
       "      <td>1.0</td>\n",
       "      <td>0.0</td>\n",
       "      <td>0.0</td>\n",
       "      <td>0.0</td>\n",
       "      <td>0.0</td>\n",
       "      <td>0.0</td>\n",
       "      <td>0.0</td>\n",
       "      <td>0.0</td>\n",
       "      <td>1.0</td>\n",
       "      <td>0.0</td>\n",
       "      <td>0.0</td>\n",
       "      <td>0.0</td>\n",
       "      <td>1.0</td>\n",
       "      <td>0.0</td>\n",
       "      <td>0.0</td>\n",
       "      <td>0.0</td>\n",
       "    </tr>\n",
       "  </tbody>\n",
       "</table>\n",
       "</div>"
      ],
      "text/plain": [
       "   Min Delay   Min Gap  Friday  Monday  ...  afternoon  evening  morning  night\n",
       "0        4.0 -0.300870     0.0     0.0  ...        0.0      0.0      1.0    0.0\n",
       "1       20.0  0.114713     0.0     0.0  ...        1.0      0.0      0.0    0.0\n",
       "2       13.0  0.025659     0.0     0.0  ...        1.0      0.0      0.0    0.0\n",
       "3        7.0 -0.211816     0.0     0.0  ...        1.0      0.0      0.0    0.0\n",
       "4        3.0 -0.360238     0.0     0.0  ...        1.0      0.0      0.0    0.0\n",
       "\n",
       "[5 rows x 32 columns]"
      ]
     },
     "execution_count": 34,
     "metadata": {
      "tags": []
     },
     "output_type": "execute_result"
    }
   ],
   "source": [
    "df.head()"
   ]
  },
  {
   "cell_type": "markdown",
   "metadata": {
    "id": "KaN7s7uIOSWZ"
   },
   "source": [
    "# The data is ready for training"
   ]
  },
  {
   "cell_type": "code",
   "execution_count": null,
   "metadata": {
    "id": "Bzr8Km2aOaIv"
   },
   "outputs": [],
   "source": [
    "def complete_data_preprocessing(df):\n",
    "  # This function is for test set\n",
    "  df = complete_cleaner(df)\n",
    "  df = one_hot_encoder(df) # one hot encoder based on training samples\n",
    "  df = min_gap_scaler(df) # feature scaler based on training sample\n",
    "  print(\"------------------------\")\n",
    "  if df.isnull().values.any():\n",
    "    print(\"There are some null values\")\n",
    "  else:\n",
    "    print(\"Data is ready for testing\")\n",
    "  return df"
   ]
  },
  {
   "cell_type": "code",
   "execution_count": null,
   "metadata": {
    "colab": {
     "base_uri": "https://localhost:8080/"
    },
    "id": "MgL0M3r8QWn9",
    "outputId": "4f46de93-2c58-4569-cfab-31b313784965"
   },
   "outputs": [
    {
     "name": "stdout",
     "output_type": "stream",
     "text": [
      "------------------------\n",
      "Data is ready for testing\n"
     ]
    },
    {
     "name": "stderr",
     "output_type": "stream",
     "text": [
      "/usr/local/lib/python3.7/dist-packages/ipykernel_launcher.py:16: SettingWithCopyWarning: \n",
      "A value is trying to be set on a copy of a slice from a DataFrame.\n",
      "Try using .loc[row_indexer,col_indexer] = value instead\n",
      "\n",
      "See the caveats in the documentation: https://pandas.pydata.org/pandas-docs/stable/user_guide/indexing.html#returning-a-view-versus-a-copy\n",
      "  app.launch_new_instance()\n",
      "/usr/local/lib/python3.7/dist-packages/ipykernel_launcher.py:18: SettingWithCopyWarning: \n",
      "A value is trying to be set on a copy of a slice from a DataFrame.\n",
      "Try using .loc[row_indexer,col_indexer] = value instead\n",
      "\n",
      "See the caveats in the documentation: https://pandas.pydata.org/pandas-docs/stable/user_guide/indexing.html#returning-a-view-versus-a-copy\n"
     ]
    }
   ],
   "source": [
    "processed_test_data = complete_data_preprocessing(test_df)"
   ]
  },
  {
   "cell_type": "markdown",
   "metadata": {
    "id": "giTds8WV0j9c"
   },
   "source": [
    "### The regression results function computes the different metrics like r2 score, MAE, and RMSE."
   ]
  },
  {
   "cell_type": "code",
   "execution_count": null,
   "metadata": {
    "id": "zLWLFP_cK8xy"
   },
   "outputs": [],
   "source": [
    "import sklearn.metrics as metrics\n",
    "def regression_results(y_true, y_pred):\n",
    "    # Regression metrics\n",
    "    mean_absolute_error=metrics.mean_absolute_error(y_true, y_pred) \n",
    "    mse=metrics.mean_squared_error(y_true, y_pred) \n",
    "    r2 = metrics.r2_score(y_true, y_pred)\n",
    "    print(\"R2:\", round(r2, 4))\n",
    "    print('MAE: ', round(mean_absolute_error,4))\n",
    "    print('RMSE: ', round(np.sqrt(mse),4))"
   ]
  },
  {
   "cell_type": "code",
   "execution_count": null,
   "metadata": {
    "id": "3kfS2gCGR7Zq"
   },
   "outputs": [],
   "source": [
    "# Selected features for model training\n",
    "selected_features = list(df.columns)\n",
    "selected_features.remove(\"Min Delay\")\n",
    "target = \"Min Delay\""
   ]
  },
  {
   "cell_type": "markdown",
   "metadata": {
    "id": "2UYuEPIFY3OY"
   },
   "source": [
    "Training and validation dataset will be used throughout the model selection and fine tuning process\n",
    "\n",
    "_Final test set has been kept seperate, it will be used only after the model is finalized._\n"
   ]
  },
  {
   "cell_type": "code",
   "execution_count": null,
   "metadata": {
    "id": "f6OSczrdQye5"
   },
   "outputs": [],
   "source": [
    "X = df[selected_features]\n",
    "y = df[target]\n",
    "X_train, X_val, y_train, y_val = train_test_split(X, y, test_size=0.1, random_state=42)"
   ]
  },
  {
   "cell_type": "code",
   "execution_count": null,
   "metadata": {
    "id": "d63y3hrKXGzC"
   },
   "outputs": [],
   "source": [
    "def evaluate_model(model):\n",
    "  print(\"Training Regression results:\")\n",
    "  regression_results(y_train, model.predict(X_train))\n",
    "  print(\"\\n\")\n",
    "  print(\"Validation Regression results\")\n",
    "  regression_results(y_val, model.predict(X_val)) "
   ]
  },
  {
   "cell_type": "markdown",
   "metadata": {
    "id": "62M6gb_VZTRn"
   },
   "source": [
    "_____\n",
    "Model 1 - Simple linear regression"
   ]
  },
  {
   "cell_type": "code",
   "execution_count": null,
   "metadata": {
    "colab": {
     "base_uri": "https://localhost:8080/"
    },
    "id": "dAWIC442XFSQ",
    "outputId": "ed5433e1-f508-4dc2-adb8-7af67077b18c"
   },
   "outputs": [
    {
     "name": "stdout",
     "output_type": "stream",
     "text": [
      "Linear regression results\n",
      "Training Regression results:\n",
      "R2: 0.6239\n",
      "MAE:  3.9846\n",
      "RMSE:  18.5552\n",
      "\n",
      "\n",
      "Validation Regression results\n",
      "R2: 0.8012\n",
      "MAE:  3.799\n",
      "RMSE:  11.0773\n"
     ]
    }
   ],
   "source": [
    "lin_reg = LinearRegression()\n",
    "lin_reg.fit(X_train, y_train)\n",
    "print(\"Linear regression results\")\n",
    "evaluate_model(lin_reg)"
   ]
  },
  {
   "cell_type": "markdown",
   "metadata": {
    "id": "AvZW4h1IdN7r"
   },
   "source": [
    "_____\n",
    "Model 2 - Polynomial regression of degree 2"
   ]
  },
  {
   "cell_type": "code",
   "execution_count": null,
   "metadata": {
    "colab": {
     "base_uri": "https://localhost:8080/"
    },
    "id": "Cvu8z_wGZM_b",
    "outputId": "1e83e3e9-86ab-4ea8-a989-2b709c492113"
   },
   "outputs": [
    {
     "name": "stdout",
     "output_type": "stream",
     "text": [
      "Training polynomial Regression of degree 2 results:\n",
      "R2: 0.8298\n",
      "MAE:  2.9791\n",
      "RMSE:  12.4826\n",
      "\n",
      "\n",
      "Validation polynomial Regression of degree 2 results\n",
      "R2: 0.852\n",
      "MAE:  2.9469\n",
      "RMSE:  9.558\n"
     ]
    }
   ],
   "source": [
    "poly_2 = PolynomialFeatures(degree = 2) \n",
    "X_poly_2 = poly_2.fit_transform(X)\n",
    "poly_2.fit(X_poly_2, y) \n",
    "\n",
    "X_poly_2_train, X_poly_2_val, y_train_poly_2, y_val_poly_2 = train_test_split(\n",
    "    X_poly_2, \n",
    "    y, \n",
    "    test_size=0.1,\n",
    "    random_state=42) \n",
    "\n",
    "reg_2 = LinearRegression()\n",
    "reg_2.fit(X_poly_2_train, y_train_poly_2)\n",
    "\n",
    "print(\"Training polynomial Regression of degree 2 results:\")\n",
    "regression_results(y_train_poly_2, reg_2.predict(X_poly_2_train))\n",
    "print(\"\\n\")\n",
    "print(\"Validation polynomial Regression of degree 2 results\")\n",
    "regression_results(y_val_poly_2, reg_2.predict(X_poly_2_val))"
   ]
  },
  {
   "cell_type": "markdown",
   "metadata": {
    "id": "-7V47GJBdSGp"
   },
   "source": [
    "_____\n",
    "Model 3 - Bayesian regression "
   ]
  },
  {
   "cell_type": "code",
   "execution_count": null,
   "metadata": {
    "colab": {
     "base_uri": "https://localhost:8080/"
    },
    "id": "H07BEmyzdJsM",
    "outputId": "1044ae6e-8180-4650-efa8-49798413f1c0"
   },
   "outputs": [
    {
     "name": "stdout",
     "output_type": "stream",
     "text": [
      "Bayesian regression results\n",
      "Training Regression results:\n",
      "R2: 0.6239\n",
      "MAE:  3.9854\n",
      "RMSE:  18.5552\n",
      "\n",
      "\n",
      "Validation Regression results\n",
      "R2: 0.8011\n",
      "MAE:  3.7998\n",
      "RMSE:  11.0804\n"
     ]
    }
   ],
   "source": [
    "from sklearn import linear_model\n",
    "X_train, X_val, y_train, y_val = train_test_split(X, y, test_size=0.1, random_state=42)\n",
    "\n",
    "BayReg = linear_model.BayesianRidge()\n",
    "BayReg.fit(X_train, y_train)\n",
    "print(\"Bayesian regression results\")\n",
    "evaluate_model(BayReg)"
   ]
  },
  {
   "cell_type": "markdown",
   "metadata": {
    "id": "_C3EZ3h0gKhV"
   },
   "source": [
    "_____\n",
    "Model 4 - SVM Regressor "
   ]
  },
  {
   "cell_type": "code",
   "execution_count": null,
   "metadata": {
    "id": "1Gdryw8Xff23"
   },
   "outputs": [],
   "source": [
    "# It takes forever to train, waiter for more then 20 minutes, but still \n",
    "# no results were given so, terminated \n",
    "\n",
    "# from sklearn.svm import SVR\n",
    "# X_train, X_val, y_train, y_val = train_test_split(X, y, test_size=0.1, random_state=42)\n",
    "# svr = SVR(kernel='poly', C=1.0, epsilon=0.2)\n",
    "# svr.fit(X_train, y_train)\n",
    "# print(\"SVM regression results\")\n",
    "# evaluate_model(svr)\n",
    "\n",
    "# SVM regressor took forever to train, so terminated it in the middle of training.\n",
    "# SVM regressor not suitable for this task"
   ]
  },
  {
   "cell_type": "markdown",
   "metadata": {
    "id": "pKjxdb4Ghlpn"
   },
   "source": [
    "_____\n",
    "Model 5 - Random Forest"
   ]
  },
  {
   "cell_type": "code",
   "execution_count": null,
   "metadata": {
    "colab": {
     "base_uri": "https://localhost:8080/"
    },
    "id": "f0I6lZIjgAfk",
    "outputId": "768bd339-b7f5-427e-85fb-2be9750fa3a9"
   },
   "outputs": [
    {
     "name": "stdout",
     "output_type": "stream",
     "text": [
      "Random Forest regression results\n",
      "Training Regression results:\n",
      "R2: 0.9382\n",
      "MAE:  1.3267\n",
      "RMSE:  7.523\n",
      "\n",
      "\n",
      "Validation Regression results\n",
      "R2: 0.7878\n",
      "MAE:  2.3279\n",
      "RMSE:  11.4465\n"
     ]
    }
   ],
   "source": [
    "from sklearn.ensemble import RandomForestRegressor\n",
    "X_train, X_val, y_train, y_val = train_test_split(X, y, test_size=0.1, random_state=42)\n",
    "rf = RandomForestRegressor(random_state=42)\n",
    "rf.fit(X_train, y_train)\n",
    "print(\"Random Forest regression results\")\n",
    "evaluate_model(rf)"
   ]
  },
  {
   "cell_type": "markdown",
   "metadata": {
    "id": "GvwQ6UbahoDS"
   },
   "source": [
    "_____\n",
    "Model 6 - Neural Network"
   ]
  },
  {
   "cell_type": "code",
   "execution_count": null,
   "metadata": {
    "colab": {
     "base_uri": "https://localhost:8080/"
    },
    "id": "_DLI-OnEhWLA",
    "outputId": "41c7a5a5-4913-4569-c770-c616b6bf6639"
   },
   "outputs": [
    {
     "name": "stdout",
     "output_type": "stream",
     "text": [
      "Neural network regression results\n",
      "Training Regression results:\n",
      "R2: 0.8424\n",
      "MAE:  2.7425\n",
      "RMSE:  12.0125\n",
      "\n",
      "\n",
      "Validation Regression results\n",
      "R2: 0.8636\n",
      "MAE:  2.6741\n",
      "RMSE:  9.177\n"
     ]
    }
   ],
   "source": [
    "from sklearn.neural_network import MLPRegressor\n",
    "X_train, X_val, y_train, y_val = train_test_split(X, y, test_size=0.1, random_state=42)\n",
    "nn = MLPRegressor(random_state=1, max_iter=500).fit(X_train, y_train)\n",
    "print(\"Neural network regression results\")\n",
    "evaluate_model(nn)"
   ]
  },
  {
   "cell_type": "markdown",
   "metadata": {
    "id": "5fZwhDKu_s7R"
   },
   "source": [
    "_____\n",
    "Model 7 - XGBoost"
   ]
  },
  {
   "cell_type": "code",
   "execution_count": null,
   "metadata": {
    "colab": {
     "base_uri": "https://localhost:8080/"
    },
    "id": "dZe8VD93_Bet",
    "outputId": "ba145fc8-c3dc-43b4-f53d-aef0937bd7a6"
   },
   "outputs": [
    {
     "name": "stdout",
     "output_type": "stream",
     "text": [
      "Gradient Boosting network regression results\n",
      "Training Regression results:\n",
      "R2: 0.876\n",
      "MAE:  2.1704\n",
      "RMSE:  10.6554\n",
      "\n",
      "\n",
      "Validation Regression results\n",
      "R2: 0.8709\n",
      "MAE:  2.1503\n",
      "RMSE:  8.9268\n"
     ]
    }
   ],
   "source": [
    "from sklearn.ensemble import GradientBoostingRegressor\n",
    "X_train, X_val, y_train, y_val = train_test_split(X, y, test_size=0.1, random_state=42)\n",
    "boost = GradientBoostingRegressor().fit(X_train, y_train)\n",
    "print(\"Gradient Boosting network regression results\")\n",
    "evaluate_model(boost)"
   ]
  },
  {
   "cell_type": "markdown",
   "metadata": {
    "id": "_WtyQdDA-9FO"
   },
   "source": [
    "# K-Fold Cross validation"
   ]
  },
  {
   "cell_type": "markdown",
   "metadata": {
    "id": "O5JMNqEz3zG6"
   },
   "source": [
    "## Cross validation function for model training"
   ]
  },
  {
   "cell_type": "code",
   "execution_count": null,
   "metadata": {
    "id": "cchjyoL1pn9-"
   },
   "outputs": [],
   "source": [
    "def cross_validation(model, X, y, n=10): # default 10 splits\n",
    "  from sklearn.model_selection import KFold\n",
    "  kf = KFold(n_splits=n)\n",
    "  kf.get_n_splits(X)\n",
    "  \n",
    "  train_scores = {}\n",
    "  val_scores = {}\n",
    "  train_scores[\"R2\"], train_scores[\"MAE\"] ,train_scores[\"RMSE\"] = [], [], []\n",
    "  val_scores[\"R2\"], val_scores[\"MAE\"], val_scores[\"RMSE\"] = [], [], [] \n",
    "  model_count = 1                                                    \n",
    "  for train_index, val_index in kf.split(X):\n",
    "\n",
    "    X_train, X_val = X.loc[train_index], X.loc[val_index]\n",
    "    y_train, y_val = y[train_index], y[val_index]\n",
    "    model.fit(X_train, y_train)\n",
    "    print(\"**********************************************\")\n",
    "    print(\"Model {} trained\".format(model_count))\n",
    "    print(\"Training Scores\")\n",
    "    print(\"R2 Score : {} \\t MAE : {} \\t RMSE : {}\".format(round(metrics.r2_score(y_train, model.predict(X_train)),4),\n",
    "                                                          round(metrics.mean_absolute_error(y_train, model.predict(X_train)),4),\n",
    "                                                          round(np.sqrt(metrics.mean_squared_error(y_train, model.predict(X_train))),4)\n",
    "                                                          ))\n",
    "    print(\"Validation Scores\")\n",
    "    print(\"R2 Score : {} \\t MAE : {} \\t RMSE : {}\".format(round(metrics.r2_score(y_val, model.predict(X_val)),4),\n",
    "                                                          round(metrics.mean_absolute_error(y_val, model.predict(X_val)),4),\n",
    "                                                          round(np.sqrt(metrics.mean_squared_error(y_val, model.predict(X_val))),4)\n",
    "                                                          ))\n",
    "    train_scores[\"R2\"].append(round(metrics.r2_score(y_train, model.predict(X_train)),4))\n",
    "    train_scores[\"MAE\"].append(round(metrics.mean_absolute_error(y_train, model.predict(X_train)),4))\n",
    "    train_scores[\"RMSE\"].append(round(np.sqrt(metrics.mean_squared_error(y_train, model.predict(X_train))),4))\n",
    "  \n",
    "    val_scores[\"R2\"].append(round(metrics.r2_score(y_val, model.predict(X_val)),4))\n",
    "    val_scores[\"MAE\"].append(round(metrics.mean_absolute_error(y_val, model.predict(X_val)),4))\n",
    "    val_scores[\"RMSE\"].append(round(np.sqrt(metrics.mean_squared_error(y_val, model.predict(X_val))),4))\n",
    "\n",
    "    \n",
    "    model_count += 1\n",
    "\n",
    "  return train_scores, val_scores\n"
   ]
  },
  {
   "cell_type": "code",
   "execution_count": null,
   "metadata": {
    "id": "z2vAyo97w0kS"
   },
   "outputs": [],
   "source": [
    "def print_results(train_scores, val_scores):\n",
    "  \"\"\"\n",
    "    train_scores, and val_scores should be a dictionary containing R2, MAE and RMSE\n",
    "  \"\"\"\n",
    "  print(\"\\n\")\n",
    "  print(\"Mean and standard deviation of {}-fold cross validation results\".format(len(train_scores[\"R2\"])))\n",
    "  print(\"-----------------------------------------------------------------\")\n",
    "  print(\"Train Mean R2 Score: \\t {} \\t\\t Validation Mean R2 Score: \\t {}\".format(round(np.mean(train_scores[\"R2\"]),4), round(np.mean(val_scores[\"R2\"]),4)))\n",
    "  print(\"Train Std R2 Score: \\t {} \\t\\t Validation Std R2 Score: \\t {}\".format(round(np.std(train_scores[\"R2\"]),4), round(np.std(val_scores[\"R2\"]),4)))\n",
    "  print(\"\\n\")\n",
    "  print(\"Train Mean MAE Score: \\t {} \\t\\t Validation Mean MAE Score: \\t {}\".format(round(np.mean(train_scores[\"MAE\"]),4), round(np.mean(val_scores[\"MAE\"]),4)))\n",
    "  print(\"Train Std MAE Score: \\t {} \\t\\t Validation Std MAE Score: \\t {}\".format(round(np.std(train_scores[\"MAE\"]),4), round(np.std(val_scores[\"MAE\"]),4)))\n",
    "  print(\"\\n\")\n",
    "  print(\"Train Mean RMSE Score: \\t {} \\t\\t Validation Mean RMSE Score: \\t {}\".format(round(np.mean(train_scores[\"RMSE\"]),4), round(np.mean(val_scores[\"RMSE\"]),4)))\n",
    "  print(\"Train Std RMSE Score: \\t {} \\t\\t Validation Std RMSE Score: \\t {}\".format(round(np.std(train_scores[\"RMSE\"]),4), round(np.std(val_scores[\"RMSE\"]),4)))\n",
    "  "
   ]
  },
  {
   "cell_type": "markdown",
   "metadata": {
    "id": "zV9PSon1xdqc"
   },
   "source": [
    "## Linear regression"
   ]
  },
  {
   "cell_type": "code",
   "execution_count": null,
   "metadata": {
    "colab": {
     "base_uri": "https://localhost:8080/"
    },
    "id": "qzmq3pOLrK8o",
    "outputId": "897b7a85-cec2-4cb9-f458-acc3918a794e"
   },
   "outputs": [
    {
     "name": "stdout",
     "output_type": "stream",
     "text": [
      "**********************************************\n",
      "Model 1 trained\n",
      "Training Scores\n",
      "R2 Score : 0.6216 \t MAE : 3.9786 \t RMSE : 18.4698\n",
      "Validation Scores\n",
      "R2 Score : 0.7948 \t MAE : 3.8018 \t RMSE : 12.3318\n",
      "**********************************************\n",
      "Model 2 trained\n",
      "Training Scores\n",
      "R2 Score : 0.6201 \t MAE : 3.9552 \t RMSE : 18.1851\n",
      "Validation Scores\n",
      "R2 Score : 0.756 \t MAE : 4.2323 \t RMSE : 15.7741\n",
      "**********************************************\n",
      "Model 3 trained\n",
      "Training Scores\n",
      "R2 Score : 0.6266 \t MAE : 3.8001 \t RMSE : 17.9763\n",
      "Validation Scores\n",
      "R2 Score : 0.7073 \t MAE : 4.2025 \t RMSE : 17.6362\n",
      "**********************************************\n",
      "Model 4 trained\n",
      "Training Scores\n",
      "R2 Score : 0.6221 \t MAE : 3.9856 \t RMSE : 18.3186\n",
      "Validation Scores\n",
      "R2 Score : 0.7646 \t MAE : 4.0355 \t RMSE : 14.2505\n",
      "**********************************************\n",
      "Model 5 trained\n",
      "Training Scores\n",
      "R2 Score : 0.8285 \t MAE : 2.6946 \t RMSE : 12.3923\n",
      "Validation Scores\n",
      "R2 Score : -1.8484 \t MAE : 3.417 \t RMSE : 47.584\n",
      "**********************************************\n",
      "Model 6 trained\n",
      "Training Scores\n",
      "R2 Score : 0.6222 \t MAE : 4.0218 \t RMSE : 17.8355\n",
      "Validation Scores\n",
      "R2 Score : 0.7146 \t MAE : 4.407 \t RMSE : 19.0997\n",
      "**********************************************\n",
      "Model 7 trained\n",
      "Training Scores\n",
      "R2 Score : 0.6267 \t MAE : 4.03 \t RMSE : 18.7283\n",
      "Validation Scores\n",
      "R2 Score : 0.8398 \t MAE : 3.563 \t RMSE : 7.9691\n",
      "**********************************************\n",
      "Model 8 trained\n",
      "Training Scores\n",
      "R2 Score : 0.6207 \t MAE : 4.0756 \t RMSE : 18.3995\n",
      "Validation Scores\n",
      "R2 Score : 0.7859 \t MAE : 3.4817 \t RMSE : 13.2421\n",
      "**********************************************\n",
      "Model 9 trained\n",
      "Training Scores\n",
      "R2 Score : 0.6175 \t MAE : 4.0498 \t RMSE : 18.5795\n",
      "Validation Scores\n",
      "R2 Score : 0.8417 \t MAE : 3.6346 \t RMSE : 10.7612\n",
      "**********************************************\n",
      "Model 10 trained\n",
      "Training Scores\n",
      "R2 Score : 0.5989 \t MAE : 4.0737 \t RMSE : 18.5448\n",
      "Validation Scores\n",
      "R2 Score : 0.8809 \t MAE : 4.2483 \t RMSE : 11.6323\n"
     ]
    }
   ],
   "source": [
    "train_scores, val_scores = cross_validation(LinearRegression(), X, y, 10)"
   ]
  },
  {
   "cell_type": "code",
   "execution_count": null,
   "metadata": {
    "colab": {
     "base_uri": "https://localhost:8080/"
    },
    "id": "mj1jJl-Usi_T",
    "outputId": "bfd673ce-4948-47bb-cd65-540aeadf339b"
   },
   "outputs": [
    {
     "name": "stdout",
     "output_type": "stream",
     "text": [
      "Linear Regression results : \n",
      "\n",
      "\n",
      "Mean and standard deviation of 10-fold cross validation results\n",
      "-----------------------------------------------------------------\n",
      "Train Mean R2 Score: \t 0.6405 \t\t Validation Mean R2 Score: \t 0.5237\n",
      "Train Std R2 Score: \t 0.0631 \t\t Validation Std R2 Score: \t 0.7925\n",
      "\n",
      "\n",
      "Train Mean MAE Score: \t 3.8665 \t\t Validation Mean MAE Score: \t 3.9024\n",
      "Train Std MAE Score: \t 0.3979 \t\t Validation Std MAE Score: \t 0.3465\n",
      "\n",
      "\n",
      "Train Mean RMSE Score: \t 17.743 \t\t Validation Mean RMSE Score: \t 17.0281\n",
      "Train Std RMSE Score: \t 1.8026 \t\t Validation Std RMSE Score: \t 10.6511\n"
     ]
    }
   ],
   "source": [
    "print(\"Linear Regression results : \")\n",
    "print_results(train_scores, val_scores)"
   ]
  },
  {
   "cell_type": "markdown",
   "metadata": {
    "id": "R0ieeGYW174H"
   },
   "source": [
    "## Bayesian regression"
   ]
  },
  {
   "cell_type": "code",
   "execution_count": null,
   "metadata": {
    "colab": {
     "base_uri": "https://localhost:8080/"
    },
    "id": "T9orVW3B174J",
    "outputId": "a74d5bff-b290-4029-c5bf-ddc477e70aac"
   },
   "outputs": [
    {
     "name": "stdout",
     "output_type": "stream",
     "text": [
      "**********************************************\n",
      "Model 1 trained\n",
      "Training Scores\n",
      "R2 Score : 0.6216 \t MAE : 3.9792 \t RMSE : 18.4699\n",
      "Validation Scores\n",
      "R2 Score : 0.7947 \t MAE : 3.8023 \t RMSE : 12.3347\n",
      "**********************************************\n",
      "Model 2 trained\n",
      "Training Scores\n",
      "R2 Score : 0.6201 \t MAE : 3.9595 \t RMSE : 18.1852\n",
      "Validation Scores\n",
      "R2 Score : 0.756 \t MAE : 4.2339 \t RMSE : 15.7742\n",
      "**********************************************\n",
      "Model 3 trained\n",
      "Training Scores\n",
      "R2 Score : 0.6266 \t MAE : 3.801 \t RMSE : 17.9763\n",
      "Validation Scores\n",
      "R2 Score : 0.7073 \t MAE : 4.2038 \t RMSE : 17.6362\n",
      "**********************************************\n",
      "Model 4 trained\n",
      "Training Scores\n",
      "R2 Score : 0.6221 \t MAE : 3.9865 \t RMSE : 18.3186\n",
      "Validation Scores\n",
      "R2 Score : 0.7645 \t MAE : 4.0355 \t RMSE : 14.2527\n",
      "**********************************************\n",
      "Model 5 trained\n",
      "Training Scores\n",
      "R2 Score : 0.8285 \t MAE : 2.6946 \t RMSE : 12.3923\n",
      "Validation Scores\n",
      "R2 Score : -1.8479 \t MAE : 3.4173 \t RMSE : 47.5796\n",
      "**********************************************\n",
      "Model 6 trained\n",
      "Training Scores\n",
      "R2 Score : 0.6222 \t MAE : 4.0227 \t RMSE : 17.8356\n",
      "Validation Scores\n",
      "R2 Score : 0.7145 \t MAE : 4.4076 \t RMSE : 19.1025\n",
      "**********************************************\n",
      "Model 7 trained\n",
      "Training Scores\n",
      "R2 Score : 0.6267 \t MAE : 4.0309 \t RMSE : 18.7284\n",
      "Validation Scores\n",
      "R2 Score : 0.8397 \t MAE : 3.5633 \t RMSE : 7.9706\n",
      "**********************************************\n",
      "Model 8 trained\n",
      "Training Scores\n",
      "R2 Score : 0.6207 \t MAE : 4.0764 \t RMSE : 18.3996\n",
      "Validation Scores\n",
      "R2 Score : 0.7859 \t MAE : 3.4828 \t RMSE : 13.2443\n",
      "**********************************************\n",
      "Model 9 trained\n",
      "Training Scores\n",
      "R2 Score : 0.6175 \t MAE : 4.0507 \t RMSE : 18.5795\n",
      "Validation Scores\n",
      "R2 Score : 0.8417 \t MAE : 3.6356 \t RMSE : 10.7636\n",
      "**********************************************\n",
      "Model 10 trained\n",
      "Training Scores\n",
      "R2 Score : 0.5989 \t MAE : 4.0748 \t RMSE : 18.5448\n",
      "Validation Scores\n",
      "R2 Score : 0.8808 \t MAE : 4.2496 \t RMSE : 11.635\n"
     ]
    }
   ],
   "source": [
    "train_scores, val_scores = cross_validation(linear_model.BayesianRidge(), X, y, 10)"
   ]
  },
  {
   "cell_type": "code",
   "execution_count": null,
   "metadata": {
    "colab": {
     "base_uri": "https://localhost:8080/"
    },
    "id": "Td2Keato174L",
    "outputId": "6407d69c-893c-402c-fb87-dd808260d64b"
   },
   "outputs": [
    {
     "name": "stdout",
     "output_type": "stream",
     "text": [
      "Bayesian Regression results : \n",
      "\n",
      "\n",
      "Mean and standard deviation of 10-fold cross validation results\n",
      "-----------------------------------------------------------------\n",
      "Train Mean R2 Score: \t 0.6405 \t\t Validation Mean R2 Score: \t 0.5237\n",
      "Train Std R2 Score: \t 0.0631 \t\t Validation Std R2 Score: \t 0.7923\n",
      "\n",
      "\n",
      "Train Mean MAE Score: \t 3.8676 \t\t Validation Mean MAE Score: \t 3.9032\n",
      "Train Std MAE Score: \t 0.3983 \t\t Validation Std MAE Score: \t 0.3467\n",
      "\n",
      "\n",
      "Train Mean RMSE Score: \t 17.743 \t\t Validation Mean RMSE Score: \t 17.0293\n",
      "Train Std RMSE Score: \t 1.8026 \t\t Validation Std RMSE Score: \t 10.6492\n"
     ]
    }
   ],
   "source": [
    "print(\"Bayesian Regression results : \")\n",
    "print_results(train_scores, val_scores)"
   ]
  },
  {
   "cell_type": "markdown",
   "metadata": {
    "id": "GLICwF3Q2Wv9"
   },
   "source": [
    "## Random Forest regression\n",
    "\n",
    "### With default parameters"
   ]
  },
  {
   "cell_type": "code",
   "execution_count": null,
   "metadata": {
    "colab": {
     "base_uri": "https://localhost:8080/"
    },
    "id": "nevBvVoG2Wv-",
    "outputId": "ce59bad6-d484-4807-dc7d-02fd0035a37e"
   },
   "outputs": [
    {
     "name": "stdout",
     "output_type": "stream",
     "text": [
      "**********************************************\n",
      "Model 1 trained\n",
      "Training Scores\n",
      "R2 Score : 0.936 \t MAE : 1.3269 \t RMSE : 7.5963\n",
      "Validation Scores\n",
      "R2 Score : 0.8438 \t MAE : 2.5018 \t RMSE : 10.758\n",
      "**********************************************\n",
      "Model 2 trained\n",
      "Training Scores\n",
      "R2 Score : 0.9392 \t MAE : 1.3003 \t RMSE : 7.2726\n",
      "Validation Scores\n",
      "R2 Score : 0.7908 \t MAE : 2.7948 \t RMSE : 14.6076\n",
      "**********************************************\n",
      "Model 3 trained\n",
      "Training Scores\n",
      "R2 Score : 0.9313 \t MAE : 1.3428 \t RMSE : 7.7094\n",
      "Validation Scores\n",
      "R2 Score : 0.8554 \t MAE : 2.4851 \t RMSE : 12.3964\n",
      "**********************************************\n",
      "Model 4 trained\n",
      "Training Scores\n",
      "R2 Score : 0.942 \t MAE : 1.3253 \t RMSE : 7.1799\n",
      "Validation Scores\n",
      "R2 Score : 0.8146 \t MAE : 2.1795 \t RMSE : 12.6465\n",
      "**********************************************\n",
      "Model 5 trained\n",
      "Training Scores\n",
      "R2 Score : 0.9398 \t MAE : 1.301 \t RMSE : 7.3453\n",
      "Validation Scores\n",
      "R2 Score : 0.5226 \t MAE : 2.8284 \t RMSE : 19.481\n",
      "**********************************************\n",
      "Model 6 trained\n",
      "Training Scores\n",
      "R2 Score : 0.9434 \t MAE : 1.2755 \t RMSE : 6.9034\n",
      "Validation Scores\n",
      "R2 Score : 0.736 \t MAE : 2.9011 \t RMSE : 18.3674\n",
      "**********************************************\n",
      "Model 7 trained\n",
      "Training Scores\n",
      "R2 Score : 0.934 \t MAE : 1.3915 \t RMSE : 7.8732\n",
      "Validation Scores\n",
      "R2 Score : 0.8035 \t MAE : 1.9532 \t RMSE : 8.8249\n",
      "**********************************************\n",
      "Model 8 trained\n",
      "Training Scores\n",
      "R2 Score : 0.9353 \t MAE : 1.3866 \t RMSE : 7.5979\n",
      "Validation Scores\n",
      "R2 Score : 0.8439 \t MAE : 1.6439 \t RMSE : 11.306\n",
      "**********************************************\n",
      "Model 9 trained\n",
      "Training Scores\n",
      "R2 Score : 0.9309 \t MAE : 1.3724 \t RMSE : 7.8973\n",
      "Validation Scores\n",
      "R2 Score : 0.8997 \t MAE : 2.0552 \t RMSE : 8.5652\n",
      "**********************************************\n",
      "Model 10 trained\n",
      "Training Scores\n",
      "R2 Score : 0.9261 \t MAE : 1.3753 \t RMSE : 7.9614\n",
      "Validation Scores\n",
      "R2 Score : 0.9374 \t MAE : 2.2813 \t RMSE : 8.4341\n"
     ]
    }
   ],
   "source": [
    "from sklearn.ensemble import RandomForestRegressor\n",
    "train_scores, val_scores = cross_validation(RandomForestRegressor(random_state=42), X, y, 10)"
   ]
  },
  {
   "cell_type": "code",
   "execution_count": null,
   "metadata": {
    "colab": {
     "base_uri": "https://localhost:8080/"
    },
    "id": "AHX7NCuD2Wv_",
    "outputId": "c0b19db0-825c-49cb-cc78-63a1550d6b08"
   },
   "outputs": [
    {
     "name": "stdout",
     "output_type": "stream",
     "text": [
      "Random Forest regression results\n",
      "\n",
      "\n",
      "Mean and standard deviation of 10-fold cross validation results\n",
      "-----------------------------------------------------------------\n",
      "Train Mean R2 Score: \t 0.9358 \t\t Validation Mean R2 Score: \t 0.8048\n",
      "Train Std R2 Score: \t 0.0052 \t\t Validation Std R2 Score: \t 0.1081\n",
      "\n",
      "\n",
      "Train Mean MAE Score: \t 1.3398 \t\t Validation Mean MAE Score: \t 2.3624\n",
      "Train Std MAE Score: \t 0.0384 \t\t Validation Std MAE Score: \t 0.3933\n",
      "\n",
      "\n",
      "Train Mean RMSE Score: \t 7.5337 \t\t Validation Mean RMSE Score: \t 12.5387\n",
      "Train Std RMSE Score: \t 0.331 \t\t Validation Std RMSE Score: \t 3.7095\n"
     ]
    }
   ],
   "source": [
    "print(\"Random Forest regression results\")\n",
    "print_results(train_scores, val_scores)"
   ]
  },
  {
   "cell_type": "markdown",
   "metadata": {
    "id": "UHPAd_xeSiso"
   },
   "source": [
    "## Gradient Boosting regression\n",
    "\n",
    "### With default parameters"
   ]
  },
  {
   "cell_type": "code",
   "execution_count": null,
   "metadata": {
    "colab": {
     "background_save": true
    },
    "id": "RZNJFah2-Vof",
    "outputId": "232eddc7-8b66-4e92-fcca-916b8b7a9bc5"
   },
   "outputs": [
    {
     "name": "stdout",
     "output_type": "stream",
     "text": [
      "**********************************************\n",
      "Model 1 trained\n",
      "Training Scores\n",
      "R2 Score : 0.8717 \t MAE : 2.1268 \t RMSE : 10.755\n",
      "Validation Scores\n",
      "R2 Score : 0.8678 \t MAE : 2.4526 \t RMSE : 9.8983\n",
      "**********************************************\n",
      "Model 2 trained\n",
      "Training Scores\n",
      "R2 Score : 0.8795 \t MAE : 2.0974 \t RMSE : 10.2405\n",
      "Validation Scores\n",
      "R2 Score : 0.827 \t MAE : 2.6866 \t RMSE : 13.2818\n",
      "**********************************************\n",
      "Model 3 trained\n",
      "Training Scores\n",
      "R2 Score : 0.8629 \t MAE : 2.159 \t RMSE : 10.8944\n",
      "Validation Scores\n",
      "R2 Score : 0.8872 \t MAE : 2.5061 \t RMSE : 10.9496\n",
      "**********************************************\n",
      "Model 4 trained\n",
      "Training Scores\n",
      "R2 Score : 0.8764 \t MAE : 2.1553 \t RMSE : 10.4759\n",
      "Validation Scores\n",
      "R2 Score : 0.8327 \t MAE : 2.2145 \t RMSE : 12.0133\n",
      "**********************************************\n",
      "Model 5 trained\n",
      "Training Scores\n",
      "R2 Score : 0.8876 \t MAE : 2.1058 \t RMSE : 10.0339\n",
      "Validation Scores\n",
      "R2 Score : 0.6278 \t MAE : 2.6106 \t RMSE : 17.2006\n",
      "**********************************************\n",
      "Model 6 trained\n",
      "Training Scores\n",
      "R2 Score : 0.8899 \t MAE : 2.0705 \t RMSE : 9.6293\n",
      "Validation Scores\n",
      "R2 Score : 0.7867 \t MAE : 2.6321 \t RMSE : 16.5122\n",
      "**********************************************\n",
      "Model 7 trained\n",
      "Training Scores\n",
      "R2 Score : 0.8716 \t MAE : 2.2348 \t RMSE : 10.9837\n",
      "Validation Scores\n",
      "R2 Score : 0.8654 \t MAE : 1.8158 \t RMSE : 7.3045\n",
      "**********************************************\n",
      "Model 8 trained\n",
      "Training Scores\n",
      "R2 Score : 0.8734 \t MAE : 2.2182 \t RMSE : 10.629\n",
      "Validation Scores\n",
      "R2 Score : 0.8581 \t MAE : 1.6427 \t RMSE : 10.7821\n",
      "**********************************************\n",
      "Model 9 trained\n",
      "Training Scores\n",
      "R2 Score : 0.8628 \t MAE : 2.2012 \t RMSE : 11.1295\n",
      "Validation Scores\n",
      "R2 Score : 0.9203 \t MAE : 1.9805 \t RMSE : 7.6348\n",
      "**********************************************\n",
      "Model 10 trained\n",
      "Training Scores\n",
      "R2 Score : 0.8565 \t MAE : 2.1976 \t RMSE : 11.0939\n",
      "Validation Scores\n",
      "R2 Score : 0.9683 \t MAE : 2.1003 \t RMSE : 6.0022\n"
     ]
    }
   ],
   "source": [
    "from sklearn.ensemble import GradientBoostingRegressor\n",
    "train_scores, val_scores = cross_validation(GradientBoostingRegressor(), X, y, 10)"
   ]
  },
  {
   "cell_type": "code",
   "execution_count": null,
   "metadata": {
    "colab": {
     "background_save": true
    },
    "id": "_smkaEDV_5Ok",
    "outputId": "14f62b3b-1b34-45c5-a8e7-8cb6ca24dd94"
   },
   "outputs": [
    {
     "name": "stdout",
     "output_type": "stream",
     "text": [
      "XGBoost regression results\n",
      "\n",
      "\n",
      "Mean and standard deviation of 10-fold cross validation results\n",
      "-----------------------------------------------------------------\n",
      "Train Mean R2 Score: \t 0.8732 \t\t Validation Mean R2 Score: \t 0.8441\n",
      "Train Std R2 Score: \t 0.0102 \t\t Validation Std R2 Score: \t 0.0865\n",
      "\n",
      "\n",
      "Train Mean MAE Score: \t 2.1567 \t\t Validation Mean MAE Score: \t 2.2642\n",
      "Train Std MAE Score: \t 0.0529 \t\t Validation Std MAE Score: \t 0.35\n",
      "\n",
      "\n",
      "Train Mean RMSE Score: \t 10.5865 \t\t Validation Mean RMSE Score: \t 11.1579\n",
      "Train Std RMSE Score: \t 0.4678 \t\t Validation Std RMSE Score: \t 3.5502\n"
     ]
    }
   ],
   "source": [
    "print(\"XGBoost regression results\")\n",
    "print_results(train_scores, val_scores)"
   ]
  },
  {
   "cell_type": "markdown",
   "metadata": {
    "id": "j8zONMkg2kLX"
   },
   "source": [
    "## Neural Network regression\n",
    "\n",
    "### Default is 1 hidden layer with 100 neurons"
   ]
  },
  {
   "cell_type": "code",
   "execution_count": null,
   "metadata": {
    "colab": {
     "background_save": true,
     "base_uri": "https://localhost:8080/"
    },
    "id": "NXuZcf__2kLd",
    "outputId": "b4faf5d2-d316-4270-b393-319396968593"
   },
   "outputs": [
    {
     "name": "stdout",
     "output_type": "stream",
     "text": [
      "**********************************************\n",
      "Model 1 trained\n",
      "Training Scores\n",
      "R2 Score : 0.8442 \t MAE : 2.6132 \t RMSE : 11.8528\n",
      "Validation Scores\n",
      "R2 Score : 0.844 \t MAE : 2.8365 \t RMSE : 10.7524\n",
      "**********************************************\n",
      "Model 2 trained\n",
      "Training Scores\n",
      "R2 Score : 0.8553 \t MAE : 2.0893 \t RMSE : 11.2233\n",
      "Validation Scores\n",
      "R2 Score : 0.8328 \t MAE : 2.4967 \t RMSE : 13.0572\n",
      "**********************************************\n",
      "Model 3 trained\n",
      "Training Scores\n",
      "R2 Score : 0.8337 \t MAE : 2.6943 \t RMSE : 11.9967\n",
      "Validation Scores\n",
      "R2 Score : 0.9152 \t MAE : 2.7922 \t RMSE : 9.4942\n",
      "**********************************************\n",
      "Model 4 trained\n",
      "Training Scores\n",
      "R2 Score : 0.8565 \t MAE : 2.3367 \t RMSE : 11.2896\n",
      "Validation Scores\n",
      "R2 Score : 0.8268 \t MAE : 2.4525 \t RMSE : 12.2233\n"
     ]
    },
    {
     "name": "stderr",
     "output_type": "stream",
     "text": [
      "/usr/local/lib/python3.7/dist-packages/sklearn/neural_network/_multilayer_perceptron.py:571: ConvergenceWarning: Stochastic Optimizer: Maximum iterations (500) reached and the optimization hasn't converged yet.\n",
      "  % self.max_iter, ConvergenceWarning)\n"
     ]
    },
    {
     "name": "stdout",
     "output_type": "stream",
     "text": [
      "**********************************************\n",
      "Model 5 trained\n",
      "Training Scores\n",
      "R2 Score : 0.8811 \t MAE : 2.6773 \t RMSE : 10.3188\n",
      "Validation Scores\n",
      "R2 Score : 0.6288 \t MAE : 3.0712 \t RMSE : 17.177\n",
      "**********************************************\n",
      "Model 6 trained\n",
      "Training Scores\n",
      "R2 Score : 0.8545 \t MAE : 2.7583 \t RMSE : 11.0693\n",
      "Validation Scores\n",
      "R2 Score : 0.7661 \t MAE : 3.2038 \t RMSE : 17.2891\n",
      "**********************************************\n",
      "Model 7 trained\n",
      "Training Scores\n",
      "R2 Score : 0.8517 \t MAE : 2.6029 \t RMSE : 11.8045\n",
      "Validation Scores\n",
      "R2 Score : 0.8762 \t MAE : 2.3416 \t RMSE : 7.004\n",
      "**********************************************\n",
      "Model 8 trained\n",
      "Training Scores\n",
      "R2 Score : 0.8421 \t MAE : 3.4655 \t RMSE : 11.8719\n",
      "Validation Scores\n",
      "R2 Score : 0.8178 \t MAE : 3.0049 \t RMSE : 12.2158\n",
      "**********************************************\n",
      "Model 9 trained\n",
      "Training Scores\n",
      "R2 Score : 0.839 \t MAE : 2.7145 \t RMSE : 12.0548\n",
      "Validation Scores\n",
      "R2 Score : 0.9034 \t MAE : 2.6728 \t RMSE : 8.4049\n",
      "**********************************************\n",
      "Model 10 trained\n",
      "Training Scores\n",
      "R2 Score : 0.8261 \t MAE : 2.698 \t RMSE : 12.2111\n",
      "Validation Scores\n",
      "R2 Score : 0.971 \t MAE : 2.6819 \t RMSE : 5.741\n"
     ]
    }
   ],
   "source": [
    "from sklearn.neural_network import MLPRegressor\n",
    "train_scores, val_scores = cross_validation(MLPRegressor(random_state=1, max_iter=500), X, y, 10)"
   ]
  },
  {
   "cell_type": "code",
   "execution_count": null,
   "metadata": {
    "colab": {
     "background_save": true
    },
    "id": "2InWaEUD2kLe",
    "outputId": "e2cf99c6-b5d9-45e7-a3a2-b26369078162"
   },
   "outputs": [
    {
     "name": "stdout",
     "output_type": "stream",
     "text": [
      "Neural network regression results\n",
      "\n",
      "\n",
      "Mean and standard deviation of 10-fold cross validation results\n",
      "-----------------------------------------------------------------\n",
      "Train Mean R2 Score: \t 0.8484 \t\t Validation Mean R2 Score: \t 0.8382\n",
      "Train Std R2 Score: \t 0.0145 \t\t Validation Std R2 Score: \t 0.0888\n",
      "\n",
      "\n",
      "Train Mean MAE Score: \t 2.665 \t\t Validation Mean MAE Score: \t 2.7554\n",
      "Train Std MAE Score: \t 0.3316 \t\t Validation Std MAE Score: \t 0.267\n",
      "\n",
      "\n",
      "Train Mean RMSE Score: \t 11.5693 \t\t Validation Mean RMSE Score: \t 11.3359\n",
      "Train Std RMSE Score: \t 0.554 \t\t Validation Std RMSE Score: \t 3.6943\n"
     ]
    }
   ],
   "source": [
    "print(\"Neural network regression results\")\n",
    "print_results(train_scores, val_scores)"
   ]
  },
  {
   "cell_type": "markdown",
   "metadata": {
    "id": "QGpb0OXsSv_w"
   },
   "source": [
    "## Neural Network regression\n",
    "\n",
    "### 2 hidden layer with 64 neurons and 32 neurons"
   ]
  },
  {
   "cell_type": "code",
   "execution_count": 70,
   "metadata": {
    "colab": {
     "base_uri": "https://localhost:8080/"
    },
    "id": "DD49f8NUSNay",
    "outputId": "904a95b1-39cc-40b4-c466-895b83263039"
   },
   "outputs": [
    {
     "name": "stdout",
     "output_type": "stream",
     "text": [
      "**********************************************\n",
      "Model 1 trained\n",
      "Training Scores\n",
      "R2 Score : 0.8537 \t MAE : 2.4604 \t RMSE : 11.4837\n",
      "Validation Scores\n",
      "R2 Score : 0.8638 \t MAE : 2.7862 \t RMSE : 10.0478\n",
      "**********************************************\n",
      "Model 2 trained\n",
      "Training Scores\n",
      "R2 Score : 0.8425 \t MAE : 3.1197 \t RMSE : 11.7073\n",
      "Validation Scores\n",
      "R2 Score : 0.8267 \t MAE : 3.4537 \t RMSE : 13.2953\n",
      "**********************************************\n",
      "Model 3 trained\n",
      "Training Scores\n",
      "R2 Score : 0.8329 \t MAE : 2.6483 \t RMSE : 12.0261\n",
      "Validation Scores\n",
      "R2 Score : 0.9025 \t MAE : 2.8511 \t RMSE : 10.1812\n",
      "**********************************************\n",
      "Model 4 trained\n",
      "Training Scores\n",
      "R2 Score : 0.8446 \t MAE : 3.3345 \t RMSE : 11.7464\n",
      "Validation Scores\n",
      "R2 Score : 0.8172 \t MAE : 3.3833 \t RMSE : 12.5576\n",
      "**********************************************\n",
      "Model 5 trained\n",
      "Training Scores\n",
      "R2 Score : 0.8849 \t MAE : 2.3674 \t RMSE : 10.1522\n",
      "Validation Scores\n",
      "R2 Score : 0.592 \t MAE : 2.8878 \t RMSE : 18.0079\n",
      "**********************************************\n",
      "Model 6 trained\n",
      "Training Scores\n",
      "R2 Score : 0.8635 \t MAE : 2.456 \t RMSE : 10.7184\n",
      "Validation Scores\n",
      "R2 Score : 0.7768 \t MAE : 3.0608 \t RMSE : 16.889\n",
      "**********************************************\n",
      "Model 7 trained\n",
      "Training Scores\n",
      "R2 Score : 0.8505 \t MAE : 2.8334 \t RMSE : 11.8505\n",
      "Validation Scores\n",
      "R2 Score : 0.8768 \t MAE : 2.6092 \t RMSE : 6.9869\n",
      "**********************************************\n",
      "Model 8 trained\n",
      "Training Scores\n",
      "R2 Score : 0.8533 \t MAE : 2.7682 \t RMSE : 11.4416\n",
      "Validation Scores\n",
      "R2 Score : 0.8308 \t MAE : 2.4281 \t RMSE : 11.7737\n",
      "**********************************************\n",
      "Model 9 trained\n",
      "Training Scores\n",
      "R2 Score : 0.8372 \t MAE : 3.972 \t RMSE : 12.1236\n",
      "Validation Scores\n",
      "R2 Score : 0.8973 \t MAE : 3.7011 \t RMSE : 8.6678\n",
      "**********************************************\n",
      "Model 10 trained\n",
      "Training Scores\n",
      "R2 Score : 0.833 \t MAE : 3.017 \t RMSE : 11.9659\n",
      "Validation Scores\n",
      "R2 Score : 0.9709 \t MAE : 2.8536 \t RMSE : 5.7455\n"
     ]
    }
   ],
   "source": [
    "from sklearn.neural_network import MLPRegressor\n",
    "train_scores, val_scores = cross_validation(MLPRegressor(hidden_layer_sizes=(64, 64), random_state=1, max_iter=500), X, y, 10)"
   ]
  },
  {
   "cell_type": "code",
   "execution_count": 71,
   "metadata": {
    "colab": {
     "base_uri": "https://localhost:8080/"
    },
    "id": "CQz7dlRiTE2O",
    "outputId": "22c6365b-e0ab-4b13-b921-0cc9354cc993"
   },
   "outputs": [
    {
     "name": "stdout",
     "output_type": "stream",
     "text": [
      "Neural network regression results\n",
      "\n",
      "\n",
      "Mean and standard deviation of 10-fold cross validation results\n",
      "-----------------------------------------------------------------\n",
      "Train Mean R2 Score: \t 0.8496 \t\t Validation Mean R2 Score: \t 0.8355\n",
      "Train Std R2 Score: \t 0.015 \t\t Validation Std R2 Score: \t 0.0961\n",
      "\n",
      "\n",
      "Train Mean MAE Score: \t 2.8977 \t\t Validation Mean MAE Score: \t 3.0015\n",
      "Train Std MAE Score: \t 0.4647 \t\t Validation Std MAE Score: \t 0.3781\n",
      "\n",
      "\n",
      "Train Mean RMSE Score: \t 11.5216 \t\t Validation Mean RMSE Score: \t 11.4153\n",
      "Train Std RMSE Score: \t 0.5946 \t\t Validation Std RMSE Score: \t 3.7562\n"
     ]
    }
   ],
   "source": [
    "print(\"Neural network regression results\")\n",
    "print_results(train_scores, val_scores)"
   ]
  }
 ],
 "metadata": {
  "colab": {
   "collapsed_sections": [],
   "name": "3 Short-list promising models.ipynb",
   "provenance": []
  },
  "kernelspec": {
   "display_name": "Python 3",
   "language": "python",
   "name": "python3"
  },
  "language_info": {
   "codemirror_mode": {
    "name": "ipython",
    "version": 3
   },
   "file_extension": ".py",
   "mimetype": "text/x-python",
   "name": "python",
   "nbconvert_exporter": "python",
   "pygments_lexer": "ipython3",
   "version": "3.8.6"
  }
 },
 "nbformat": 4,
 "nbformat_minor": 1
}

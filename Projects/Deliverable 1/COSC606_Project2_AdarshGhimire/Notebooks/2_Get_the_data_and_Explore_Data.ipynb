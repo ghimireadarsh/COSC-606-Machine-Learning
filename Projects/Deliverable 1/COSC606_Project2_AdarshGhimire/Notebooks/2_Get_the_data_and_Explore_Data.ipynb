{
 "cells": [
  {
   "cell_type": "markdown",
   "metadata": {
    "id": "jUvkaaFf6KlW"
   },
   "source": [
    "__Completed by:__\n",
    "\n",
    "Name : Adarsh Ghimire\n",
    "\n",
    "Student ID : 100058927\n",
    "\n",
    "MSc in Electrical and Computer Engineering"
   ]
  },
  {
   "cell_type": "markdown",
   "metadata": {
    "id": "1NK2xjul6VgK"
   },
   "source": [
    "This notebook comprises of downloading process using api, then data processing for making training and testing data.\n",
    "\n",
    "Then, also, it comprises of complete analysis done on the training set. Such that, the functions created for data analysis and manipulations can be used for future model development and testing."
   ]
  },
  {
   "cell_type": "code",
   "execution_count": null,
   "metadata": {
    "colab": {
     "base_uri": "https://localhost:8080/"
    },
    "id": "QgGB8nZTdT4k",
    "outputId": "dee16d75-c5eb-41e4-c379-af3bba8eaf21"
   },
   "outputs": [
    {
     "name": "stdout",
     "output_type": "stream",
     "text": [
      "Drive already mounted at /content/drive; to attempt to forcibly remount, call drive.mount(\"/content/drive\", force_remount=True).\n"
     ]
    }
   ],
   "source": [
    "from google.colab import drive\n",
    "drive.mount('/content/drive')"
   ]
  },
  {
   "cell_type": "code",
   "execution_count": null,
   "metadata": {
    "colab": {
     "base_uri": "https://localhost:8080/"
    },
    "id": "WKCyKoJYZuh5",
    "outputId": "3aba5575-289c-45bd-c291-b49af7a91c7c"
   },
   "outputs": [
    {
     "name": "stdout",
     "output_type": "stream",
     "text": [
      "/content\n"
     ]
    }
   ],
   "source": [
    "!pwd"
   ]
  },
  {
   "cell_type": "code",
   "execution_count": null,
   "metadata": {
    "colab": {
     "base_uri": "https://localhost:8080/"
    },
    "id": "88mvOF6BcuaO",
    "outputId": "c2cf5cc4-2188-479d-e7e5-c7b3c9a9d54f"
   },
   "outputs": [
    {
     "name": "stdout",
     "output_type": "stream",
     "text": [
      "dataset  final_dataset\tnotebooks  test.csv  train.csv\n"
     ]
    }
   ],
   "source": [
    "!ls \"drive/MyDrive/COSC 606 Machine learning/Project\""
   ]
  },
  {
   "cell_type": "code",
   "execution_count": null,
   "metadata": {
    "colab": {
     "base_uri": "https://localhost:8080/"
    },
    "id": "kE1_iYnqctjM",
    "outputId": "481e61eb-b890-4d95-94de-0a37d575dd73"
   },
   "outputs": [
    {
     "name": "stdout",
     "output_type": "stream",
     "text": [
      "/content/drive/MyDrive/COSC 606 Machine learning/Project/notebooks\n"
     ]
    }
   ],
   "source": [
    "import os\n",
    "os.chdir('drive/MyDrive/COSC 606 Machine learning/Project/notebooks/')\n",
    "!pwd"
   ]
  },
  {
   "cell_type": "markdown",
   "metadata": {
    "id": "RMLJvQJze5sg"
   },
   "source": [
    "## Downloading all the dataset using API"
   ]
  },
  {
   "cell_type": "code",
   "execution_count": null,
   "metadata": {
    "colab": {
     "base_uri": "https://localhost:8080/"
    },
    "id": "F4NsU68SdaCZ",
    "outputId": "7640ca2e-b643-46d0-8ac9-46e0307cfef3"
   },
   "outputs": [
    {
     "name": "stdout",
     "output_type": "stream",
     "text": [
      "{'license_title': 'Open Government Licence – Toronto', 'owner_unit': None, 'relationships_as_object': [], 'topics': 'Transportation', 'owner_email': 'Andrew.Hutt@ttc.ca', 'excerpt': 'TTC Streetcar Delay Data', 'private': False, 'owner_division': 'Toronto Transit Commission', 'num_tags': 5, 'id': 'b68cb71b-44a7-4394-97e2-5d2f41462a5d', 'metadata_created': '2019-07-23T18:12:13.621158', 'refresh_rate': 'Monthly', 'title': 'TTC Streetcar Delay Data', 'license_url': 'https://open.toronto.ca/open-data-license/', 'state': 'active', 'information_url': None, 'license_id': 'open-government-licence-toronto', 'type': 'dataset', 'resources': [{'cache_last_updated': None, 'package_id': 'b68cb71b-44a7-4394-97e2-5d2f41462a5d', 'datastore_active': False, 'id': '146bfbda-8146-4ff8-b3dc-1eec3a5170fe', 'size': 12886, 'format': 'XLSX', 'state': 'active', 'hash': '', 'description': '', 'is_preview': False, 'last_modified': '2019-08-15T16:25:06.166714', 'url_type': 'upload', 'mimetype': 'application/vnd.openxmlformats-officedocument.spreadsheetml.sheet', 'cache_url': None, 'extract_job': None, 'name': 'ttc-streetcar-delay-data-readme', 'created': '2019-07-23T18:12:22.590326', 'url': 'https://ckan0.cf.opendata.inter.prod-toronto.ca/dataset/b68cb71b-44a7-4394-97e2-5d2f41462a5d/resource/146bfbda-8146-4ff8-b3dc-1eec3a5170fe/download/ttc-streetcar-delay-data-readme.xlsx', 'mimetype_inner': None, 'position': 0, 'revision_id': '3cfbbfd6-02f1-4f06-ae0c-df11d4485b90', 'resource_type': None}, {'cache_last_updated': None, 'package_id': 'b68cb71b-44a7-4394-97e2-5d2f41462a5d', 'datastore_active': False, 'id': '4f115333-57c9-445c-a769-9b831798b314', 'size': 822301, 'format': 'XLSX', 'state': 'active', 'hash': '', 'description': '', 'is_preview': False, 'last_modified': '2019-08-15T16:24:51.920749', 'url_type': 'upload', 'mimetype': 'application/vnd.openxmlformats-officedocument.spreadsheetml.sheet', 'cache_url': None, 'extract_job': None, 'name': 'ttc-streetcar-delay-data-2014', 'created': '2019-07-23T18:12:15.225295', 'url': 'https://ckan0.cf.opendata.inter.prod-toronto.ca/dataset/b68cb71b-44a7-4394-97e2-5d2f41462a5d/resource/4f115333-57c9-445c-a769-9b831798b314/download/ttc-streetcar-delay-data-2014.xlsx', 'mimetype_inner': None, 'position': 1, 'revision_id': '3cfbbfd6-02f1-4f06-ae0c-df11d4485b90', 'resource_type': None}, {'cache_last_updated': None, 'package_id': 'b68cb71b-44a7-4394-97e2-5d2f41462a5d', 'datastore_active': False, 'id': '0c047b96-4f64-44c7-8980-ae2e3f8e7433', 'size': 910656, 'format': 'XLSX', 'state': 'active', 'hash': '', 'description': '', 'is_preview': False, 'last_modified': '2019-08-15T16:24:54.291924', 'url_type': 'upload', 'mimetype': 'application/vnd.openxmlformats-officedocument.spreadsheetml.sheet', 'cache_url': None, 'extract_job': None, 'name': 'ttc-streetcar-delay-data-2015', 'created': '2019-07-23T18:12:16.606150', 'url': 'https://ckan0.cf.opendata.inter.prod-toronto.ca/dataset/b68cb71b-44a7-4394-97e2-5d2f41462a5d/resource/0c047b96-4f64-44c7-8980-ae2e3f8e7433/download/ttc-streetcar-delay-data-2015.xlsx', 'mimetype_inner': None, 'position': 2, 'revision_id': '3cfbbfd6-02f1-4f06-ae0c-df11d4485b90', 'resource_type': None}, {'cache_last_updated': None, 'package_id': 'b68cb71b-44a7-4394-97e2-5d2f41462a5d', 'datastore_active': False, 'id': '1240f170-7800-4283-9f5e-0fa398185e3a', 'size': 1030100, 'format': 'XLSX', 'state': 'active', 'hash': '', 'description': '', 'is_preview': False, 'last_modified': '2019-08-15T16:24:56.716868', 'url_type': 'upload', 'mimetype': 'application/vnd.openxmlformats-officedocument.spreadsheetml.sheet', 'cache_url': None, 'extract_job': None, 'name': 'ttc-streetcar-delay-data-2016', 'created': '2019-07-23T18:12:17.957690', 'url': 'https://ckan0.cf.opendata.inter.prod-toronto.ca/dataset/b68cb71b-44a7-4394-97e2-5d2f41462a5d/resource/1240f170-7800-4283-9f5e-0fa398185e3a/download/ttc-streetcar-delay-data-2016.xlsx', 'mimetype_inner': None, 'position': 3, 'revision_id': '3cfbbfd6-02f1-4f06-ae0c-df11d4485b90', 'resource_type': None}, {'cache_last_updated': None, 'package_id': 'b68cb71b-44a7-4394-97e2-5d2f41462a5d', 'datastore_active': False, 'id': '99f512ad-7ac5-49ac-884e-a7a6fbe604b5', 'size': 2085182, 'format': 'XLSX', 'state': 'active', 'hash': '', 'description': '', 'is_preview': False, 'last_modified': '2019-08-15T16:25:00.246789', 'url_type': 'upload', 'mimetype': 'application/vnd.openxmlformats-officedocument.spreadsheetml.sheet', 'cache_url': None, 'extract_job': None, 'name': 'ttc-streetcar-delay-data-2017', 'created': '2019-07-23T18:12:19.506225', 'url': 'https://ckan0.cf.opendata.inter.prod-toronto.ca/dataset/b68cb71b-44a7-4394-97e2-5d2f41462a5d/resource/99f512ad-7ac5-49ac-884e-a7a6fbe604b5/download/ttc-streetcar-delay-data-2017.xlsx', 'mimetype_inner': None, 'position': 4, 'revision_id': '3cfbbfd6-02f1-4f06-ae0c-df11d4485b90', 'resource_type': None}, {'cache_last_updated': None, 'package_id': 'b68cb71b-44a7-4394-97e2-5d2f41462a5d', 'datastore_active': False, 'id': '90305d4e-5193-4c12-a648-fcf090694ba5', 'size': 1021294, 'format': 'XLSX', 'state': 'active', 'hash': '', 'description': '', 'is_preview': False, 'last_modified': '2019-08-15T16:25:02.766418', 'url_type': 'upload', 'mimetype': 'application/vnd.openxmlformats-officedocument.spreadsheetml.sheet', 'cache_url': None, 'extract_job': None, 'name': 'ttc-streetcar-delay-data-2018', 'created': '2019-07-23T18:12:20.761795', 'url': 'https://ckan0.cf.opendata.inter.prod-toronto.ca/dataset/b68cb71b-44a7-4394-97e2-5d2f41462a5d/resource/90305d4e-5193-4c12-a648-fcf090694ba5/download/ttc-streetcar-delay-data-2018.xlsx', 'mimetype_inner': None, 'position': 5, 'revision_id': '3cfbbfd6-02f1-4f06-ae0c-df11d4485b90', 'resource_type': None}, {'cache_last_updated': None, 'package_id': 'b68cb71b-44a7-4394-97e2-5d2f41462a5d', 'datastore_active': False, 'id': '786224cc-860f-4de3-a9b6-8f86753b3174', 'size': 759867, 'format': 'XLSX', 'state': 'active', 'hash': '', 'description': '', 'is_preview': True, 'last_modified': '2020-01-30T14:59:02.386841', 'url_type': 'upload', 'mimetype': 'application/vnd.openxmlformats-officedocument.spreadsheetml.sheet', 'cache_url': None, 'extract_job': None, 'name': 'ttc-streetcar-delay-data-2019', 'created': '2019-07-23T18:12:21.771553', 'url': 'https://ckan0.cf.opendata.inter.prod-toronto.ca/dataset/b68cb71b-44a7-4394-97e2-5d2f41462a5d/resource/786224cc-860f-4de3-a9b6-8f86753b3174/download/ttc-streetcar-delay-data-2019.xlsx', 'mimetype_inner': None, 'position': 6, 'revision_id': '3cfbbfd6-02f1-4f06-ae0c-df11d4485b90', 'resource_type': None}, {'cache_last_updated': None, 'package_id': 'b68cb71b-44a7-4394-97e2-5d2f41462a5d', 'datastore_active': False, 'id': 'f228bf87-7add-4d3e-a7c2-bfa4b6ae371c', 'size': 274548, 'format': 'XLSX', 'state': 'active', 'hash': '', 'description': '', 'is_preview': False, 'last_modified': '2020-10-14T14:13:44.785549', 'url_type': 'upload', 'mimetype': 'application/vnd.openxmlformats-officedocument.spreadsheetml.sheet', 'cache_url': None, 'extract_job': None, 'name': 'ttc-streetcar-delay-data-2020\\t', 'created': '2020-04-28T17:01:51.308963', 'url': 'https://ckan0.cf.opendata.inter.prod-toronto.ca/dataset/b68cb71b-44a7-4394-97e2-5d2f41462a5d/resource/f228bf87-7add-4d3e-a7c2-bfa4b6ae371c/download/ttc-streetcar-delay-data-2020.xlsx', 'mimetype_inner': None, 'position': 7, 'revision_id': 'a23057ed-af61-4a58-8c81-15e98c6b1cbe', 'resource_type': None}], 'limitations': None, 'num_resources': 8, 'collection_method': None, 'tags': [{'vocabulary_id': None, 'state': 'active', 'display_name': 'streetcar delay', 'id': '9d430065-6b26-4884-89be-bfc9176d99e8', 'name': 'streetcar delay'}, {'vocabulary_id': None, 'state': 'active', 'display_name': 'ttc', 'id': '87dfe170-8b82-4495-97e0-7d96298d3ad0', 'name': 'ttc'}], 'is_retired': False, 'groups': [], 'creator_user_id': '150d5301-86ec-44a3-a070-50f2cea839c9', 'dataset_category': 'Document', 'relationships_as_subject': [], 'name': 'ttc-streetcar-delay-data', 'metadata_modified': '2020-10-14T14:13:45.460199', 'isopen': False, 'url': None, 'notes': 'TTC Streetcar Delay Data\\r\\n\\r\\n \\r\\n', 'owner_org': '95a064ae-77e8-4ef0-a4e3-4e2d43e1f066', 'last_refreshed': '2020-10-14T14:13:44.785549', 'image_url': None, 'formats': 'XLSX', 'owner_section': None, 'organization': {'description': '', 'created': '2019-07-23T15:51:35.236542', 'title': 'City of Toronto', 'name': 'city-of-toronto', 'is_organization': True, 'state': 'active', 'image_url': '', 'revision_id': '62817a72-3dc5-450a-8cc4-fef2c51660da', 'type': 'organization', 'id': '95a064ae-77e8-4ef0-a4e3-4e2d43e1f066', 'approval_status': 'approved'}, 'revision_id': '18f3f288-8b90-49fb-959a-4207b4428c1f', 'civic_issues': 'Mobility'}\n"
     ]
    }
   ],
   "source": [
    "import pandas as pd\n",
    "import requests\n",
    " \n",
    "\n",
    "# Get the dataset metadata by passing package_id to the package_search endpoint\n",
    "# For example, to retrieve the metadata for this dataset:\n",
    " \n",
    "url = \"https://ckan0.cf.opendata.inter.prod-toronto.ca/api/3/action/package_show\"\n",
    "params = { \"id\": \"b68cb71b-44a7-4394-97e2-5d2f41462a5d\"}\n",
    "package = requests.get(url, params = params).json()\n",
    "print(package[\"result\"])"
   ]
  },
  {
   "cell_type": "code",
   "execution_count": null,
   "metadata": {
    "colab": {
     "base_uri": "https://localhost:8080/"
    },
    "id": "4QqkWaVJdfCP",
    "outputId": "2c971f69-2073-40ff-993f-32739d213382"
   },
   "outputs": [
    {
     "name": "stdout",
     "output_type": "stream",
     "text": [
      "{'help': 'https://ckan0.cf.opendata.inter.prod-toronto.ca/api/3/action/help_show?name=package_show',\n",
      " 'result': {'civic_issues': 'Mobility',\n",
      "            'collection_method': None,\n",
      "            'creator_user_id': '150d5301-86ec-44a3-a070-50f2cea839c9',\n",
      "            'dataset_category': 'Document',\n",
      "            'excerpt': 'TTC Streetcar Delay Data',\n",
      "            'formats': 'XLSX',\n",
      "            'groups': [],\n",
      "            'id': 'b68cb71b-44a7-4394-97e2-5d2f41462a5d',\n",
      "            'image_url': None,\n",
      "            'information_url': None,\n",
      "            'is_retired': False,\n",
      "            'isopen': False,\n",
      "            'last_refreshed': '2020-10-14T14:13:44.785549',\n",
      "            'license_id': 'open-government-licence-toronto',\n",
      "            'license_title': 'Open Government Licence – Toronto',\n",
      "            'license_url': 'https://open.toronto.ca/open-data-license/',\n",
      "            'limitations': None,\n",
      "            'metadata_created': '2019-07-23T18:12:13.621158',\n",
      "            'metadata_modified': '2020-10-14T14:13:45.460199',\n",
      "            'name': 'ttc-streetcar-delay-data',\n",
      "            'notes': 'TTC Streetcar Delay Data\\r\\n\\r\\n \\r\\n',\n",
      "            'num_resources': 8,\n",
      "            'num_tags': 5,\n",
      "            'organization': {'approval_status': 'approved',\n",
      "                             'created': '2019-07-23T15:51:35.236542',\n",
      "                             'description': '',\n",
      "                             'id': '95a064ae-77e8-4ef0-a4e3-4e2d43e1f066',\n",
      "                             'image_url': '',\n",
      "                             'is_organization': True,\n",
      "                             'name': 'city-of-toronto',\n",
      "                             'revision_id': '62817a72-3dc5-450a-8cc4-fef2c51660da',\n",
      "                             'state': 'active',\n",
      "                             'title': 'City of Toronto',\n",
      "                             'type': 'organization'},\n",
      "            'owner_division': 'Toronto Transit Commission',\n",
      "            'owner_email': 'Andrew.Hutt@ttc.ca',\n",
      "            'owner_org': '95a064ae-77e8-4ef0-a4e3-4e2d43e1f066',\n",
      "            'owner_section': None,\n",
      "            'owner_unit': None,\n",
      "            'private': False,\n",
      "            'refresh_rate': 'Monthly',\n",
      "            'relationships_as_object': [],\n",
      "            'relationships_as_subject': [],\n",
      "            'resources': [{'cache_last_updated': None,\n",
      "                           'cache_url': None,\n",
      "                           'created': '2019-07-23T18:12:22.590326',\n",
      "                           'datastore_active': False,\n",
      "                           'description': '',\n",
      "                           'extract_job': None,\n",
      "                           'format': 'XLSX',\n",
      "                           'hash': '',\n",
      "                           'id': '146bfbda-8146-4ff8-b3dc-1eec3a5170fe',\n",
      "                           'is_preview': False,\n",
      "                           'last_modified': '2019-08-15T16:25:06.166714',\n",
      "                           'mimetype': 'application/vnd.openxmlformats-officedocument.spreadsheetml.sheet',\n",
      "                           'mimetype_inner': None,\n",
      "                           'name': 'ttc-streetcar-delay-data-readme',\n",
      "                           'package_id': 'b68cb71b-44a7-4394-97e2-5d2f41462a5d',\n",
      "                           'position': 0,\n",
      "                           'resource_type': None,\n",
      "                           'revision_id': '3cfbbfd6-02f1-4f06-ae0c-df11d4485b90',\n",
      "                           'size': 12886,\n",
      "                           'state': 'active',\n",
      "                           'url': 'https://ckan0.cf.opendata.inter.prod-toronto.ca/dataset/b68cb71b-44a7-4394-97e2-5d2f41462a5d/resource/146bfbda-8146-4ff8-b3dc-1eec3a5170fe/download/ttc-streetcar-delay-data-readme.xlsx',\n",
      "                           'url_type': 'upload'},\n",
      "                          {'cache_last_updated': None,\n",
      "                           'cache_url': None,\n",
      "                           'created': '2019-07-23T18:12:15.225295',\n",
      "                           'datastore_active': False,\n",
      "                           'description': '',\n",
      "                           'extract_job': None,\n",
      "                           'format': 'XLSX',\n",
      "                           'hash': '',\n",
      "                           'id': '4f115333-57c9-445c-a769-9b831798b314',\n",
      "                           'is_preview': False,\n",
      "                           'last_modified': '2019-08-15T16:24:51.920749',\n",
      "                           'mimetype': 'application/vnd.openxmlformats-officedocument.spreadsheetml.sheet',\n",
      "                           'mimetype_inner': None,\n",
      "                           'name': 'ttc-streetcar-delay-data-2014',\n",
      "                           'package_id': 'b68cb71b-44a7-4394-97e2-5d2f41462a5d',\n",
      "                           'position': 1,\n",
      "                           'resource_type': None,\n",
      "                           'revision_id': '3cfbbfd6-02f1-4f06-ae0c-df11d4485b90',\n",
      "                           'size': 822301,\n",
      "                           'state': 'active',\n",
      "                           'url': 'https://ckan0.cf.opendata.inter.prod-toronto.ca/dataset/b68cb71b-44a7-4394-97e2-5d2f41462a5d/resource/4f115333-57c9-445c-a769-9b831798b314/download/ttc-streetcar-delay-data-2014.xlsx',\n",
      "                           'url_type': 'upload'},\n",
      "                          {'cache_last_updated': None,\n",
      "                           'cache_url': None,\n",
      "                           'created': '2019-07-23T18:12:16.606150',\n",
      "                           'datastore_active': False,\n",
      "                           'description': '',\n",
      "                           'extract_job': None,\n",
      "                           'format': 'XLSX',\n",
      "                           'hash': '',\n",
      "                           'id': '0c047b96-4f64-44c7-8980-ae2e3f8e7433',\n",
      "                           'is_preview': False,\n",
      "                           'last_modified': '2019-08-15T16:24:54.291924',\n",
      "                           'mimetype': 'application/vnd.openxmlformats-officedocument.spreadsheetml.sheet',\n",
      "                           'mimetype_inner': None,\n",
      "                           'name': 'ttc-streetcar-delay-data-2015',\n",
      "                           'package_id': 'b68cb71b-44a7-4394-97e2-5d2f41462a5d',\n",
      "                           'position': 2,\n",
      "                           'resource_type': None,\n",
      "                           'revision_id': '3cfbbfd6-02f1-4f06-ae0c-df11d4485b90',\n",
      "                           'size': 910656,\n",
      "                           'state': 'active',\n",
      "                           'url': 'https://ckan0.cf.opendata.inter.prod-toronto.ca/dataset/b68cb71b-44a7-4394-97e2-5d2f41462a5d/resource/0c047b96-4f64-44c7-8980-ae2e3f8e7433/download/ttc-streetcar-delay-data-2015.xlsx',\n",
      "                           'url_type': 'upload'},\n",
      "                          {'cache_last_updated': None,\n",
      "                           'cache_url': None,\n",
      "                           'created': '2019-07-23T18:12:17.957690',\n",
      "                           'datastore_active': False,\n",
      "                           'description': '',\n",
      "                           'extract_job': None,\n",
      "                           'format': 'XLSX',\n",
      "                           'hash': '',\n",
      "                           'id': '1240f170-7800-4283-9f5e-0fa398185e3a',\n",
      "                           'is_preview': False,\n",
      "                           'last_modified': '2019-08-15T16:24:56.716868',\n",
      "                           'mimetype': 'application/vnd.openxmlformats-officedocument.spreadsheetml.sheet',\n",
      "                           'mimetype_inner': None,\n",
      "                           'name': 'ttc-streetcar-delay-data-2016',\n",
      "                           'package_id': 'b68cb71b-44a7-4394-97e2-5d2f41462a5d',\n",
      "                           'position': 3,\n",
      "                           'resource_type': None,\n",
      "                           'revision_id': '3cfbbfd6-02f1-4f06-ae0c-df11d4485b90',\n",
      "                           'size': 1030100,\n",
      "                           'state': 'active',\n",
      "                           'url': 'https://ckan0.cf.opendata.inter.prod-toronto.ca/dataset/b68cb71b-44a7-4394-97e2-5d2f41462a5d/resource/1240f170-7800-4283-9f5e-0fa398185e3a/download/ttc-streetcar-delay-data-2016.xlsx',\n",
      "                           'url_type': 'upload'},\n",
      "                          {'cache_last_updated': None,\n",
      "                           'cache_url': None,\n",
      "                           'created': '2019-07-23T18:12:19.506225',\n",
      "                           'datastore_active': False,\n",
      "                           'description': '',\n",
      "                           'extract_job': None,\n",
      "                           'format': 'XLSX',\n",
      "                           'hash': '',\n",
      "                           'id': '99f512ad-7ac5-49ac-884e-a7a6fbe604b5',\n",
      "                           'is_preview': False,\n",
      "                           'last_modified': '2019-08-15T16:25:00.246789',\n",
      "                           'mimetype': 'application/vnd.openxmlformats-officedocument.spreadsheetml.sheet',\n",
      "                           'mimetype_inner': None,\n",
      "                           'name': 'ttc-streetcar-delay-data-2017',\n",
      "                           'package_id': 'b68cb71b-44a7-4394-97e2-5d2f41462a5d',\n",
      "                           'position': 4,\n",
      "                           'resource_type': None,\n",
      "                           'revision_id': '3cfbbfd6-02f1-4f06-ae0c-df11d4485b90',\n",
      "                           'size': 2085182,\n",
      "                           'state': 'active',\n",
      "                           'url': 'https://ckan0.cf.opendata.inter.prod-toronto.ca/dataset/b68cb71b-44a7-4394-97e2-5d2f41462a5d/resource/99f512ad-7ac5-49ac-884e-a7a6fbe604b5/download/ttc-streetcar-delay-data-2017.xlsx',\n",
      "                           'url_type': 'upload'},\n",
      "                          {'cache_last_updated': None,\n",
      "                           'cache_url': None,\n",
      "                           'created': '2019-07-23T18:12:20.761795',\n",
      "                           'datastore_active': False,\n",
      "                           'description': '',\n",
      "                           'extract_job': None,\n",
      "                           'format': 'XLSX',\n",
      "                           'hash': '',\n",
      "                           'id': '90305d4e-5193-4c12-a648-fcf090694ba5',\n",
      "                           'is_preview': False,\n",
      "                           'last_modified': '2019-08-15T16:25:02.766418',\n",
      "                           'mimetype': 'application/vnd.openxmlformats-officedocument.spreadsheetml.sheet',\n",
      "                           'mimetype_inner': None,\n",
      "                           'name': 'ttc-streetcar-delay-data-2018',\n",
      "                           'package_id': 'b68cb71b-44a7-4394-97e2-5d2f41462a5d',\n",
      "                           'position': 5,\n",
      "                           'resource_type': None,\n",
      "                           'revision_id': '3cfbbfd6-02f1-4f06-ae0c-df11d4485b90',\n",
      "                           'size': 1021294,\n",
      "                           'state': 'active',\n",
      "                           'url': 'https://ckan0.cf.opendata.inter.prod-toronto.ca/dataset/b68cb71b-44a7-4394-97e2-5d2f41462a5d/resource/90305d4e-5193-4c12-a648-fcf090694ba5/download/ttc-streetcar-delay-data-2018.xlsx',\n",
      "                           'url_type': 'upload'},\n",
      "                          {'cache_last_updated': None,\n",
      "                           'cache_url': None,\n",
      "                           'created': '2019-07-23T18:12:21.771553',\n",
      "                           'datastore_active': False,\n",
      "                           'description': '',\n",
      "                           'extract_job': None,\n",
      "                           'format': 'XLSX',\n",
      "                           'hash': '',\n",
      "                           'id': '786224cc-860f-4de3-a9b6-8f86753b3174',\n",
      "                           'is_preview': True,\n",
      "                           'last_modified': '2020-01-30T14:59:02.386841',\n",
      "                           'mimetype': 'application/vnd.openxmlformats-officedocument.spreadsheetml.sheet',\n",
      "                           'mimetype_inner': None,\n",
      "                           'name': 'ttc-streetcar-delay-data-2019',\n",
      "                           'package_id': 'b68cb71b-44a7-4394-97e2-5d2f41462a5d',\n",
      "                           'position': 6,\n",
      "                           'resource_type': None,\n",
      "                           'revision_id': '3cfbbfd6-02f1-4f06-ae0c-df11d4485b90',\n",
      "                           'size': 759867,\n",
      "                           'state': 'active',\n",
      "                           'url': 'https://ckan0.cf.opendata.inter.prod-toronto.ca/dataset/b68cb71b-44a7-4394-97e2-5d2f41462a5d/resource/786224cc-860f-4de3-a9b6-8f86753b3174/download/ttc-streetcar-delay-data-2019.xlsx',\n",
      "                           'url_type': 'upload'},\n",
      "                          {'cache_last_updated': None,\n",
      "                           'cache_url': None,\n",
      "                           'created': '2020-04-28T17:01:51.308963',\n",
      "                           'datastore_active': False,\n",
      "                           'description': '',\n",
      "                           'extract_job': None,\n",
      "                           'format': 'XLSX',\n",
      "                           'hash': '',\n",
      "                           'id': 'f228bf87-7add-4d3e-a7c2-bfa4b6ae371c',\n",
      "                           'is_preview': False,\n",
      "                           'last_modified': '2020-10-14T14:13:44.785549',\n",
      "                           'mimetype': 'application/vnd.openxmlformats-officedocument.spreadsheetml.sheet',\n",
      "                           'mimetype_inner': None,\n",
      "                           'name': 'ttc-streetcar-delay-data-2020\\t',\n",
      "                           'package_id': 'b68cb71b-44a7-4394-97e2-5d2f41462a5d',\n",
      "                           'position': 7,\n",
      "                           'resource_type': None,\n",
      "                           'revision_id': 'a23057ed-af61-4a58-8c81-15e98c6b1cbe',\n",
      "                           'size': 274548,\n",
      "                           'state': 'active',\n",
      "                           'url': 'https://ckan0.cf.opendata.inter.prod-toronto.ca/dataset/b68cb71b-44a7-4394-97e2-5d2f41462a5d/resource/f228bf87-7add-4d3e-a7c2-bfa4b6ae371c/download/ttc-streetcar-delay-data-2020.xlsx',\n",
      "                           'url_type': 'upload'}],\n",
      "            'revision_id': '18f3f288-8b90-49fb-959a-4207b4428c1f',\n",
      "            'state': 'active',\n",
      "            'tags': [{'display_name': 'streetcar delay',\n",
      "                      'id': '9d430065-6b26-4884-89be-bfc9176d99e8',\n",
      "                      'name': 'streetcar delay',\n",
      "                      'state': 'active',\n",
      "                      'vocabulary_id': None},\n",
      "                     {'display_name': 'ttc',\n",
      "                      'id': '87dfe170-8b82-4495-97e0-7d96298d3ad0',\n",
      "                      'name': 'ttc',\n",
      "                      'state': 'active',\n",
      "                      'vocabulary_id': None}],\n",
      "            'title': 'TTC Streetcar Delay Data',\n",
      "            'topics': 'Transportation',\n",
      "            'type': 'dataset',\n",
      "            'url': None},\n",
      " 'success': True}\n"
     ]
    }
   ],
   "source": [
    "# Checking how the api is returning the data\n",
    "from pprint import pprint\n",
    "pprint(package)"
   ]
  },
  {
   "cell_type": "code",
   "execution_count": null,
   "metadata": {
    "colab": {
     "base_uri": "https://localhost:8080/"
    },
    "id": "GEMxQhfjdgy3",
    "outputId": "c417e6a4-c5bd-48ce-9d5f-7b4263184f23"
   },
   "outputs": [
    {
     "name": "stdout",
     "output_type": "stream",
     "text": [
      "<class 'list'>\n",
      "https://ckan0.cf.opendata.inter.prod-toronto.ca/dataset/b68cb71b-44a7-4394-97e2-5d2f41462a5d/resource/146bfbda-8146-4ff8-b3dc-1eec3a5170fe/download/ttc-streetcar-delay-data-readme.xlsx\n",
      "https://ckan0.cf.opendata.inter.prod-toronto.ca/dataset/b68cb71b-44a7-4394-97e2-5d2f41462a5d/resource/4f115333-57c9-445c-a769-9b831798b314/download/ttc-streetcar-delay-data-2014.xlsx\n",
      "https://ckan0.cf.opendata.inter.prod-toronto.ca/dataset/b68cb71b-44a7-4394-97e2-5d2f41462a5d/resource/0c047b96-4f64-44c7-8980-ae2e3f8e7433/download/ttc-streetcar-delay-data-2015.xlsx\n",
      "https://ckan0.cf.opendata.inter.prod-toronto.ca/dataset/b68cb71b-44a7-4394-97e2-5d2f41462a5d/resource/1240f170-7800-4283-9f5e-0fa398185e3a/download/ttc-streetcar-delay-data-2016.xlsx\n",
      "https://ckan0.cf.opendata.inter.prod-toronto.ca/dataset/b68cb71b-44a7-4394-97e2-5d2f41462a5d/resource/99f512ad-7ac5-49ac-884e-a7a6fbe604b5/download/ttc-streetcar-delay-data-2017.xlsx\n",
      "https://ckan0.cf.opendata.inter.prod-toronto.ca/dataset/b68cb71b-44a7-4394-97e2-5d2f41462a5d/resource/90305d4e-5193-4c12-a648-fcf090694ba5/download/ttc-streetcar-delay-data-2018.xlsx\n",
      "https://ckan0.cf.opendata.inter.prod-toronto.ca/dataset/b68cb71b-44a7-4394-97e2-5d2f41462a5d/resource/786224cc-860f-4de3-a9b6-8f86753b3174/download/ttc-streetcar-delay-data-2019.xlsx\n",
      "https://ckan0.cf.opendata.inter.prod-toronto.ca/dataset/b68cb71b-44a7-4394-97e2-5d2f41462a5d/resource/f228bf87-7add-4d3e-a7c2-bfa4b6ae371c/download/ttc-streetcar-delay-data-2020.xlsx\n"
     ]
    }
   ],
   "source": [
    "# From above we can see that the data is available at the \"url\" key\n",
    "# \"url\" key is under \"resources\" key\n",
    "# \"resources\" key is under \"result\" key of the returned json file\n",
    "\n",
    "# resources has list value, where each element of list is a dict\n",
    "# and inside each dict, there is \"url\" key which hold the url to the data\n",
    "print(type(package[\"result\"][\"resources\"])) # value type of resources key\n",
    "for i in package[\"result\"][\"resources\"]:\n",
    "  print(i[\"url\"])"
   ]
  },
  {
   "cell_type": "code",
   "execution_count": null,
   "metadata": {
    "colab": {
     "base_uri": "https://localhost:8080/"
    },
    "id": "NApDT2_ieVDI",
    "outputId": "b229e8a8-e35f-42f8-c354-415cd6634470"
   },
   "outputs": [
    {
     "name": "stdout",
     "output_type": "stream",
     "text": [
      "dataset  final_dataset\tnotebooks  test.csv  train.csv\n"
     ]
    }
   ],
   "source": [
    "!ls .."
   ]
  },
  {
   "cell_type": "code",
   "execution_count": null,
   "metadata": {
    "colab": {
     "base_uri": "https://localhost:8080/"
    },
    "id": "08Lb6s8feUvf",
    "outputId": "d471825a-47bd-4f5e-ce23-59ac43f2c53b"
   },
   "outputs": [
    {
     "name": "stdout",
     "output_type": "stream",
     "text": [
      "Following files already exist inside the directory\n",
      "ttc-streetcar-delay-data-readme.xlsx\n",
      "ttc-streetcar-delay-data-2014.xlsx\n",
      "ttc-streetcar-delay-data-2015.xlsx\n",
      "ttc-streetcar-delay-data-2016.xlsx\n",
      "ttc-streetcar-delay-data-2017.xlsx\n",
      "ttc-streetcar-delay-data-2018.xlsx\n",
      "ttc-streetcar-delay-data-2020.xlsx\n",
      "ttc-streetcar-delay-data-2019.xlsx\n"
     ]
    }
   ],
   "source": [
    "# Downloading the data from the extracted URL, and saving in the dataset folder\n",
    "dataset_dir = \"../dataset/\"\n",
    "try:\n",
    "    os.mkdir(dataset_dir)\n",
    "    print(\"[INFO] Downloading files\")\n",
    "    for i in package[\"result\"][\"resources\"]:\n",
    "      url = i[\"url\"]\n",
    "      resp = requests.get(url)\n",
    "      file_name = i[\"url\"].split(\"/\")[-1] # masking the file name from url\n",
    "      print(\"[INFO] File {} downloaded\".format(file_name))\n",
    "      output = open('../dataset/'+file_name, 'wb')\n",
    "      output.write(resp.content)\n",
    "      output.close()\n",
    "    print(\"[INFO] Download complete\")\n",
    "except OSError as error:\n",
    "    print(\"Following files already exist inside the directory\")\n",
    "    for i in os.listdir(dataset_dir):\n",
    "      print(i)\n",
    "  "
   ]
  },
  {
   "cell_type": "code",
   "execution_count": null,
   "metadata": {
    "colab": {
     "base_uri": "https://localhost:8080/"
    },
    "id": "5UllY8_Vh9m0",
    "outputId": "2ceb0b32-d6c7-4260-9f13-208b935fb8ab"
   },
   "outputs": [
    {
     "name": "stdout",
     "output_type": "stream",
     "text": [
      "ttc-streetcar-delay-data-2014.xlsx  ttc-streetcar-delay-data-2018.xlsx\n",
      "ttc-streetcar-delay-data-2015.xlsx  ttc-streetcar-delay-data-2019.xlsx\n",
      "ttc-streetcar-delay-data-2016.xlsx  ttc-streetcar-delay-data-2020.xlsx\n",
      "ttc-streetcar-delay-data-2017.xlsx  ttc-streetcar-delay-data-readme.xlsx\n"
     ]
    }
   ],
   "source": [
    "!ls ../dataset"
   ]
  },
  {
   "cell_type": "code",
   "execution_count": null,
   "metadata": {
    "id": "Iciu5sNyi1jj"
   },
   "outputs": [],
   "source": [
    "# Successfully downloaded all the data from the web api."
   ]
  },
  {
   "cell_type": "markdown",
   "metadata": {
    "id": "WSm7Vs9pWlHO"
   },
   "source": [
    "## 1. List the data you need and how much you need."
   ]
  },
  {
   "cell_type": "code",
   "execution_count": null,
   "metadata": {
    "id": "dF4lqeqUXBAz"
   },
   "outputs": [],
   "source": [
    "# importing the pandas and numpy for data manipulations\n",
    "import pandas as pd\n",
    "import numpy as np"
   ]
  },
  {
   "cell_type": "code",
   "execution_count": null,
   "metadata": {
    "colab": {
     "base_uri": "https://localhost:8080/"
    },
    "id": "KOXsdsUkX46T",
    "outputId": "43596629-52e2-4c78-a084-ca6712e6cdb1"
   },
   "outputs": [
    {
     "name": "stdout",
     "output_type": "stream",
     "text": [
      "['ttc-streetcar-delay-data-readme.xlsx', 'ttc-streetcar-delay-data-2014.xlsx', 'ttc-streetcar-delay-data-2015.xlsx', 'ttc-streetcar-delay-data-2016.xlsx', 'ttc-streetcar-delay-data-2017.xlsx', 'ttc-streetcar-delay-data-2018.xlsx', 'ttc-streetcar-delay-data-2020.xlsx', 'ttc-streetcar-delay-data-2019.xlsx']\n",
      "['ttc-streetcar-delay-data-2014.xlsx', 'ttc-streetcar-delay-data-2015.xlsx', 'ttc-streetcar-delay-data-2016.xlsx', 'ttc-streetcar-delay-data-2017.xlsx', 'ttc-streetcar-delay-data-2018.xlsx', 'ttc-streetcar-delay-data-2020.xlsx', 'ttc-streetcar-delay-data-2019.xlsx']\n"
     ]
    }
   ],
   "source": [
    "dataset_list = os.listdir(dataset_dir)\n",
    "print(dataset_list)\n",
    "\n",
    "# removing readme file from the list\n",
    "dataset_list.remove(\"ttc-streetcar-delay-data-readme.xlsx\")\n",
    "print(dataset_list)"
   ]
  },
  {
   "cell_type": "code",
   "execution_count": null,
   "metadata": {
    "colab": {
     "base_uri": "https://localhost:8080/"
    },
    "id": "YQZ_01fdgyC9",
    "outputId": "be2d4abd-596e-4d95-e7ca-f4ac06ff0df5"
   },
   "outputs": [
    {
     "name": "stdout",
     "output_type": "stream",
     "text": [
      "['2014', '2015', '2016', '2017', '2018', '2020', '2019']\n"
     ]
    }
   ],
   "source": [
    "# Extracting years from file names so as to use it for later \n",
    "# Later it will be used for naming variable for the dataframe dictionary in single shot\n",
    "years = []\n",
    "for i in dataset_list:\n",
    "  years.append(i.split(\".\")[0][-4:])\n",
    "print(years)"
   ]
  },
  {
   "cell_type": "code",
   "execution_count": null,
   "metadata": {
    "id": "uKrKuDMZaTtf"
   },
   "outputs": [],
   "source": [
    "df = {} # list of data frames\n",
    "for i,j in zip(years, dataset_list):\n",
    "  df[i] = pd.concat(pd.read_excel(dataset_dir+j, sheet_name=None), ignore_index=True)"
   ]
  },
  {
   "cell_type": "code",
   "execution_count": null,
   "metadata": {
    "colab": {
     "base_uri": "https://localhost:8080/"
    },
    "id": "z1LzzQHqahJL",
    "outputId": "209d0b17-ece1-402c-d77d-eb6dd8425ab8"
   },
   "outputs": [
    {
     "data": {
      "text/plain": [
       "dict_keys(['2014', '2015', '2016', '2017', '2018', '2020', '2019'])"
      ]
     },
     "execution_count": 16,
     "metadata": {
      "tags": []
     },
     "output_type": "execute_result"
    }
   ],
   "source": [
    "df.keys()"
   ]
  },
  {
   "cell_type": "code",
   "execution_count": null,
   "metadata": {
    "colab": {
     "base_uri": "https://localhost:8080/",
     "height": 204
    },
    "id": "0bUi3-Zwamzy",
    "outputId": "5e3f1eda-6b22-4696-ba5e-757fcc97c149"
   },
   "outputs": [
    {
     "data": {
      "text/html": [
       "<div>\n",
       "<style scoped>\n",
       "    .dataframe tbody tr th:only-of-type {\n",
       "        vertical-align: middle;\n",
       "    }\n",
       "\n",
       "    .dataframe tbody tr th {\n",
       "        vertical-align: top;\n",
       "    }\n",
       "\n",
       "    .dataframe thead th {\n",
       "        text-align: right;\n",
       "    }\n",
       "</style>\n",
       "<table border=\"1\" class=\"dataframe\">\n",
       "  <thead>\n",
       "    <tr style=\"text-align: right;\">\n",
       "      <th></th>\n",
       "      <th>Report Date</th>\n",
       "      <th>Route</th>\n",
       "      <th>Time</th>\n",
       "      <th>Day</th>\n",
       "      <th>Location</th>\n",
       "      <th>Incident</th>\n",
       "      <th>Min Delay</th>\n",
       "      <th>Min Gap</th>\n",
       "      <th>Direction</th>\n",
       "      <th>Vehicle</th>\n",
       "    </tr>\n",
       "  </thead>\n",
       "  <tbody>\n",
       "    <tr>\n",
       "      <th>0</th>\n",
       "      <td>2014-01-02</td>\n",
       "      <td>505</td>\n",
       "      <td>06:31:00</td>\n",
       "      <td>Thursday</td>\n",
       "      <td>Dundas and Roncesvalles</td>\n",
       "      <td>Late Leaving Garage</td>\n",
       "      <td>4.0</td>\n",
       "      <td>8.0</td>\n",
       "      <td>E/B</td>\n",
       "      <td>4018.0</td>\n",
       "    </tr>\n",
       "    <tr>\n",
       "      <th>1</th>\n",
       "      <td>2014-01-02</td>\n",
       "      <td>504</td>\n",
       "      <td>12:43:00</td>\n",
       "      <td>Thursday</td>\n",
       "      <td>King and Shaw</td>\n",
       "      <td>Utilized Off Route</td>\n",
       "      <td>20.0</td>\n",
       "      <td>22.0</td>\n",
       "      <td>E/B</td>\n",
       "      <td>4128.0</td>\n",
       "    </tr>\n",
       "    <tr>\n",
       "      <th>2</th>\n",
       "      <td>2014-01-02</td>\n",
       "      <td>501</td>\n",
       "      <td>14:01:00</td>\n",
       "      <td>Thursday</td>\n",
       "      <td>Kingston road and Bingham</td>\n",
       "      <td>Held By</td>\n",
       "      <td>13.0</td>\n",
       "      <td>19.0</td>\n",
       "      <td>W/B</td>\n",
       "      <td>4016.0</td>\n",
       "    </tr>\n",
       "    <tr>\n",
       "      <th>3</th>\n",
       "      <td>2014-01-02</td>\n",
       "      <td>504</td>\n",
       "      <td>14:22:00</td>\n",
       "      <td>Thursday</td>\n",
       "      <td>King St. and Roncesvalles Ave.</td>\n",
       "      <td>Investigation</td>\n",
       "      <td>7.0</td>\n",
       "      <td>11.0</td>\n",
       "      <td>W/B</td>\n",
       "      <td>4175.0</td>\n",
       "    </tr>\n",
       "    <tr>\n",
       "      <th>4</th>\n",
       "      <td>2014-01-02</td>\n",
       "      <td>504</td>\n",
       "      <td>16:42:00</td>\n",
       "      <td>Thursday</td>\n",
       "      <td>King and Bathurst</td>\n",
       "      <td>Utilized Off Route</td>\n",
       "      <td>3.0</td>\n",
       "      <td>6.0</td>\n",
       "      <td>E/B</td>\n",
       "      <td>4080.0</td>\n",
       "    </tr>\n",
       "  </tbody>\n",
       "</table>\n",
       "</div>"
      ],
      "text/plain": [
       "  Report Date  Route      Time       Day  ... Min Delay Min Gap  Direction  Vehicle\n",
       "0  2014-01-02    505  06:31:00  Thursday  ...       4.0     8.0        E/B   4018.0\n",
       "1  2014-01-02    504  12:43:00  Thursday  ...      20.0    22.0        E/B   4128.0\n",
       "2  2014-01-02    501  14:01:00  Thursday  ...      13.0    19.0        W/B   4016.0\n",
       "3  2014-01-02    504  14:22:00  Thursday  ...       7.0    11.0        W/B   4175.0\n",
       "4  2014-01-02    504  16:42:00  Thursday  ...       3.0     6.0        E/B   4080.0\n",
       "\n",
       "[5 rows x 10 columns]"
      ]
     },
     "execution_count": 17,
     "metadata": {
      "tags": []
     },
     "output_type": "execute_result"
    }
   ],
   "source": [
    "df[\"2014\"].head()"
   ]
  },
  {
   "cell_type": "code",
   "execution_count": null,
   "metadata": {
    "colab": {
     "base_uri": "https://localhost:8080/",
     "height": 204
    },
    "id": "6sSKHD20an0Y",
    "outputId": "f32811c6-deed-40c8-e126-3a654d7d7513"
   },
   "outputs": [
    {
     "data": {
      "text/html": [
       "<div>\n",
       "<style scoped>\n",
       "    .dataframe tbody tr th:only-of-type {\n",
       "        vertical-align: middle;\n",
       "    }\n",
       "\n",
       "    .dataframe tbody tr th {\n",
       "        vertical-align: top;\n",
       "    }\n",
       "\n",
       "    .dataframe thead th {\n",
       "        text-align: right;\n",
       "    }\n",
       "</style>\n",
       "<table border=\"1\" class=\"dataframe\">\n",
       "  <thead>\n",
       "    <tr style=\"text-align: right;\">\n",
       "      <th></th>\n",
       "      <th>Report Date</th>\n",
       "      <th>Route</th>\n",
       "      <th>Time</th>\n",
       "      <th>Day</th>\n",
       "      <th>Location</th>\n",
       "      <th>Incident</th>\n",
       "      <th>Min Delay</th>\n",
       "      <th>Min Gap</th>\n",
       "      <th>Direction</th>\n",
       "      <th>Vehicle</th>\n",
       "    </tr>\n",
       "  </thead>\n",
       "  <tbody>\n",
       "    <tr>\n",
       "      <th>11022</th>\n",
       "      <td>2014-12-31</td>\n",
       "      <td>509</td>\n",
       "      <td>22:30:00</td>\n",
       "      <td>Wednesday</td>\n",
       "      <td>Union Loop to Exhibition Loop</td>\n",
       "      <td>General Delay</td>\n",
       "      <td>10.0</td>\n",
       "      <td>20.0</td>\n",
       "      <td>B/W</td>\n",
       "      <td>NaN</td>\n",
       "    </tr>\n",
       "    <tr>\n",
       "      <th>11023</th>\n",
       "      <td>2014-12-31</td>\n",
       "      <td>504</td>\n",
       "      <td>22:54:00</td>\n",
       "      <td>Wednesday</td>\n",
       "      <td>King and Dunn</td>\n",
       "      <td>Emergency Services</td>\n",
       "      <td>11.0</td>\n",
       "      <td>16.0</td>\n",
       "      <td>E/B</td>\n",
       "      <td>4128.0</td>\n",
       "    </tr>\n",
       "    <tr>\n",
       "      <th>11024</th>\n",
       "      <td>2014-12-31</td>\n",
       "      <td>505</td>\n",
       "      <td>23:00:00</td>\n",
       "      <td>Wednesday</td>\n",
       "      <td>Dundas West Station to Broadview Station</td>\n",
       "      <td>General Delay</td>\n",
       "      <td>10.0</td>\n",
       "      <td>12.0</td>\n",
       "      <td>B/W</td>\n",
       "      <td>NaN</td>\n",
       "    </tr>\n",
       "    <tr>\n",
       "      <th>11025</th>\n",
       "      <td>2014-12-31</td>\n",
       "      <td>511</td>\n",
       "      <td>23:01:00</td>\n",
       "      <td>Wednesday</td>\n",
       "      <td>CNE</td>\n",
       "      <td>Mechanical</td>\n",
       "      <td>8.0</td>\n",
       "      <td>16.0</td>\n",
       "      <td>N/B</td>\n",
       "      <td>4160.0</td>\n",
       "    </tr>\n",
       "    <tr>\n",
       "      <th>11026</th>\n",
       "      <td>2014-12-31</td>\n",
       "      <td>504</td>\n",
       "      <td>23:18:00</td>\n",
       "      <td>Wednesday</td>\n",
       "      <td>King and Bathurst</td>\n",
       "      <td>Mechanical</td>\n",
       "      <td>7.0</td>\n",
       "      <td>14.0</td>\n",
       "      <td>E/B</td>\n",
       "      <td>4128.0</td>\n",
       "    </tr>\n",
       "  </tbody>\n",
       "</table>\n",
       "</div>"
      ],
      "text/plain": [
       "      Report Date  Route      Time  ... Min Gap Direction Vehicle\n",
       "11022  2014-12-31    509  22:30:00  ...    20.0       B/W     NaN\n",
       "11023  2014-12-31    504  22:54:00  ...    16.0       E/B  4128.0\n",
       "11024  2014-12-31    505  23:00:00  ...    12.0       B/W     NaN\n",
       "11025  2014-12-31    511  23:01:00  ...    16.0       N/B  4160.0\n",
       "11026  2014-12-31    504  23:18:00  ...    14.0       E/B  4128.0\n",
       "\n",
       "[5 rows x 10 columns]"
      ]
     },
     "execution_count": 18,
     "metadata": {
      "tags": []
     },
     "output_type": "execute_result"
    }
   ],
   "source": [
    "df[\"2014\"].tail()"
   ]
  },
  {
   "cell_type": "code",
   "execution_count": null,
   "metadata": {
    "colab": {
     "base_uri": "https://localhost:8080/"
    },
    "id": "ZEAUlG7vapLj",
    "outputId": "812d665d-4a20-4470-e4f5-c2aa3d5534c1"
   },
   "outputs": [
    {
     "name": "stdout",
     "output_type": "stream",
     "text": [
      "Total number of examples are : 82702\n"
     ]
    }
   ],
   "source": [
    "# Calculating the total amount of examples we have\n",
    "samples = 0\n",
    "for i in years:\n",
    "  samples += len(df[i])\n",
    "print(\"Total number of examples are : {}\".format(samples))"
   ]
  },
  {
   "cell_type": "code",
   "execution_count": null,
   "metadata": {
    "colab": {
     "base_uri": "https://localhost:8080/"
    },
    "id": "weLbb78Gs-P1",
    "outputId": "942c3424-911b-4648-a7a0-5b613cc2f2ad"
   },
   "outputs": [
    {
     "data": {
      "text/plain": [
       "Index(['Report Date', 'Route', 'Time', 'Day', 'Location', 'Incident',\n",
       "       'Min Delay', 'Min Gap', 'Direction', 'Vehicle'],\n",
       "      dtype='object')"
      ]
     },
     "execution_count": 20,
     "metadata": {
      "tags": []
     },
     "output_type": "execute_result"
    }
   ],
   "source": [
    "df[years[0]].columns"
   ]
  },
  {
   "cell_type": "code",
   "execution_count": null,
   "metadata": {
    "colab": {
     "base_uri": "https://localhost:8080/"
    },
    "id": "6HqBbXYuiR1A",
    "outputId": "0b14436d-86e2-4883-b24c-2f5745561cc3"
   },
   "outputs": [
    {
     "name": "stdout",
     "output_type": "stream",
     "text": [
      "Matching 2015\n",
      "Matching 2016\n",
      "Matching 2017\n",
      "Matching 2018\n",
      "Matching 2020\n",
      "Matching 2019\n"
     ]
    }
   ],
   "source": [
    "# Before Merging all the years dataset\n",
    "# Figuring out first, if the column name of all the years dataset are same, so that later there won't be issue on merging those dataframes\n",
    "initial_column_names = df[years[0]].columns\n",
    "for i in range(1, len(years)):\n",
    "    try :\n",
    "      np.any(initial_column_names == df[years[i]].columns)\n",
    "      print(\"Matching {}\".format(years[i]))\n",
    "    except:\n",
    "      print(\"Matching Issue in the year {}\".format(years[i]))"
   ]
  },
  {
   "cell_type": "code",
   "execution_count": null,
   "metadata": {
    "id": "vdb4vGrjpiAg"
   },
   "outputs": [],
   "source": [
    "merged_df = pd.concat([df[years[0]], \n",
    "                       df[years[1]], \n",
    "                       df[years[2]],\n",
    "                       df[years[3]],\n",
    "                       df[years[4]],\n",
    "                       df[years[5]],\n",
    "                       df[years[6]]], ignore_index=True)"
   ]
  },
  {
   "cell_type": "code",
   "execution_count": null,
   "metadata": {
    "colab": {
     "base_uri": "https://localhost:8080/"
    },
    "id": "RPNfvl5Gqac6",
    "outputId": "13ea703c-582c-4cae-c513-f1bb13db406f"
   },
   "outputs": [
    {
     "data": {
      "text/plain": [
       "82702"
      ]
     },
     "execution_count": 24,
     "metadata": {
      "tags": []
     },
     "output_type": "execute_result"
    }
   ],
   "source": [
    "len(merged_df)"
   ]
  },
  {
   "cell_type": "code",
   "execution_count": null,
   "metadata": {
    "colab": {
     "base_uri": "https://localhost:8080/",
     "height": 204
    },
    "id": "7DrNqQ0pqdFE",
    "outputId": "777fc0b4-7f74-45b5-cf46-e3febf319bc6"
   },
   "outputs": [
    {
     "data": {
      "text/html": [
       "<div>\n",
       "<style scoped>\n",
       "    .dataframe tbody tr th:only-of-type {\n",
       "        vertical-align: middle;\n",
       "    }\n",
       "\n",
       "    .dataframe tbody tr th {\n",
       "        vertical-align: top;\n",
       "    }\n",
       "\n",
       "    .dataframe thead th {\n",
       "        text-align: right;\n",
       "    }\n",
       "</style>\n",
       "<table border=\"1\" class=\"dataframe\">\n",
       "  <thead>\n",
       "    <tr style=\"text-align: right;\">\n",
       "      <th></th>\n",
       "      <th>Report Date</th>\n",
       "      <th>Route</th>\n",
       "      <th>Time</th>\n",
       "      <th>Day</th>\n",
       "      <th>Location</th>\n",
       "      <th>Incident</th>\n",
       "      <th>Min Delay</th>\n",
       "      <th>Min Gap</th>\n",
       "      <th>Direction</th>\n",
       "      <th>Vehicle</th>\n",
       "    </tr>\n",
       "  </thead>\n",
       "  <tbody>\n",
       "    <tr>\n",
       "      <th>0</th>\n",
       "      <td>2014-01-02</td>\n",
       "      <td>505</td>\n",
       "      <td>06:31:00</td>\n",
       "      <td>Thursday</td>\n",
       "      <td>Dundas and Roncesvalles</td>\n",
       "      <td>Late Leaving Garage</td>\n",
       "      <td>4.0</td>\n",
       "      <td>8.0</td>\n",
       "      <td>E/B</td>\n",
       "      <td>4018.0</td>\n",
       "    </tr>\n",
       "    <tr>\n",
       "      <th>1</th>\n",
       "      <td>2014-01-02</td>\n",
       "      <td>504</td>\n",
       "      <td>12:43:00</td>\n",
       "      <td>Thursday</td>\n",
       "      <td>King and Shaw</td>\n",
       "      <td>Utilized Off Route</td>\n",
       "      <td>20.0</td>\n",
       "      <td>22.0</td>\n",
       "      <td>E/B</td>\n",
       "      <td>4128.0</td>\n",
       "    </tr>\n",
       "    <tr>\n",
       "      <th>2</th>\n",
       "      <td>2014-01-02</td>\n",
       "      <td>501</td>\n",
       "      <td>14:01:00</td>\n",
       "      <td>Thursday</td>\n",
       "      <td>Kingston road and Bingham</td>\n",
       "      <td>Held By</td>\n",
       "      <td>13.0</td>\n",
       "      <td>19.0</td>\n",
       "      <td>W/B</td>\n",
       "      <td>4016.0</td>\n",
       "    </tr>\n",
       "    <tr>\n",
       "      <th>3</th>\n",
       "      <td>2014-01-02</td>\n",
       "      <td>504</td>\n",
       "      <td>14:22:00</td>\n",
       "      <td>Thursday</td>\n",
       "      <td>King St. and Roncesvalles Ave.</td>\n",
       "      <td>Investigation</td>\n",
       "      <td>7.0</td>\n",
       "      <td>11.0</td>\n",
       "      <td>W/B</td>\n",
       "      <td>4175.0</td>\n",
       "    </tr>\n",
       "    <tr>\n",
       "      <th>4</th>\n",
       "      <td>2014-01-02</td>\n",
       "      <td>504</td>\n",
       "      <td>16:42:00</td>\n",
       "      <td>Thursday</td>\n",
       "      <td>King and Bathurst</td>\n",
       "      <td>Utilized Off Route</td>\n",
       "      <td>3.0</td>\n",
       "      <td>6.0</td>\n",
       "      <td>E/B</td>\n",
       "      <td>4080.0</td>\n",
       "    </tr>\n",
       "  </tbody>\n",
       "</table>\n",
       "</div>"
      ],
      "text/plain": [
       "  Report Date  Route      Time       Day  ... Min Delay Min Gap  Direction  Vehicle\n",
       "0  2014-01-02    505  06:31:00  Thursday  ...       4.0     8.0        E/B   4018.0\n",
       "1  2014-01-02    504  12:43:00  Thursday  ...      20.0    22.0        E/B   4128.0\n",
       "2  2014-01-02    501  14:01:00  Thursday  ...      13.0    19.0        W/B   4016.0\n",
       "3  2014-01-02    504  14:22:00  Thursday  ...       7.0    11.0        W/B   4175.0\n",
       "4  2014-01-02    504  16:42:00  Thursday  ...       3.0     6.0        E/B   4080.0\n",
       "\n",
       "[5 rows x 10 columns]"
      ]
     },
     "execution_count": 25,
     "metadata": {
      "tags": []
     },
     "output_type": "execute_result"
    }
   ],
   "source": [
    "merged_df.head()"
   ]
  },
  {
   "cell_type": "code",
   "execution_count": null,
   "metadata": {
    "colab": {
     "base_uri": "https://localhost:8080/",
     "height": 204
    },
    "id": "aevEsKZoqifs",
    "outputId": "b2f08474-2408-4d3b-c953-05d9676c753d"
   },
   "outputs": [
    {
     "data": {
      "text/html": [
       "<div>\n",
       "<style scoped>\n",
       "    .dataframe tbody tr th:only-of-type {\n",
       "        vertical-align: middle;\n",
       "    }\n",
       "\n",
       "    .dataframe tbody tr th {\n",
       "        vertical-align: top;\n",
       "    }\n",
       "\n",
       "    .dataframe thead th {\n",
       "        text-align: right;\n",
       "    }\n",
       "</style>\n",
       "<table border=\"1\" class=\"dataframe\">\n",
       "  <thead>\n",
       "    <tr style=\"text-align: right;\">\n",
       "      <th></th>\n",
       "      <th>Report Date</th>\n",
       "      <th>Route</th>\n",
       "      <th>Time</th>\n",
       "      <th>Day</th>\n",
       "      <th>Location</th>\n",
       "      <th>Incident</th>\n",
       "      <th>Min Delay</th>\n",
       "      <th>Min Gap</th>\n",
       "      <th>Direction</th>\n",
       "      <th>Vehicle</th>\n",
       "    </tr>\n",
       "  </thead>\n",
       "  <tbody>\n",
       "    <tr>\n",
       "      <th>82697</th>\n",
       "      <td>2019-12-31</td>\n",
       "      <td>505</td>\n",
       "      <td>20:00:00</td>\n",
       "      <td>Tuesday</td>\n",
       "      <td>Parliament</td>\n",
       "      <td>General Delay</td>\n",
       "      <td>18.0</td>\n",
       "      <td>23.0</td>\n",
       "      <td>W/B</td>\n",
       "      <td>1262.0</td>\n",
       "    </tr>\n",
       "    <tr>\n",
       "      <th>82698</th>\n",
       "      <td>2019-12-31</td>\n",
       "      <td>505</td>\n",
       "      <td>20:32:00</td>\n",
       "      <td>Tuesday</td>\n",
       "      <td>Broadview Station</td>\n",
       "      <td>Emergency Services</td>\n",
       "      <td>5.0</td>\n",
       "      <td>10.0</td>\n",
       "      <td>W/B</td>\n",
       "      <td>3104.0</td>\n",
       "    </tr>\n",
       "    <tr>\n",
       "      <th>82699</th>\n",
       "      <td>2019-12-31</td>\n",
       "      <td>501</td>\n",
       "      <td>22:32:00</td>\n",
       "      <td>Tuesday</td>\n",
       "      <td>Humber Loop</td>\n",
       "      <td>Held By</td>\n",
       "      <td>5.0</td>\n",
       "      <td>10.0</td>\n",
       "      <td>E/B</td>\n",
       "      <td>4576.0</td>\n",
       "    </tr>\n",
       "    <tr>\n",
       "      <th>82700</th>\n",
       "      <td>2019-12-31</td>\n",
       "      <td>506</td>\n",
       "      <td>23:20:00</td>\n",
       "      <td>Tuesday</td>\n",
       "      <td>Carlton and Parliament</td>\n",
       "      <td>General Delay</td>\n",
       "      <td>20.0</td>\n",
       "      <td>26.0</td>\n",
       "      <td>E/B</td>\n",
       "      <td>4498.0</td>\n",
       "    </tr>\n",
       "    <tr>\n",
       "      <th>82701</th>\n",
       "      <td>2019-12-31</td>\n",
       "      <td>511</td>\n",
       "      <td>23:36:00</td>\n",
       "      <td>Tuesday</td>\n",
       "      <td>Bathurst Station</td>\n",
       "      <td>Held By</td>\n",
       "      <td>7.0</td>\n",
       "      <td>14.0</td>\n",
       "      <td>S/B</td>\n",
       "      <td>4583.0</td>\n",
       "    </tr>\n",
       "  </tbody>\n",
       "</table>\n",
       "</div>"
      ],
      "text/plain": [
       "      Report Date  Route      Time  ... Min Gap Direction Vehicle\n",
       "82697  2019-12-31    505  20:00:00  ...    23.0       W/B  1262.0\n",
       "82698  2019-12-31    505  20:32:00  ...    10.0       W/B  3104.0\n",
       "82699  2019-12-31    501  22:32:00  ...    10.0       E/B  4576.0\n",
       "82700  2019-12-31    506  23:20:00  ...    26.0       E/B  4498.0\n",
       "82701  2019-12-31    511  23:36:00  ...    14.0       S/B  4583.0\n",
       "\n",
       "[5 rows x 10 columns]"
      ]
     },
     "execution_count": 26,
     "metadata": {
      "tags": []
     },
     "output_type": "execute_result"
    }
   ],
   "source": [
    "merged_df.tail()"
   ]
  },
  {
   "cell_type": "code",
   "execution_count": null,
   "metadata": {
    "colab": {
     "base_uri": "https://localhost:8080/"
    },
    "id": "8vY8RWpzqlnk",
    "outputId": "ee35a1b3-9f65-4ceb-8d95-d07c2aece976"
   },
   "outputs": [
    {
     "name": "stdout",
     "output_type": "stream",
     "text": [
      "Merged dataset already exist\n"
     ]
    }
   ],
   "source": [
    "# Saving the merged dataframe for use later directly\n",
    "# It allows the later portion of creating and making data analysis and dividing data for ML algorithms training easy\n",
    "final_dataset_path = \"../final_dataset/\"\n",
    "if \"merged_data.csv\" in os.listdir(final_dataset_path):\n",
    "  print(\"Merged dataset already exist\")\n",
    "else:\n",
    "  merged_df.to_csv(dataset_dir+\"merged_data.csv\", index=False)"
   ]
  },
  {
   "cell_type": "markdown",
   "metadata": {
    "id": "GuOHyGxlrUK6"
   },
   "source": [
    "____________"
   ]
  },
  {
   "cell_type": "markdown",
   "metadata": {
    "id": "JkAJ3NK9rWaO"
   },
   "source": [
    "## Merged data analysis"
   ]
  },
  {
   "cell_type": "code",
   "execution_count": null,
   "metadata": {
    "colab": {
     "base_uri": "https://localhost:8080/"
    },
    "id": "VWBVCo_vs0mY",
    "outputId": "b2037cf1-b3aa-4914-9002-139116938425"
   },
   "outputs": [
    {
     "name": "stdout",
     "output_type": "stream",
     "text": [
      "Once deleted, variables cannot be recovered. Proceed (y/[n])? y\n"
     ]
    }
   ],
   "source": [
    "%reset \n",
    "# resetting al the previously used data, to remove the memory space"
   ]
  },
  {
   "cell_type": "code",
   "execution_count": null,
   "metadata": {
    "colab": {
     "base_uri": "https://localhost:8080/"
    },
    "id": "yyLApkkptA3b",
    "outputId": "067e477b-d2ec-4571-d35f-8cb722fb3e87"
   },
   "outputs": [
    {
     "name": "stdout",
     "output_type": "stream",
     "text": [
      "Interactive namespace is empty.\n"
     ]
    }
   ],
   "source": [
    "%whos"
   ]
  },
  {
   "cell_type": "code",
   "execution_count": null,
   "metadata": {
    "colab": {
     "base_uri": "https://localhost:8080/"
    },
    "id": "MrAdiKahxKVl",
    "outputId": "8a054815-9016-4517-adf0-2f9dfc11952d"
   },
   "outputs": [
    {
     "name": "stdout",
     "output_type": "stream",
     "text": [
      "Drive already mounted at /content/drive; to attempt to forcibly remount, call drive.mount(\"/content/drive\", force_remount=True).\n"
     ]
    }
   ],
   "source": [
    "from google.colab import drive\n",
    "drive.mount('/content/drive')"
   ]
  },
  {
   "cell_type": "code",
   "execution_count": null,
   "metadata": {
    "colab": {
     "base_uri": "https://localhost:8080/"
    },
    "id": "A9QzK7YPxJRd",
    "outputId": "1fa1c7eb-1074-44d7-c3a5-2f7a449f389b"
   },
   "outputs": [
    {
     "name": "stdout",
     "output_type": "stream",
     "text": [
      "/content/drive/MyDrive/COSC 606 Machine learning/Project/notebooks\n"
     ]
    }
   ],
   "source": [
    "import os\n",
    "os.chdir('drive/MyDrive/COSC 606 Machine learning/Project/notebooks/')\n",
    "!pwd"
   ]
  },
  {
   "cell_type": "code",
   "execution_count": null,
   "metadata": {
    "colab": {
     "base_uri": "https://localhost:8080/",
     "height": 204
    },
    "id": "39GJhunBq6b5",
    "outputId": "2eee9603-203b-436d-e7ff-80b4298d943c"
   },
   "outputs": [
    {
     "data": {
      "text/html": [
       "<div>\n",
       "<style scoped>\n",
       "    .dataframe tbody tr th:only-of-type {\n",
       "        vertical-align: middle;\n",
       "    }\n",
       "\n",
       "    .dataframe tbody tr th {\n",
       "        vertical-align: top;\n",
       "    }\n",
       "\n",
       "    .dataframe thead th {\n",
       "        text-align: right;\n",
       "    }\n",
       "</style>\n",
       "<table border=\"1\" class=\"dataframe\">\n",
       "  <thead>\n",
       "    <tr style=\"text-align: right;\">\n",
       "      <th></th>\n",
       "      <th>Report Date</th>\n",
       "      <th>Route</th>\n",
       "      <th>Time</th>\n",
       "      <th>Day</th>\n",
       "      <th>Location</th>\n",
       "      <th>Incident</th>\n",
       "      <th>Min Delay</th>\n",
       "      <th>Min Gap</th>\n",
       "      <th>Direction</th>\n",
       "      <th>Vehicle</th>\n",
       "    </tr>\n",
       "  </thead>\n",
       "  <tbody>\n",
       "    <tr>\n",
       "      <th>0</th>\n",
       "      <td>2014-01-02</td>\n",
       "      <td>505</td>\n",
       "      <td>06:31:00</td>\n",
       "      <td>Thursday</td>\n",
       "      <td>Dundas and Roncesvalles</td>\n",
       "      <td>Late Leaving Garage</td>\n",
       "      <td>4.0</td>\n",
       "      <td>8.0</td>\n",
       "      <td>E/B</td>\n",
       "      <td>4018.0</td>\n",
       "    </tr>\n",
       "    <tr>\n",
       "      <th>1</th>\n",
       "      <td>2014-01-02</td>\n",
       "      <td>504</td>\n",
       "      <td>12:43:00</td>\n",
       "      <td>Thursday</td>\n",
       "      <td>King and Shaw</td>\n",
       "      <td>Utilized Off Route</td>\n",
       "      <td>20.0</td>\n",
       "      <td>22.0</td>\n",
       "      <td>E/B</td>\n",
       "      <td>4128.0</td>\n",
       "    </tr>\n",
       "    <tr>\n",
       "      <th>2</th>\n",
       "      <td>2014-01-02</td>\n",
       "      <td>501</td>\n",
       "      <td>14:01:00</td>\n",
       "      <td>Thursday</td>\n",
       "      <td>Kingston road and Bingham</td>\n",
       "      <td>Held By</td>\n",
       "      <td>13.0</td>\n",
       "      <td>19.0</td>\n",
       "      <td>W/B</td>\n",
       "      <td>4016.0</td>\n",
       "    </tr>\n",
       "    <tr>\n",
       "      <th>3</th>\n",
       "      <td>2014-01-02</td>\n",
       "      <td>504</td>\n",
       "      <td>14:22:00</td>\n",
       "      <td>Thursday</td>\n",
       "      <td>King St. and Roncesvalles Ave.</td>\n",
       "      <td>Investigation</td>\n",
       "      <td>7.0</td>\n",
       "      <td>11.0</td>\n",
       "      <td>W/B</td>\n",
       "      <td>4175.0</td>\n",
       "    </tr>\n",
       "    <tr>\n",
       "      <th>4</th>\n",
       "      <td>2014-01-02</td>\n",
       "      <td>504</td>\n",
       "      <td>16:42:00</td>\n",
       "      <td>Thursday</td>\n",
       "      <td>King and Bathurst</td>\n",
       "      <td>Utilized Off Route</td>\n",
       "      <td>3.0</td>\n",
       "      <td>6.0</td>\n",
       "      <td>E/B</td>\n",
       "      <td>4080.0</td>\n",
       "    </tr>\n",
       "  </tbody>\n",
       "</table>\n",
       "</div>"
      ],
      "text/plain": [
       "  Report Date  Route      Time       Day  ... Min Delay Min Gap  Direction  Vehicle\n",
       "0  2014-01-02    505  06:31:00  Thursday  ...       4.0     8.0        E/B   4018.0\n",
       "1  2014-01-02    504  12:43:00  Thursday  ...      20.0    22.0        E/B   4128.0\n",
       "2  2014-01-02    501  14:01:00  Thursday  ...      13.0    19.0        W/B   4016.0\n",
       "3  2014-01-02    504  14:22:00  Thursday  ...       7.0    11.0        W/B   4175.0\n",
       "4  2014-01-02    504  16:42:00  Thursday  ...       3.0     6.0        E/B   4080.0\n",
       "\n",
       "[5 rows x 10 columns]"
      ]
     },
     "execution_count": 7,
     "metadata": {
      "tags": []
     },
     "output_type": "execute_result"
    }
   ],
   "source": [
    "import numpy as np\n",
    "import pandas as pd\n",
    "final_dataset_path = \"../final_dataset/\"\n",
    "merged_dataset_path = final_dataset_path+\"merged_data.csv\"\n",
    "df = pd.read_csv(merged_dataset_path)\n",
    "df.head()"
   ]
  },
  {
   "cell_type": "code",
   "execution_count": null,
   "metadata": {
    "colab": {
     "base_uri": "https://localhost:8080/",
     "height": 204
    },
    "id": "oFlDT2KZro_q",
    "outputId": "74f5d98e-cda9-4cab-a609-f4bbd40de614"
   },
   "outputs": [
    {
     "data": {
      "text/html": [
       "<div>\n",
       "<style scoped>\n",
       "    .dataframe tbody tr th:only-of-type {\n",
       "        vertical-align: middle;\n",
       "    }\n",
       "\n",
       "    .dataframe tbody tr th {\n",
       "        vertical-align: top;\n",
       "    }\n",
       "\n",
       "    .dataframe thead th {\n",
       "        text-align: right;\n",
       "    }\n",
       "</style>\n",
       "<table border=\"1\" class=\"dataframe\">\n",
       "  <thead>\n",
       "    <tr style=\"text-align: right;\">\n",
       "      <th></th>\n",
       "      <th>Report Date</th>\n",
       "      <th>Route</th>\n",
       "      <th>Time</th>\n",
       "      <th>Day</th>\n",
       "      <th>Location</th>\n",
       "      <th>Incident</th>\n",
       "      <th>Min Delay</th>\n",
       "      <th>Min Gap</th>\n",
       "      <th>Direction</th>\n",
       "      <th>Vehicle</th>\n",
       "    </tr>\n",
       "  </thead>\n",
       "  <tbody>\n",
       "    <tr>\n",
       "      <th>82697</th>\n",
       "      <td>2020-07-26</td>\n",
       "      <td>501</td>\n",
       "      <td>12:58:00</td>\n",
       "      <td>Sunday</td>\n",
       "      <td>QUEEN AND DUFFERIN</td>\n",
       "      <td>Mechanical</td>\n",
       "      <td>10.0</td>\n",
       "      <td>20.0</td>\n",
       "      <td>W/B</td>\n",
       "      <td>4422.0</td>\n",
       "    </tr>\n",
       "    <tr>\n",
       "      <th>82698</th>\n",
       "      <td>2020-07-27</td>\n",
       "      <td>301</td>\n",
       "      <td>02:09:00</td>\n",
       "      <td>Monday</td>\n",
       "      <td>QUEEN AND YORK</td>\n",
       "      <td>Mechanical</td>\n",
       "      <td>25.0</td>\n",
       "      <td>35.0</td>\n",
       "      <td>E/B</td>\n",
       "      <td>4514.0</td>\n",
       "    </tr>\n",
       "    <tr>\n",
       "      <th>82699</th>\n",
       "      <td>2020-07-27</td>\n",
       "      <td>306</td>\n",
       "      <td>02:20:00</td>\n",
       "      <td>Monday</td>\n",
       "      <td>Dundas West Station</td>\n",
       "      <td>Emergency Services</td>\n",
       "      <td>19.0</td>\n",
       "      <td>34.0</td>\n",
       "      <td>E/B</td>\n",
       "      <td>3129.0</td>\n",
       "    </tr>\n",
       "    <tr>\n",
       "      <th>82700</th>\n",
       "      <td>2020-08-03</td>\n",
       "      <td>504</td>\n",
       "      <td>00:56:00</td>\n",
       "      <td>Monday</td>\n",
       "      <td>Dufferin Loop</td>\n",
       "      <td>Mechanical</td>\n",
       "      <td>10.0</td>\n",
       "      <td>20.0</td>\n",
       "      <td>E/B</td>\n",
       "      <td>4464.0</td>\n",
       "    </tr>\n",
       "    <tr>\n",
       "      <th>82701</th>\n",
       "      <td>2020-08-03</td>\n",
       "      <td>501</td>\n",
       "      <td>23:42:00</td>\n",
       "      <td>Monday</td>\n",
       "      <td>Queen and Connaught (Russell Trailer Track)</td>\n",
       "      <td>Investigation</td>\n",
       "      <td>10.0</td>\n",
       "      <td>20.0</td>\n",
       "      <td>W/B</td>\n",
       "      <td>4466.0</td>\n",
       "    </tr>\n",
       "  </tbody>\n",
       "</table>\n",
       "</div>"
      ],
      "text/plain": [
       "      Report Date  Route      Time  ... Min Gap Direction Vehicle\n",
       "82697  2020-07-26    501  12:58:00  ...    20.0       W/B  4422.0\n",
       "82698  2020-07-27    301  02:09:00  ...    35.0       E/B  4514.0\n",
       "82699  2020-07-27    306  02:20:00  ...    34.0       E/B  3129.0\n",
       "82700  2020-08-03    504  00:56:00  ...    20.0       E/B  4464.0\n",
       "82701  2020-08-03    501  23:42:00  ...    20.0       W/B  4466.0\n",
       "\n",
       "[5 rows x 10 columns]"
      ]
     },
     "execution_count": 8,
     "metadata": {
      "tags": []
     },
     "output_type": "execute_result"
    }
   ],
   "source": [
    "df.tail()"
   ]
  },
  {
   "cell_type": "markdown",
   "metadata": {
    "id": "KeaZ_RKT8x5A"
   },
   "source": [
    "## Data analysis"
   ]
  },
  {
   "cell_type": "code",
   "execution_count": null,
   "metadata": {
    "colab": {
     "base_uri": "https://localhost:8080/"
    },
    "id": "d-bJ12WyrsQ3",
    "outputId": "776e7fa6-2d23-47c4-f8f4-06efccd3f9f6"
   },
   "outputs": [
    {
     "name": "stdout",
     "output_type": "stream",
     "text": [
      "<class 'pandas.core.frame.DataFrame'>\n",
      "RangeIndex: 82702 entries, 0 to 82701\n",
      "Data columns (total 10 columns):\n",
      " #   Column       Non-Null Count  Dtype  \n",
      "---  ------       --------------  -----  \n",
      " 0   Report Date  82702 non-null  object \n",
      " 1   Route        82702 non-null  int64  \n",
      " 2   Time         82702 non-null  object \n",
      " 3   Day          82702 non-null  object \n",
      " 4   Location     82439 non-null  object \n",
      " 5   Incident     82702 non-null  object \n",
      " 6   Min Delay    82623 non-null  float64\n",
      " 7   Min Gap      82581 non-null  float64\n",
      " 8   Direction    82393 non-null  object \n",
      " 9   Vehicle      78017 non-null  float64\n",
      "dtypes: float64(3), int64(1), object(6)\n",
      "memory usage: 6.3+ MB\n"
     ]
    }
   ],
   "source": [
    "df.info()"
   ]
  },
  {
   "cell_type": "markdown",
   "metadata": {
    "id": "3MmpHtJn8_H1"
   },
   "source": [
    "The data is using 6.3 Megabyte.\n",
    "\n",
    "The data memory usage is not much of an issue, since it is only 6.3MB."
   ]
  },
  {
   "cell_type": "markdown",
   "metadata": {
    "id": "5RmpRCvt9Wr0"
   },
   "source": [
    "The major objective of the data is:\n",
    "1. We have to use the infomation in order to predict which route has how much of delay.\n",
    "2. Which direction provides the least delay\n",
    "3. Data to use for prediction of delay are:\n",
    "* __Date__\n",
    "* __Route__\n",
    "* __Time__\n",
    "* __Day__\n",
    "* __Direction__\n",
    "* __Min Gap__\n",
    "* _Location is also not significant, since the incident can occur any place, and we cannot know it before hand. But for data analysis, to verify it does not make sense for ML model it will taken into consideration_\n",
    "* _Incident_ cannot be used as feature since it is reported when the incident happens, so it cannot it known before hand to be used as feature.\n",
    "* _Vehicle number is also not a suitable parameter to use, since it is just a number_\n",
    "\n"
   ]
  },
  {
   "cell_type": "code",
   "execution_count": null,
   "metadata": {
    "id": "QJ4MetJ680QJ"
   },
   "outputs": [],
   "source": [
    "# Dividing data into training and testing data.\n",
    "selected_columns = ['Report Date', 'Route', 'Time', 'Day', 'Location', 'Direction', 'Min Delay', \"Min Gap\"]\n",
    "new_df = df[selected_columns]"
   ]
  },
  {
   "cell_type": "code",
   "execution_count": null,
   "metadata": {
    "colab": {
     "base_uri": "https://localhost:8080/",
     "height": 204
    },
    "id": "L6Mwl6KD_Uuj",
    "outputId": "1f863283-62dc-418b-dfaf-d6b86d710785"
   },
   "outputs": [
    {
     "data": {
      "text/html": [
       "<div>\n",
       "<style scoped>\n",
       "    .dataframe tbody tr th:only-of-type {\n",
       "        vertical-align: middle;\n",
       "    }\n",
       "\n",
       "    .dataframe tbody tr th {\n",
       "        vertical-align: top;\n",
       "    }\n",
       "\n",
       "    .dataframe thead th {\n",
       "        text-align: right;\n",
       "    }\n",
       "</style>\n",
       "<table border=\"1\" class=\"dataframe\">\n",
       "  <thead>\n",
       "    <tr style=\"text-align: right;\">\n",
       "      <th></th>\n",
       "      <th>Report Date</th>\n",
       "      <th>Route</th>\n",
       "      <th>Time</th>\n",
       "      <th>Day</th>\n",
       "      <th>Location</th>\n",
       "      <th>Direction</th>\n",
       "      <th>Min Delay</th>\n",
       "      <th>Min Gap</th>\n",
       "    </tr>\n",
       "  </thead>\n",
       "  <tbody>\n",
       "    <tr>\n",
       "      <th>0</th>\n",
       "      <td>2014-01-02</td>\n",
       "      <td>505</td>\n",
       "      <td>06:31:00</td>\n",
       "      <td>Thursday</td>\n",
       "      <td>Dundas and Roncesvalles</td>\n",
       "      <td>E/B</td>\n",
       "      <td>4.0</td>\n",
       "      <td>8.0</td>\n",
       "    </tr>\n",
       "    <tr>\n",
       "      <th>1</th>\n",
       "      <td>2014-01-02</td>\n",
       "      <td>504</td>\n",
       "      <td>12:43:00</td>\n",
       "      <td>Thursday</td>\n",
       "      <td>King and Shaw</td>\n",
       "      <td>E/B</td>\n",
       "      <td>20.0</td>\n",
       "      <td>22.0</td>\n",
       "    </tr>\n",
       "    <tr>\n",
       "      <th>2</th>\n",
       "      <td>2014-01-02</td>\n",
       "      <td>501</td>\n",
       "      <td>14:01:00</td>\n",
       "      <td>Thursday</td>\n",
       "      <td>Kingston road and Bingham</td>\n",
       "      <td>W/B</td>\n",
       "      <td>13.0</td>\n",
       "      <td>19.0</td>\n",
       "    </tr>\n",
       "    <tr>\n",
       "      <th>3</th>\n",
       "      <td>2014-01-02</td>\n",
       "      <td>504</td>\n",
       "      <td>14:22:00</td>\n",
       "      <td>Thursday</td>\n",
       "      <td>King St. and Roncesvalles Ave.</td>\n",
       "      <td>W/B</td>\n",
       "      <td>7.0</td>\n",
       "      <td>11.0</td>\n",
       "    </tr>\n",
       "    <tr>\n",
       "      <th>4</th>\n",
       "      <td>2014-01-02</td>\n",
       "      <td>504</td>\n",
       "      <td>16:42:00</td>\n",
       "      <td>Thursday</td>\n",
       "      <td>King and Bathurst</td>\n",
       "      <td>E/B</td>\n",
       "      <td>3.0</td>\n",
       "      <td>6.0</td>\n",
       "    </tr>\n",
       "  </tbody>\n",
       "</table>\n",
       "</div>"
      ],
      "text/plain": [
       "  Report Date  Route      Time  ... Direction Min Delay Min Gap\n",
       "0  2014-01-02    505  06:31:00  ...       E/B       4.0     8.0\n",
       "1  2014-01-02    504  12:43:00  ...       E/B      20.0    22.0\n",
       "2  2014-01-02    501  14:01:00  ...       W/B      13.0    19.0\n",
       "3  2014-01-02    504  14:22:00  ...       W/B       7.0    11.0\n",
       "4  2014-01-02    504  16:42:00  ...       E/B       3.0     6.0\n",
       "\n",
       "[5 rows x 8 columns]"
      ]
     },
     "execution_count": 13,
     "metadata": {
      "tags": []
     },
     "output_type": "execute_result"
    }
   ],
   "source": [
    "new_df.head()"
   ]
  },
  {
   "cell_type": "code",
   "execution_count": null,
   "metadata": {
    "colab": {
     "base_uri": "https://localhost:8080/"
    },
    "id": "60o_uh5t_WB6",
    "outputId": "4794c961-9320-4c5b-c915-495d62762e55"
   },
   "outputs": [
    {
     "name": "stdout",
     "output_type": "stream",
     "text": [
      "<class 'pandas.core.frame.DataFrame'>\n",
      "RangeIndex: 74431 entries, 0 to 74430\n",
      "Data columns (total 8 columns):\n",
      " #   Column       Non-Null Count  Dtype  \n",
      "---  ------       --------------  -----  \n",
      " 0   Report Date  74431 non-null  object \n",
      " 1   Route        74431 non-null  int64  \n",
      " 2   Time         74431 non-null  object \n",
      " 3   Day          74431 non-null  object \n",
      " 4   Location     74189 non-null  object \n",
      " 5   Direction    74144 non-null  object \n",
      " 6   Min Delay    74363 non-null  float64\n",
      " 7   Min Gap      74331 non-null  float64\n",
      "dtypes: float64(2), int64(1), object(5)\n",
      "memory usage: 4.5+ MB\n",
      "None\n",
      "<class 'pandas.core.frame.DataFrame'>\n",
      "RangeIndex: 8271 entries, 74431 to 82701\n",
      "Data columns (total 8 columns):\n",
      " #   Column       Non-Null Count  Dtype  \n",
      "---  ------       --------------  -----  \n",
      " 0   Report Date  8271 non-null   object \n",
      " 1   Route        8271 non-null   int64  \n",
      " 2   Time         8271 non-null   object \n",
      " 3   Day          8271 non-null   object \n",
      " 4   Location     8250 non-null   object \n",
      " 5   Direction    8249 non-null   object \n",
      " 6   Min Delay    8260 non-null   float64\n",
      " 7   Min Gap      8250 non-null   float64\n",
      "dtypes: float64(2), int64(1), object(5)\n",
      "memory usage: 517.1+ KB\n",
      "None\n"
     ]
    }
   ],
   "source": [
    "# Since the order of the data matters interms of date\n",
    "# I will use 90% of data to make a training model\n",
    "# Will use 10% of last data to test the model\n",
    "\n",
    "# The reason to select 90% for training is because the dataset is quiet small in size\n",
    "# So it is better to enough data to train the model\n",
    "# And, ofcourse, evaluation on test set still holds reasonably acceptable\n",
    "train_test_percentage = 0.9\n",
    "\n",
    "train_df = new_df.iloc[:int(len(new_df)*train_test_percentage)]\n",
    "test_df = new_df.iloc[int(len(new_df)*train_test_percentage):]\n",
    "print(train_df.info())\n",
    "print(test_df.info())"
   ]
  },
  {
   "cell_type": "code",
   "execution_count": null,
   "metadata": {
    "colab": {
     "base_uri": "https://localhost:8080/",
     "height": 204
    },
    "id": "lZ1pq534AqTJ",
    "outputId": "3c83c6f3-d8c4-4bb5-d799-7f99f7b02f7c"
   },
   "outputs": [
    {
     "data": {
      "text/html": [
       "<div>\n",
       "<style scoped>\n",
       "    .dataframe tbody tr th:only-of-type {\n",
       "        vertical-align: middle;\n",
       "    }\n",
       "\n",
       "    .dataframe tbody tr th {\n",
       "        vertical-align: top;\n",
       "    }\n",
       "\n",
       "    .dataframe thead th {\n",
       "        text-align: right;\n",
       "    }\n",
       "</style>\n",
       "<table border=\"1\" class=\"dataframe\">\n",
       "  <thead>\n",
       "    <tr style=\"text-align: right;\">\n",
       "      <th></th>\n",
       "      <th>Report Date</th>\n",
       "      <th>Route</th>\n",
       "      <th>Time</th>\n",
       "      <th>Day</th>\n",
       "      <th>Location</th>\n",
       "      <th>Direction</th>\n",
       "      <th>Min Delay</th>\n",
       "      <th>Min Gap</th>\n",
       "    </tr>\n",
       "  </thead>\n",
       "  <tbody>\n",
       "    <tr>\n",
       "      <th>0</th>\n",
       "      <td>2014-01-02</td>\n",
       "      <td>505</td>\n",
       "      <td>06:31:00</td>\n",
       "      <td>Thursday</td>\n",
       "      <td>Dundas and Roncesvalles</td>\n",
       "      <td>E/B</td>\n",
       "      <td>4.0</td>\n",
       "      <td>8.0</td>\n",
       "    </tr>\n",
       "    <tr>\n",
       "      <th>1</th>\n",
       "      <td>2014-01-02</td>\n",
       "      <td>504</td>\n",
       "      <td>12:43:00</td>\n",
       "      <td>Thursday</td>\n",
       "      <td>King and Shaw</td>\n",
       "      <td>E/B</td>\n",
       "      <td>20.0</td>\n",
       "      <td>22.0</td>\n",
       "    </tr>\n",
       "    <tr>\n",
       "      <th>2</th>\n",
       "      <td>2014-01-02</td>\n",
       "      <td>501</td>\n",
       "      <td>14:01:00</td>\n",
       "      <td>Thursday</td>\n",
       "      <td>Kingston road and Bingham</td>\n",
       "      <td>W/B</td>\n",
       "      <td>13.0</td>\n",
       "      <td>19.0</td>\n",
       "    </tr>\n",
       "    <tr>\n",
       "      <th>3</th>\n",
       "      <td>2014-01-02</td>\n",
       "      <td>504</td>\n",
       "      <td>14:22:00</td>\n",
       "      <td>Thursday</td>\n",
       "      <td>King St. and Roncesvalles Ave.</td>\n",
       "      <td>W/B</td>\n",
       "      <td>7.0</td>\n",
       "      <td>11.0</td>\n",
       "    </tr>\n",
       "    <tr>\n",
       "      <th>4</th>\n",
       "      <td>2014-01-02</td>\n",
       "      <td>504</td>\n",
       "      <td>16:42:00</td>\n",
       "      <td>Thursday</td>\n",
       "      <td>King and Bathurst</td>\n",
       "      <td>E/B</td>\n",
       "      <td>3.0</td>\n",
       "      <td>6.0</td>\n",
       "    </tr>\n",
       "  </tbody>\n",
       "</table>\n",
       "</div>"
      ],
      "text/plain": [
       "  Report Date  Route      Time  ... Direction Min Delay Min Gap\n",
       "0  2014-01-02    505  06:31:00  ...       E/B       4.0     8.0\n",
       "1  2014-01-02    504  12:43:00  ...       E/B      20.0    22.0\n",
       "2  2014-01-02    501  14:01:00  ...       W/B      13.0    19.0\n",
       "3  2014-01-02    504  14:22:00  ...       W/B       7.0    11.0\n",
       "4  2014-01-02    504  16:42:00  ...       E/B       3.0     6.0\n",
       "\n",
       "[5 rows x 8 columns]"
      ]
     },
     "execution_count": 15,
     "metadata": {
      "tags": []
     },
     "output_type": "execute_result"
    }
   ],
   "source": [
    "train_df.head()"
   ]
  },
  {
   "cell_type": "code",
   "execution_count": null,
   "metadata": {
    "colab": {
     "base_uri": "https://localhost:8080/",
     "height": 204
    },
    "id": "TLLtmWv-BNxo",
    "outputId": "b8912c4b-44e3-45cd-cc35-e43f239f08bf"
   },
   "outputs": [
    {
     "data": {
      "text/html": [
       "<div>\n",
       "<style scoped>\n",
       "    .dataframe tbody tr th:only-of-type {\n",
       "        vertical-align: middle;\n",
       "    }\n",
       "\n",
       "    .dataframe tbody tr th {\n",
       "        vertical-align: top;\n",
       "    }\n",
       "\n",
       "    .dataframe thead th {\n",
       "        text-align: right;\n",
       "    }\n",
       "</style>\n",
       "<table border=\"1\" class=\"dataframe\">\n",
       "  <thead>\n",
       "    <tr style=\"text-align: right;\">\n",
       "      <th></th>\n",
       "      <th>Report Date</th>\n",
       "      <th>Route</th>\n",
       "      <th>Time</th>\n",
       "      <th>Day</th>\n",
       "      <th>Location</th>\n",
       "      <th>Direction</th>\n",
       "      <th>Min Delay</th>\n",
       "      <th>Min Gap</th>\n",
       "    </tr>\n",
       "  </thead>\n",
       "  <tbody>\n",
       "    <tr>\n",
       "      <th>74426</th>\n",
       "      <td>2019-08-03</td>\n",
       "      <td>510</td>\n",
       "      <td>09:55:00</td>\n",
       "      <td>Saturday</td>\n",
       "      <td>Spadina and Queensquay</td>\n",
       "      <td>S/B</td>\n",
       "      <td>8.0</td>\n",
       "      <td>16.0</td>\n",
       "    </tr>\n",
       "    <tr>\n",
       "      <th>74427</th>\n",
       "      <td>2019-08-03</td>\n",
       "      <td>501</td>\n",
       "      <td>10:21:00</td>\n",
       "      <td>Saturday</td>\n",
       "      <td>King/Spadina</td>\n",
       "      <td>W/B</td>\n",
       "      <td>7.0</td>\n",
       "      <td>14.0</td>\n",
       "    </tr>\n",
       "    <tr>\n",
       "      <th>74428</th>\n",
       "      <td>2019-08-03</td>\n",
       "      <td>505</td>\n",
       "      <td>10:37:00</td>\n",
       "      <td>Saturday</td>\n",
       "      <td>Broadview Station</td>\n",
       "      <td>W/B</td>\n",
       "      <td>5.0</td>\n",
       "      <td>10.0</td>\n",
       "    </tr>\n",
       "    <tr>\n",
       "      <th>74429</th>\n",
       "      <td>2019-08-03</td>\n",
       "      <td>505</td>\n",
       "      <td>10:37:00</td>\n",
       "      <td>Saturday</td>\n",
       "      <td>Dundas West Station</td>\n",
       "      <td>E/B</td>\n",
       "      <td>5.0</td>\n",
       "      <td>10.0</td>\n",
       "    </tr>\n",
       "    <tr>\n",
       "      <th>74430</th>\n",
       "      <td>2019-08-03</td>\n",
       "      <td>504</td>\n",
       "      <td>11:50:00</td>\n",
       "      <td>Saturday</td>\n",
       "      <td>King/Bathurst</td>\n",
       "      <td>E/B</td>\n",
       "      <td>9.0</td>\n",
       "      <td>16.0</td>\n",
       "    </tr>\n",
       "  </tbody>\n",
       "</table>\n",
       "</div>"
      ],
      "text/plain": [
       "      Report Date  Route      Time  ... Direction Min Delay Min Gap\n",
       "74426  2019-08-03    510  09:55:00  ...       S/B       8.0    16.0\n",
       "74427  2019-08-03    501  10:21:00  ...       W/B       7.0    14.0\n",
       "74428  2019-08-03    505  10:37:00  ...       W/B       5.0    10.0\n",
       "74429  2019-08-03    505  10:37:00  ...       E/B       5.0    10.0\n",
       "74430  2019-08-03    504  11:50:00  ...       E/B       9.0    16.0\n",
       "\n",
       "[5 rows x 8 columns]"
      ]
     },
     "execution_count": 16,
     "metadata": {
      "tags": []
     },
     "output_type": "execute_result"
    }
   ],
   "source": [
    "train_df.tail()\n"
   ]
  },
  {
   "cell_type": "code",
   "execution_count": null,
   "metadata": {
    "colab": {
     "base_uri": "https://localhost:8080/",
     "height": 204
    },
    "id": "_TWqTdOoBPTx",
    "outputId": "2702163b-cccb-41b9-fa0a-41bda980212c"
   },
   "outputs": [
    {
     "data": {
      "text/html": [
       "<div>\n",
       "<style scoped>\n",
       "    .dataframe tbody tr th:only-of-type {\n",
       "        vertical-align: middle;\n",
       "    }\n",
       "\n",
       "    .dataframe tbody tr th {\n",
       "        vertical-align: top;\n",
       "    }\n",
       "\n",
       "    .dataframe thead th {\n",
       "        text-align: right;\n",
       "    }\n",
       "</style>\n",
       "<table border=\"1\" class=\"dataframe\">\n",
       "  <thead>\n",
       "    <tr style=\"text-align: right;\">\n",
       "      <th></th>\n",
       "      <th>Report Date</th>\n",
       "      <th>Route</th>\n",
       "      <th>Time</th>\n",
       "      <th>Day</th>\n",
       "      <th>Location</th>\n",
       "      <th>Direction</th>\n",
       "      <th>Min Delay</th>\n",
       "      <th>Min Gap</th>\n",
       "    </tr>\n",
       "  </thead>\n",
       "  <tbody>\n",
       "    <tr>\n",
       "      <th>74431</th>\n",
       "      <td>2019-08-03</td>\n",
       "      <td>510</td>\n",
       "      <td>12:18:00</td>\n",
       "      <td>Saturday</td>\n",
       "      <td>Spadina and Sullivan</td>\n",
       "      <td>N/B</td>\n",
       "      <td>9.0</td>\n",
       "      <td>13.0</td>\n",
       "    </tr>\n",
       "    <tr>\n",
       "      <th>74432</th>\n",
       "      <td>2019-08-03</td>\n",
       "      <td>501</td>\n",
       "      <td>13:15:00</td>\n",
       "      <td>Saturday</td>\n",
       "      <td>Triller Ave</td>\n",
       "      <td>W/B</td>\n",
       "      <td>42.0</td>\n",
       "      <td>47.0</td>\n",
       "    </tr>\n",
       "    <tr>\n",
       "      <th>74433</th>\n",
       "      <td>2019-08-03</td>\n",
       "      <td>504</td>\n",
       "      <td>14:32:00</td>\n",
       "      <td>Saturday</td>\n",
       "      <td>King and Jameson</td>\n",
       "      <td>B/W</td>\n",
       "      <td>15.0</td>\n",
       "      <td>20.0</td>\n",
       "    </tr>\n",
       "    <tr>\n",
       "      <th>74434</th>\n",
       "      <td>2019-08-03</td>\n",
       "      <td>501</td>\n",
       "      <td>14:42:00</td>\n",
       "      <td>Saturday</td>\n",
       "      <td>Connaugh Ave</td>\n",
       "      <td>W/B</td>\n",
       "      <td>20.0</td>\n",
       "      <td>15.0</td>\n",
       "    </tr>\n",
       "    <tr>\n",
       "      <th>74435</th>\n",
       "      <td>2019-08-03</td>\n",
       "      <td>504</td>\n",
       "      <td>15:08:00</td>\n",
       "      <td>Saturday</td>\n",
       "      <td>King and Bay</td>\n",
       "      <td>B/W</td>\n",
       "      <td>222.0</td>\n",
       "      <td>226.0</td>\n",
       "    </tr>\n",
       "  </tbody>\n",
       "</table>\n",
       "</div>"
      ],
      "text/plain": [
       "      Report Date  Route      Time  ... Direction Min Delay Min Gap\n",
       "74431  2019-08-03    510  12:18:00  ...       N/B       9.0    13.0\n",
       "74432  2019-08-03    501  13:15:00  ...       W/B      42.0    47.0\n",
       "74433  2019-08-03    504  14:32:00  ...       B/W      15.0    20.0\n",
       "74434  2019-08-03    501  14:42:00  ...       W/B      20.0    15.0\n",
       "74435  2019-08-03    504  15:08:00  ...       B/W     222.0   226.0\n",
       "\n",
       "[5 rows x 8 columns]"
      ]
     },
     "execution_count": 17,
     "metadata": {
      "tags": []
     },
     "output_type": "execute_result"
    }
   ],
   "source": [
    "test_df.head()"
   ]
  },
  {
   "cell_type": "code",
   "execution_count": null,
   "metadata": {
    "colab": {
     "base_uri": "https://localhost:8080/",
     "height": 204
    },
    "id": "jFPxDVNuBQUH",
    "outputId": "c787bea8-1ee5-4549-ca1d-fc7298159f78"
   },
   "outputs": [
    {
     "data": {
      "text/html": [
       "<div>\n",
       "<style scoped>\n",
       "    .dataframe tbody tr th:only-of-type {\n",
       "        vertical-align: middle;\n",
       "    }\n",
       "\n",
       "    .dataframe tbody tr th {\n",
       "        vertical-align: top;\n",
       "    }\n",
       "\n",
       "    .dataframe thead th {\n",
       "        text-align: right;\n",
       "    }\n",
       "</style>\n",
       "<table border=\"1\" class=\"dataframe\">\n",
       "  <thead>\n",
       "    <tr style=\"text-align: right;\">\n",
       "      <th></th>\n",
       "      <th>Report Date</th>\n",
       "      <th>Route</th>\n",
       "      <th>Time</th>\n",
       "      <th>Day</th>\n",
       "      <th>Location</th>\n",
       "      <th>Direction</th>\n",
       "      <th>Min Delay</th>\n",
       "      <th>Min Gap</th>\n",
       "    </tr>\n",
       "  </thead>\n",
       "  <tbody>\n",
       "    <tr>\n",
       "      <th>82697</th>\n",
       "      <td>2020-07-26</td>\n",
       "      <td>501</td>\n",
       "      <td>12:58:00</td>\n",
       "      <td>Sunday</td>\n",
       "      <td>QUEEN AND DUFFERIN</td>\n",
       "      <td>W/B</td>\n",
       "      <td>10.0</td>\n",
       "      <td>20.0</td>\n",
       "    </tr>\n",
       "    <tr>\n",
       "      <th>82698</th>\n",
       "      <td>2020-07-27</td>\n",
       "      <td>301</td>\n",
       "      <td>02:09:00</td>\n",
       "      <td>Monday</td>\n",
       "      <td>QUEEN AND YORK</td>\n",
       "      <td>E/B</td>\n",
       "      <td>25.0</td>\n",
       "      <td>35.0</td>\n",
       "    </tr>\n",
       "    <tr>\n",
       "      <th>82699</th>\n",
       "      <td>2020-07-27</td>\n",
       "      <td>306</td>\n",
       "      <td>02:20:00</td>\n",
       "      <td>Monday</td>\n",
       "      <td>Dundas West Station</td>\n",
       "      <td>E/B</td>\n",
       "      <td>19.0</td>\n",
       "      <td>34.0</td>\n",
       "    </tr>\n",
       "    <tr>\n",
       "      <th>82700</th>\n",
       "      <td>2020-08-03</td>\n",
       "      <td>504</td>\n",
       "      <td>00:56:00</td>\n",
       "      <td>Monday</td>\n",
       "      <td>Dufferin Loop</td>\n",
       "      <td>E/B</td>\n",
       "      <td>10.0</td>\n",
       "      <td>20.0</td>\n",
       "    </tr>\n",
       "    <tr>\n",
       "      <th>82701</th>\n",
       "      <td>2020-08-03</td>\n",
       "      <td>501</td>\n",
       "      <td>23:42:00</td>\n",
       "      <td>Monday</td>\n",
       "      <td>Queen and Connaught (Russell Trailer Track)</td>\n",
       "      <td>W/B</td>\n",
       "      <td>10.0</td>\n",
       "      <td>20.0</td>\n",
       "    </tr>\n",
       "  </tbody>\n",
       "</table>\n",
       "</div>"
      ],
      "text/plain": [
       "      Report Date  Route      Time  ... Direction Min Delay Min Gap\n",
       "82697  2020-07-26    501  12:58:00  ...       W/B      10.0    20.0\n",
       "82698  2020-07-27    301  02:09:00  ...       E/B      25.0    35.0\n",
       "82699  2020-07-27    306  02:20:00  ...       E/B      19.0    34.0\n",
       "82700  2020-08-03    504  00:56:00  ...       E/B      10.0    20.0\n",
       "82701  2020-08-03    501  23:42:00  ...       W/B      10.0    20.0\n",
       "\n",
       "[5 rows x 8 columns]"
      ]
     },
     "execution_count": 18,
     "metadata": {
      "tags": []
     },
     "output_type": "execute_result"
    }
   ],
   "source": [
    "test_df.tail()"
   ]
  },
  {
   "cell_type": "code",
   "execution_count": null,
   "metadata": {
    "id": "9ZH5TTA-BRy4"
   },
   "outputs": [],
   "source": [
    "# saving the train and test dataset for later model training and testing\n",
    "# train_df.to_csv(final_dataset_path+\"train.csv\", index=False)\n",
    "# test_df.to_csv(final_dataset_path+\"test.csv\", index=False)"
   ]
  },
  {
   "cell_type": "markdown",
   "metadata": {
    "id": "REmjedR1q3iv"
   },
   "source": [
    "## Training dataset analysis"
   ]
  },
  {
   "cell_type": "code",
   "execution_count": null,
   "metadata": {
    "colab": {
     "base_uri": "https://localhost:8080/"
    },
    "id": "77GDhxlBxMQQ",
    "outputId": "ab3cc60c-2a2c-4b5b-973b-dddf73359004"
   },
   "outputs": [
    {
     "name": "stdout",
     "output_type": "stream",
     "text": [
      "Once deleted, variables cannot be recovered. Proceed (y/[n])? y\n"
     ]
    }
   ],
   "source": [
    "%reset"
   ]
  },
  {
   "cell_type": "code",
   "execution_count": null,
   "metadata": {
    "colab": {
     "base_uri": "https://localhost:8080/"
    },
    "id": "aX6l3-lg6dB6",
    "outputId": "40f161d4-91c7-4dc2-e7e8-8b114d96d5f4"
   },
   "outputs": [
    {
     "name": "stdout",
     "output_type": "stream",
     "text": [
      "Drive already mounted at /content/drive; to attempt to forcibly remount, call drive.mount(\"/content/drive\", force_remount=True).\n"
     ]
    }
   ],
   "source": [
    "from google.colab import drive\n",
    "drive.mount('/content/drive')"
   ]
  },
  {
   "cell_type": "code",
   "execution_count": null,
   "metadata": {
    "colab": {
     "base_uri": "https://localhost:8080/"
    },
    "id": "LJTRhgSa6dCN",
    "outputId": "43a60bd6-711d-4aae-e220-aac96564eccd"
   },
   "outputs": [
    {
     "name": "stdout",
     "output_type": "stream",
     "text": [
      "Already in the working directory\n"
     ]
    }
   ],
   "source": [
    "import os\n",
    "try:\n",
    "  os.chdir('drive/MyDrive/COSC 606 Machine learning/Project/notebooks/')\n",
    "except:\n",
    "  print(\"Already in the working directory\")"
   ]
  },
  {
   "cell_type": "code",
   "execution_count": null,
   "metadata": {
    "id": "g-0hMsPkz3W_"
   },
   "outputs": [],
   "source": [
    "import pandas as pd\n",
    "import matplotlib.pyplot as plt\n",
    "import seaborn as sns"
   ]
  },
  {
   "cell_type": "code",
   "execution_count": null,
   "metadata": {
    "colab": {
     "base_uri": "https://localhost:8080/",
     "height": 204
    },
    "id": "zy55_8-F6wyq",
    "outputId": "45b94c73-09c3-4f38-bacd-b78e510dba66"
   },
   "outputs": [
    {
     "data": {
      "text/html": [
       "<div>\n",
       "<style scoped>\n",
       "    .dataframe tbody tr th:only-of-type {\n",
       "        vertical-align: middle;\n",
       "    }\n",
       "\n",
       "    .dataframe tbody tr th {\n",
       "        vertical-align: top;\n",
       "    }\n",
       "\n",
       "    .dataframe thead th {\n",
       "        text-align: right;\n",
       "    }\n",
       "</style>\n",
       "<table border=\"1\" class=\"dataframe\">\n",
       "  <thead>\n",
       "    <tr style=\"text-align: right;\">\n",
       "      <th></th>\n",
       "      <th>Report Date</th>\n",
       "      <th>Route</th>\n",
       "      <th>Time</th>\n",
       "      <th>Day</th>\n",
       "      <th>Location</th>\n",
       "      <th>Direction</th>\n",
       "      <th>Min Delay</th>\n",
       "      <th>Min Gap</th>\n",
       "    </tr>\n",
       "  </thead>\n",
       "  <tbody>\n",
       "    <tr>\n",
       "      <th>0</th>\n",
       "      <td>2014-01-02</td>\n",
       "      <td>505</td>\n",
       "      <td>06:31:00</td>\n",
       "      <td>Thursday</td>\n",
       "      <td>Dundas and Roncesvalles</td>\n",
       "      <td>E/B</td>\n",
       "      <td>4.0</td>\n",
       "      <td>8.0</td>\n",
       "    </tr>\n",
       "    <tr>\n",
       "      <th>1</th>\n",
       "      <td>2014-01-02</td>\n",
       "      <td>504</td>\n",
       "      <td>12:43:00</td>\n",
       "      <td>Thursday</td>\n",
       "      <td>King and Shaw</td>\n",
       "      <td>E/B</td>\n",
       "      <td>20.0</td>\n",
       "      <td>22.0</td>\n",
       "    </tr>\n",
       "    <tr>\n",
       "      <th>2</th>\n",
       "      <td>2014-01-02</td>\n",
       "      <td>501</td>\n",
       "      <td>14:01:00</td>\n",
       "      <td>Thursday</td>\n",
       "      <td>Kingston road and Bingham</td>\n",
       "      <td>W/B</td>\n",
       "      <td>13.0</td>\n",
       "      <td>19.0</td>\n",
       "    </tr>\n",
       "    <tr>\n",
       "      <th>3</th>\n",
       "      <td>2014-01-02</td>\n",
       "      <td>504</td>\n",
       "      <td>14:22:00</td>\n",
       "      <td>Thursday</td>\n",
       "      <td>King St. and Roncesvalles Ave.</td>\n",
       "      <td>W/B</td>\n",
       "      <td>7.0</td>\n",
       "      <td>11.0</td>\n",
       "    </tr>\n",
       "    <tr>\n",
       "      <th>4</th>\n",
       "      <td>2014-01-02</td>\n",
       "      <td>504</td>\n",
       "      <td>16:42:00</td>\n",
       "      <td>Thursday</td>\n",
       "      <td>King and Bathurst</td>\n",
       "      <td>E/B</td>\n",
       "      <td>3.0</td>\n",
       "      <td>6.0</td>\n",
       "    </tr>\n",
       "  </tbody>\n",
       "</table>\n",
       "</div>"
      ],
      "text/plain": [
       "  Report Date  Route      Time  ... Direction Min Delay Min Gap\n",
       "0  2014-01-02    505  06:31:00  ...       E/B       4.0     8.0\n",
       "1  2014-01-02    504  12:43:00  ...       E/B      20.0    22.0\n",
       "2  2014-01-02    501  14:01:00  ...       W/B      13.0    19.0\n",
       "3  2014-01-02    504  14:22:00  ...       W/B       7.0    11.0\n",
       "4  2014-01-02    504  16:42:00  ...       E/B       3.0     6.0\n",
       "\n",
       "[5 rows x 8 columns]"
      ]
     },
     "execution_count": 429,
     "metadata": {
      "tags": []
     },
     "output_type": "execute_result"
    }
   ],
   "source": [
    "train_df = pd.read_csv(\"../final_dataset/train.csv\")\n",
    "train_df.head()"
   ]
  },
  {
   "cell_type": "code",
   "execution_count": null,
   "metadata": {
    "colab": {
     "base_uri": "https://localhost:8080/"
    },
    "id": "ClKnCW7rBkpt",
    "outputId": "adb157b3-5a84-4aa3-89d7-1b62b63f8780"
   },
   "outputs": [
    {
     "name": "stdout",
     "output_type": "stream",
     "text": [
      "<class 'pandas.core.frame.DataFrame'>\n",
      "RangeIndex: 74431 entries, 0 to 74430\n",
      "Data columns (total 8 columns):\n",
      " #   Column       Non-Null Count  Dtype  \n",
      "---  ------       --------------  -----  \n",
      " 0   Report Date  74431 non-null  object \n",
      " 1   Route        74431 non-null  int64  \n",
      " 2   Time         74431 non-null  object \n",
      " 3   Day          74431 non-null  object \n",
      " 4   Location     74189 non-null  object \n",
      " 5   Direction    74144 non-null  object \n",
      " 6   Min Delay    74363 non-null  float64\n",
      " 7   Min Gap      74331 non-null  float64\n",
      "dtypes: float64(2), int64(1), object(5)\n",
      "memory usage: 4.5+ MB\n"
     ]
    }
   ],
   "source": [
    "# Doing data analysis on training set.\n",
    "train_df.info()"
   ]
  },
  {
   "cell_type": "code",
   "execution_count": null,
   "metadata": {
    "colab": {
     "base_uri": "https://localhost:8080/",
     "height": 297
    },
    "id": "cY4v9NiurCid",
    "outputId": "8dcfc3ed-60b8-4020-ac71-5cec99563e85"
   },
   "outputs": [
    {
     "data": {
      "text/html": [
       "<div>\n",
       "<style scoped>\n",
       "    .dataframe tbody tr th:only-of-type {\n",
       "        vertical-align: middle;\n",
       "    }\n",
       "\n",
       "    .dataframe tbody tr th {\n",
       "        vertical-align: top;\n",
       "    }\n",
       "\n",
       "    .dataframe thead th {\n",
       "        text-align: right;\n",
       "    }\n",
       "</style>\n",
       "<table border=\"1\" class=\"dataframe\">\n",
       "  <thead>\n",
       "    <tr style=\"text-align: right;\">\n",
       "      <th></th>\n",
       "      <th>Route</th>\n",
       "      <th>Min Delay</th>\n",
       "      <th>Min Gap</th>\n",
       "    </tr>\n",
       "  </thead>\n",
       "  <tbody>\n",
       "    <tr>\n",
       "      <th>count</th>\n",
       "      <td>74431.000000</td>\n",
       "      <td>74363.000000</td>\n",
       "      <td>74331.000000</td>\n",
       "    </tr>\n",
       "    <tr>\n",
       "      <th>mean</th>\n",
       "      <td>501.037646</td>\n",
       "      <td>12.831933</td>\n",
       "      <td>18.297265</td>\n",
       "    </tr>\n",
       "    <tr>\n",
       "      <th>std</th>\n",
       "      <td>44.626436</td>\n",
       "      <td>30.349826</td>\n",
       "      <td>33.943143</td>\n",
       "    </tr>\n",
       "    <tr>\n",
       "      <th>min</th>\n",
       "      <td>1.000000</td>\n",
       "      <td>0.000000</td>\n",
       "      <td>0.000000</td>\n",
       "    </tr>\n",
       "    <tr>\n",
       "      <th>25%</th>\n",
       "      <td>501.000000</td>\n",
       "      <td>5.000000</td>\n",
       "      <td>9.000000</td>\n",
       "    </tr>\n",
       "    <tr>\n",
       "      <th>50%</th>\n",
       "      <td>505.000000</td>\n",
       "      <td>6.000000</td>\n",
       "      <td>12.000000</td>\n",
       "    </tr>\n",
       "    <tr>\n",
       "      <th>75%</th>\n",
       "      <td>509.000000</td>\n",
       "      <td>12.000000</td>\n",
       "      <td>20.000000</td>\n",
       "    </tr>\n",
       "    <tr>\n",
       "      <th>max</th>\n",
       "      <td>999.000000</td>\n",
       "      <td>1400.000000</td>\n",
       "      <td>4216.000000</td>\n",
       "    </tr>\n",
       "  </tbody>\n",
       "</table>\n",
       "</div>"
      ],
      "text/plain": [
       "              Route     Min Delay       Min Gap\n",
       "count  74431.000000  74363.000000  74331.000000\n",
       "mean     501.037646     12.831933     18.297265\n",
       "std       44.626436     30.349826     33.943143\n",
       "min        1.000000      0.000000      0.000000\n",
       "25%      501.000000      5.000000      9.000000\n",
       "50%      505.000000      6.000000     12.000000\n",
       "75%      509.000000     12.000000     20.000000\n",
       "max      999.000000   1400.000000   4216.000000"
      ]
     },
     "execution_count": 431,
     "metadata": {
      "tags": []
     },
     "output_type": "execute_result"
    }
   ],
   "source": [
    "train_df.describe()"
   ]
  },
  {
   "cell_type": "markdown",
   "metadata": {
    "id": "JvEWOXS_BKqA"
   },
   "source": [
    "We can see from the info of the dataframe that there are null values in the __Min Delay__ which is our target.\n",
    "\n",
    "Lets see how much NaN values are there in __Min Delay__ column, and then drop those samples"
   ]
  },
  {
   "cell_type": "code",
   "execution_count": null,
   "metadata": {
    "colab": {
     "base_uri": "https://localhost:8080/"
    },
    "id": "gLIjx9riBJur",
    "outputId": "2419a646-d545-4a5a-dfa8-0123ec65d3da"
   },
   "outputs": [
    {
     "data": {
      "text/plain": [
       "False    74363\n",
       "True        68\n",
       "Name: Min Delay, dtype: int64"
      ]
     },
     "execution_count": 432,
     "metadata": {
      "tags": []
     },
     "output_type": "execute_result"
    }
   ],
   "source": [
    "train_df[\"Min Delay\"].isnull().value_counts() "
   ]
  },
  {
   "cell_type": "code",
   "execution_count": null,
   "metadata": {
    "id": "Mr_ocugtCEv4"
   },
   "outputs": [],
   "source": [
    "def clean_delay(df):\n",
    "  df = df[df['Min Delay'].notna()]\n",
    "  return df"
   ]
  },
  {
   "cell_type": "code",
   "execution_count": null,
   "metadata": {
    "colab": {
     "base_uri": "https://localhost:8080/"
    },
    "id": "gcFGhDGkBqa6",
    "outputId": "75d12039-3b20-495a-8bed-74d890c92b0b"
   },
   "outputs": [
    {
     "name": "stdout",
     "output_type": "stream",
     "text": [
      "<class 'pandas.core.frame.DataFrame'>\n",
      "Int64Index: 74363 entries, 0 to 74430\n",
      "Data columns (total 8 columns):\n",
      " #   Column       Non-Null Count  Dtype  \n",
      "---  ------       --------------  -----  \n",
      " 0   Report Date  74363 non-null  object \n",
      " 1   Route        74363 non-null  int64  \n",
      " 2   Time         74363 non-null  object \n",
      " 3   Day          74363 non-null  object \n",
      " 4   Location     74124 non-null  object \n",
      " 5   Direction    74081 non-null  object \n",
      " 6   Min Delay    74363 non-null  float64\n",
      " 7   Min Gap      74317 non-null  float64\n",
      "dtypes: float64(2), int64(1), object(5)\n",
      "memory usage: 5.1+ MB\n",
      "None\n",
      "              Route     Min Delay       Min Gap\n",
      "count  74363.000000  74363.000000  74317.000000\n",
      "mean     501.036080     12.831933     18.295652\n",
      "std       44.628605     30.349826     33.944389\n",
      "min        1.000000      0.000000      0.000000\n",
      "25%      501.000000      5.000000      9.000000\n",
      "50%      505.000000      6.000000     12.000000\n",
      "75%      509.000000     12.000000     20.000000\n",
      "max      999.000000   1400.000000   4216.000000\n"
     ]
    }
   ],
   "source": [
    "# There are 68 examples which has NaN inside Min Delay columns\n",
    "train_df = clean_delay(train_df)\n",
    "print(train_df.info())\n",
    "print(train_df.describe())"
   ]
  },
  {
   "cell_type": "code",
   "execution_count": null,
   "metadata": {
    "colab": {
     "base_uri": "https://localhost:8080/",
     "height": 567
    },
    "id": "jzqEAkLIzro1",
    "outputId": "872ac3f6-70bd-4238-fa2c-b69624e86e5b"
   },
   "outputs": [
    {
     "data": {
      "text/plain": [
       "<Figure size 1440x720 with 0 Axes>"
      ]
     },
     "metadata": {
      "tags": []
     },
     "output_type": "display_data"
    },
    {
     "data": {
      "image/png": "[encoded data removed]",
      "text/plain": [
       "<Figure size 540x540 with 12 Axes>"
      ]
     },
     "metadata": {
      "needs_background": "light",
      "tags": []
     },
     "output_type": "display_data"
    }
   ],
   "source": [
    "data_numeric = train_df.select_dtypes(include=['float64', 'int64'])\n",
    "plt.figure(figsize=(20, 10))\n",
    "sns.pairplot(data_numeric)\n",
    "plt.show()"
   ]
  },
  {
   "cell_type": "markdown",
   "metadata": {
    "id": "whDqx7ge0jJF"
   },
   "source": [
    "From the above plot we can see that there is some relation ship between the route selected and the delay occuring. That is with some routes selected there is more delay, while with other routes there seem to less delays. The relationship between the delay and route looks more like normal distribution, but not completely normal distribution.\n",
    "\n",
    "Similarly, there is some relation ship between the min gap and the delay. The delay suffered by the street car is related with gap the gap time between the street car itself and the upfront street car. It could be a good feature to be selected for prediction of delay.\n",
    "\n"
   ]
  },
  {
   "cell_type": "markdown",
   "metadata": {
    "id": "B_q3S7_AK9QT"
   },
   "source": [
    "## Analysis done on :\n",
    "\n",
    "*   [ ] Route\n",
    "*   [ ] Location\n",
    "*   [ ] Day  \n",
    "*   [ ] Time\n",
    "*   [ ] Min Gap\n",
    "*   [ ] Direction"
   ]
  },
  {
   "cell_type": "markdown",
   "metadata": {
    "id": "fmG0-EKd1rOG"
   },
   "source": [
    "### More analysis between Route and Min Delay"
   ]
  },
  {
   "cell_type": "code",
   "execution_count": null,
   "metadata": {
    "colab": {
     "base_uri": "https://localhost:8080/"
    },
    "id": "ZL6i69B91zgv",
    "outputId": "6d4695cd-f913-4ea6-b61a-6b579b0ed949"
   },
   "outputs": [
    {
     "data": {
      "text/plain": [
       "501    18424\n",
       "504    14221\n",
       "506    10159\n",
       "505     8164\n",
       "512     5669\n",
       "       ...  \n",
       "13         1\n",
       "204        1\n",
       "596        1\n",
       "85         1\n",
       "64         1\n",
       "Name: Route, Length: 109, dtype: int64"
      ]
     },
     "execution_count": 389,
     "metadata": {
      "tags": []
     },
     "output_type": "execute_result"
    }
   ],
   "source": [
    "train_df[\"Route\"].value_counts()"
   ]
  },
  {
   "cell_type": "markdown",
   "metadata": {
    "id": "Ti5aaFZP2BWx"
   },
   "source": [
    "As this Route number is categorical data, and there seem to be 109 unique routes. \n",
    "To confirm that we are dealing with all the operating routes, COnfirming from website of TTC street car dataset. The valid routes for street car are only the one listed below:\n",
    "* 501\n",
    "* 502\n",
    "* 503\n",
    "* 504\n",
    "* 505\n",
    "* 506\n",
    "* 509\n",
    "* 510\n",
    "* 511\n",
    "* 512\n",
    "* 301\n",
    "* 304\n",
    "* 306\n",
    "* 310"
   ]
  },
  {
   "cell_type": "code",
   "execution_count": null,
   "metadata": {
    "id": "oQ4nXS7j2zKM"
   },
   "outputs": [],
   "source": [
    "def check_route(x):\n",
    "  # load the valid list of TTC Streetcar routes\n",
    "  valid_routes = [501, 502, 503, 504, 505, 506, 509, 510, 511, 512, 301, 304, 306, 310]\n",
    "  if x in valid_routes:\n",
    "    return x\n",
    "  else:\n",
    "    return \"bad route\""
   ]
  },
  {
   "cell_type": "code",
   "execution_count": null,
   "metadata": {
    "id": "nTmUOXa75hNK"
   },
   "outputs": [],
   "source": [
    "#We can see that 2464 directions are non functioning routes.\n",
    "# Thus removing those examples will not affect alot. Since, most of the routes that we are \n",
    "# concerened with still falls in valid routes list\n",
    "def clean_route(df):\n",
    "  # This function takes dataframe as input\n",
    "  # cleans the route column based on the validity of the route of street car\n",
    "  # returns the cleaned dataframe\n",
    "  df['Route'] = df['Route'].apply(lambda x:check_route(x))\n",
    "  df = df[df.Route != \"bad route\"]\n",
    "  df['Route'] = df['Route'].astype('int64')\n",
    "  return df"
   ]
  },
  {
   "cell_type": "code",
   "execution_count": null,
   "metadata": {
    "colab": {
     "base_uri": "https://localhost:8080/"
    },
    "id": "dyXX1MZk6rVv",
    "outputId": "c0a4bf60-2048-4c8e-f897-65f0b17c854e"
   },
   "outputs": [
    {
     "name": "stdout",
     "output_type": "stream",
     "text": [
      "<class 'pandas.core.frame.DataFrame'>\n",
      "Int64Index: 71967 entries, 0 to 74430\n",
      "Data columns (total 8 columns):\n",
      " #   Column       Non-Null Count  Dtype  \n",
      "---  ------       --------------  -----  \n",
      " 0   Report Date  71967 non-null  object \n",
      " 1   Route        71967 non-null  int64  \n",
      " 2   Time         71967 non-null  object \n",
      " 3   Day          71967 non-null  object \n",
      " 4   Location     71746 non-null  object \n",
      " 5   Direction    71686 non-null  object \n",
      " 6   Min Delay    71901 non-null  float64\n",
      " 7   Min Gap      71869 non-null  float64\n",
      "dtypes: float64(2), int64(1), object(5)\n",
      "memory usage: 4.9+ MB\n"
     ]
    },
    {
     "name": "stderr",
     "output_type": "stream",
     "text": [
      "/usr/local/lib/python3.7/dist-packages/ipykernel_launcher.py:10: SettingWithCopyWarning: \n",
      "A value is trying to be set on a copy of a slice from a DataFrame.\n",
      "Try using .loc[row_indexer,col_indexer] = value instead\n",
      "\n",
      "See the caveats in the documentation: https://pandas.pydata.org/pandas-docs/stable/user_guide/indexing.html#returning-a-view-versus-a-copy\n",
      "  # Remove the CWD from sys.path while we load stuff.\n"
     ]
    }
   ],
   "source": [
    "train_df = clean_route(train_df)\n",
    "train_df.info()"
   ]
  },
  {
   "cell_type": "code",
   "execution_count": null,
   "metadata": {
    "colab": {
     "base_uri": "https://localhost:8080/"
    },
    "id": "1z3GE1ty7sIn",
    "outputId": "158e1cc2-ea79-417f-fda8-3c16db48040d"
   },
   "outputs": [
    {
     "data": {
      "text/plain": [
       "False    71967\n",
       "Name: Route, dtype: int64"
      ]
     },
     "execution_count": 437,
     "metadata": {
      "tags": []
     },
     "output_type": "execute_result"
    }
   ],
   "source": [
    "# No null values in route columns\n",
    "train_df['Route'].isnull().value_counts()"
   ]
  },
  {
   "cell_type": "code",
   "execution_count": null,
   "metadata": {
    "colab": {
     "base_uri": "https://localhost:8080/",
     "height": 391
    },
    "id": "Y_pqa-vB_j9y",
    "outputId": "587fabc8-de57-4cf1-972b-6c2ad4259e84"
   },
   "outputs": [
    {
     "data": {
      "text/plain": [
       "<seaborn.axisgrid.PairGrid at 0x7f21680c68d0>"
      ]
     },
     "execution_count": 394,
     "metadata": {
      "tags": []
     },
     "output_type": "execute_result"
    },
    {
     "data": {
      "image/png": "[encoded data removed]",
      "text/plain": [
       "<Figure size 360x360 with 6 Axes>"
      ]
     },
     "metadata": {
      "needs_background": "light",
      "tags": []
     },
     "output_type": "display_data"
    }
   ],
   "source": [
    "# Lets try looking into the relationship between the min delay and route\n",
    "sns.pairplot(train_df[['Route', \"Min Delay\"]])"
   ]
  },
  {
   "cell_type": "markdown",
   "metadata": {
    "id": "yyE89Jt8_53C"
   },
   "source": [
    "From the plot above, it is very clear that the route belonging to 300 numbers suffers pretty less delay compared to the routes with number 500.\n",
    "\n",
    "Given that, the direction are not considered here into analysis yet. The assumption is that, the route selected by the user will have high impact on delay if the proper direction of the route is selected.\n",
    "\n",
    "_______"
   ]
  },
  {
   "cell_type": "markdown",
   "metadata": {
    "id": "7a2cEP7tJ6Th"
   },
   "source": [
    "## Analysis done on :\n",
    "\n",
    "*   [X] Route\n",
    "*   [ ] Location\n",
    "*   [ ] Day  \n",
    "*   [ ] Time\n",
    "*   [ ] Min Gap\n",
    "*   [ ] Direction"
   ]
  },
  {
   "cell_type": "markdown",
   "metadata": {
    "id": "co0ZmwS-LF77"
   },
   "source": [
    "### More analysis on Location data"
   ]
  },
  {
   "cell_type": "code",
   "execution_count": null,
   "metadata": {
    "colab": {
     "base_uri": "https://localhost:8080/"
    },
    "id": "fUn5gDxAzJzK",
    "outputId": "eb164ad7-99e3-4243-812a-d89b2090ec58"
   },
   "outputs": [
    {
     "data": {
      "text/plain": [
       "count            71746\n",
       "unique           16107\n",
       "top       Russell Yard\n",
       "freq              1066\n",
       "Name: Location, dtype: object"
      ]
     },
     "execution_count": 438,
     "metadata": {
      "tags": []
     },
     "output_type": "execute_result"
    }
   ],
   "source": [
    "train_df[\"Location\"].describe()"
   ]
  },
  {
   "cell_type": "markdown",
   "metadata": {
    "id": "jXmHtI2CLTE8"
   },
   "source": [
    "There are 16090 unique locations info available in the location column. Using this info is not suitable given the current situation, since it requires geocoding first such that relevant continious values can be taken into consideration. Otherwise, this column has to be treated as discrete value, and will require 16k features. Thus is irrelevant.\n",
    "\n",
    "Dropping this locations column"
   ]
  },
  {
   "cell_type": "code",
   "execution_count": null,
   "metadata": {
    "id": "lGKxjqWjLSPJ"
   },
   "outputs": [],
   "source": [
    "def drop_location(df):\n",
    "  df = df.drop([\"Location\"], axis=1)\n",
    "  return df"
   ]
  },
  {
   "cell_type": "code",
   "execution_count": null,
   "metadata": {
    "colab": {
     "base_uri": "https://localhost:8080/"
    },
    "id": "pb4mL9BGMN4b",
    "outputId": "7ce6f5f6-71cd-4637-bd33-a0eeb71ae79f"
   },
   "outputs": [
    {
     "data": {
      "text/plain": [
       "Index(['Report Date', 'Route', 'Time', 'Day', 'Location', 'Direction',\n",
       "       'Min Delay', 'Min Gap'],\n",
       "      dtype='object')"
      ]
     },
     "execution_count": 440,
     "metadata": {
      "tags": []
     },
     "output_type": "execute_result"
    }
   ],
   "source": [
    "train_df.columns"
   ]
  },
  {
   "cell_type": "code",
   "execution_count": null,
   "metadata": {
    "id": "blR7bA6QMFEq"
   },
   "outputs": [],
   "source": [
    "train_df = drop_location(train_df)"
   ]
  },
  {
   "cell_type": "code",
   "execution_count": null,
   "metadata": {
    "colab": {
     "base_uri": "https://localhost:8080/"
    },
    "id": "_cI6wFOtMc-1",
    "outputId": "b5eec96f-b0b5-4371-9113-e2cd2a5ee0c1"
   },
   "outputs": [
    {
     "name": "stdout",
     "output_type": "stream",
     "text": [
      "<class 'pandas.core.frame.DataFrame'>\n",
      "Int64Index: 71967 entries, 0 to 74430\n",
      "Data columns (total 7 columns):\n",
      " #   Column       Non-Null Count  Dtype  \n",
      "---  ------       --------------  -----  \n",
      " 0   Report Date  71967 non-null  object \n",
      " 1   Route        71967 non-null  int64  \n",
      " 2   Time         71967 non-null  object \n",
      " 3   Day          71967 non-null  object \n",
      " 4   Direction    71686 non-null  object \n",
      " 5   Min Delay    71901 non-null  float64\n",
      " 6   Min Gap      71869 non-null  float64\n",
      "dtypes: float64(2), int64(1), object(4)\n",
      "memory usage: 4.4+ MB\n",
      "None\n",
      "              Route     Min Delay       Min Gap\n",
      "count  71967.000000  71901.000000  71869.000000\n",
      "mean     501.060972     12.665749     18.119982\n",
      "std       28.804500     29.733220     33.659001\n",
      "min      301.000000      0.000000      0.000000\n",
      "25%      501.000000      5.000000      9.000000\n",
      "50%      504.000000      6.000000     12.000000\n",
      "75%      506.000000     11.000000     20.000000\n",
      "max      512.000000   1400.000000   4216.000000\n"
     ]
    }
   ],
   "source": [
    "print(train_df.info())\n",
    "print(train_df.describe())"
   ]
  },
  {
   "cell_type": "markdown",
   "metadata": {
    "id": "0BfVZA77Musi"
   },
   "source": [
    "## Analysis done on :\n",
    "\n",
    "*   [x] Route\n",
    "*   [x] Location\n",
    "*   [ ] Day  \n",
    "*   [ ] Time\n",
    "*   [ ] Min Gap\n",
    "*   [ ] Direction"
   ]
  },
  {
   "cell_type": "markdown",
   "metadata": {
    "id": "CUGXQ5kEM0fL"
   },
   "source": [
    "_______\n",
    "\n",
    "### Analysis on Day of a week\n",
    "\n",
    "Here, the analysis will be done, on average how much delay each day of the week has. And which week has more delay and which has less. To figure out if the delay is depending on the day of the week or not"
   ]
  },
  {
   "cell_type": "code",
   "execution_count": null,
   "metadata": {
    "colab": {
     "base_uri": "https://localhost:8080/"
    },
    "id": "KkIHJhCJMwM0",
    "outputId": "fcef2d5a-ac40-49ee-e78f-0cc33bdc37d8"
   },
   "outputs": [
    {
     "data": {
      "text/plain": [
       "False    71967\n",
       "Name: Day, dtype: int64"
      ]
     },
     "execution_count": 443,
     "metadata": {
      "tags": []
     },
     "output_type": "execute_result"
    }
   ],
   "source": [
    "# Checking if the day column has nan values\n",
    "train_df[\"Day\"].isnull().value_counts()"
   ]
  },
  {
   "cell_type": "code",
   "execution_count": null,
   "metadata": {
    "colab": {
     "base_uri": "https://localhost:8080/",
     "height": 444
    },
    "id": "sz-gLGXJNMFB",
    "outputId": "38808c60-82da-4bd8-d749-51b1386a7136"
   },
   "outputs": [
    {
     "data": {
      "image/png": "[encoded data removed]",
      "text/plain": [
       "<Figure size 504x504 with 1 Axes>"
      ]
     },
     "metadata": {
      "needs_background": "light",
      "tags": []
     },
     "output_type": "display_data"
    }
   ],
   "source": [
    "# There are no null values in day column. So lets move forward with the analysis\n",
    "plt.figure(figsize=(7,7))\n",
    "plt.bar(train_df[\"Day\"].value_counts().reset_index()['index'], train_df[\"Day\"].value_counts().reset_index()['Day'])\n",
    "plt.title(\"Total number of data points in each day for training set\")\n",
    "plt.show()"
   ]
  },
  {
   "cell_type": "markdown",
   "metadata": {
    "id": "PdsWv_HbO4fZ"
   },
   "source": [
    "We have more data points in thursday, then least number of data points on sunday"
   ]
  },
  {
   "cell_type": "code",
   "execution_count": null,
   "metadata": {
    "colab": {
     "base_uri": "https://localhost:8080/",
     "height": 788
    },
    "id": "HkpCSq4cNyih",
    "outputId": "7043ad5a-f7df-4328-e6ab-e88672857891"
   },
   "outputs": [
    {
     "data": {
      "text/plain": [
       "<BarContainer object of 7 artists>"
      ]
     },
     "execution_count": 402,
     "metadata": {
      "tags": []
     },
     "output_type": "execute_result"
    },
    {
     "data": {
      "image/png": "[encoded data removed]",
      "text/plain": [
       "<Figure size 936x936 with 4 Axes>"
      ]
     },
     "metadata": {
      "needs_background": "light",
      "tags": []
     },
     "output_type": "display_data"
    }
   ],
   "source": [
    "# Let's plot some bar graph showing how much delay are occuring in each day of the week\n",
    "plt.figure(figsize=(13, 13))\n",
    "plt.subplot(2,2,1)\n",
    "plt.title(\"Minimum delay on each day\")\n",
    "plt.bar(train_df.groupby([\"Day\"])[\"Min Delay\"].min().reset_index()['Day'], train_df.groupby([\"Day\"])[\"Min Delay\"].min())\n",
    "plt.subplot(2,2,2)\n",
    "plt.title(\"Maximum delay on each day\")\n",
    "plt.bar(train_df.groupby([\"Day\"])[\"Min Delay\"].max().reset_index()['Day'], train_df.groupby([\"Day\"])[\"Min Delay\"].max())\n",
    "plt.subplot(2,2,3)\n",
    "plt.title(\"Average delay on each day\")\n",
    "plt.bar(train_df.groupby([\"Day\"])[\"Min Delay\"].mean().reset_index()['Day'], train_df.groupby([\"Day\"])[\"Min Delay\"].mean())\n",
    "plt.subplot(2,2,4)\n",
    "plt.title(\"Median delay on each day\")\n",
    "plt.bar(train_df.groupby([\"Day\"])[\"Min Delay\"].median().reset_index()['Day'], train_df.groupby([\"Day\"])[\"Min Delay\"].median())"
   ]
  },
  {
   "cell_type": "markdown",
   "metadata": {
    "id": "XavOmxikRyX_"
   },
   "source": [
    "### From above we can clearly see that, everyday there is likely to be minimum delay of zero, while maximum delay can go to more than 400 minutes.\n",
    "\n",
    "### In average the delay are mostly similar in each day except on saturday and sunday.\n",
    "\n",
    "### The median plot has been done to look for how much the outlier delay is affecting the average delay. \n",
    "\n",
    "### Since the average delay and median delay are somewhat similar in pattern, this could be a better feature to use. Since, sunday and saturday there are more delay occuring. Also, the maximum delay can occur at any day thus this feature could be of better help to predict delay\n",
    "\n"
   ]
  },
  {
   "cell_type": "markdown",
   "metadata": {
    "id": "CMN4BrrGSz47"
   },
   "source": [
    "## Analysis done on :\n",
    "\n",
    "*   [x] Route\n",
    "*   [x] Location\n",
    "*   [x] Day  \n",
    "*   [ ] Time\n",
    "*   [ ] Min Gap\n",
    "*   [ ] Direction"
   ]
  },
  {
   "cell_type": "markdown",
   "metadata": {
    "id": "fe_SGpIoS3-S"
   },
   "source": [
    "_______\n",
    "\n",
    "### Analysis on Time of a day\n",
    "\n",
    "Here the analysis will be done on a time of a day. During which time delay is occuring, and during which time delay are not occuring"
   ]
  },
  {
   "cell_type": "markdown",
   "metadata": {
    "id": "kF4H7OcRZwSW"
   },
   "source": [
    "\n",
    "First lets convert the date and time column into date time column\n",
    "\n",
    "Then we can use the datetime column functionality to do further analysis"
   ]
  },
  {
   "cell_type": "code",
   "execution_count": null,
   "metadata": {
    "id": "RwC4_X9XXhmZ"
   },
   "outputs": [],
   "source": [
    "def create_date_time_column(df):\n",
    "   # This function takes dataframe, then merges the date and time \n",
    "   # The convert that column into datetime datatype\n",
    "   # Such that it can be further used in time series easily\n",
    "  try:\n",
    "    new = pd.to_datetime(df[\"Report Date\"] + \" \"+ df[\"Time\"])\n",
    "    df[\"Date Time\"] = new\n",
    "    df = df.drop([\"Report Date\", \"Time\"], axis=1)\n",
    "    return df\n",
    "  except:\n",
    "    return df"
   ]
  },
  {
   "cell_type": "code",
   "execution_count": null,
   "metadata": {
    "id": "zXurgW6QXv7n"
   },
   "outputs": [],
   "source": [
    "train_df = create_date_time_column(train_df)"
   ]
  },
  {
   "cell_type": "code",
   "execution_count": null,
   "metadata": {
    "colab": {
     "base_uri": "https://localhost:8080/"
    },
    "id": "q0Rn6w2rWtbb",
    "outputId": "13df9f53-a1ee-4fd8-ad1f-0f27f9c17e82"
   },
   "outputs": [
    {
     "name": "stdout",
     "output_type": "stream",
     "text": [
      "<class 'pandas.core.frame.DataFrame'>\n",
      "Int64Index: 71967 entries, 0 to 74430\n",
      "Data columns (total 6 columns):\n",
      " #   Column     Non-Null Count  Dtype  \n",
      "---  ------     --------------  -----  \n",
      " 0   Route      71967 non-null  int64  \n",
      " 1   Day        71967 non-null  object \n",
      " 2   Direction  71686 non-null  object \n",
      " 3   Min Delay  71901 non-null  float64\n",
      " 4   Min Gap    71869 non-null  float64\n",
      " 5   Date Time  71967 non-null  object \n",
      "dtypes: float64(2), int64(1), object(3)\n",
      "memory usage: 3.8+ MB\n"
     ]
    }
   ],
   "source": [
    "train_df.info()"
   ]
  },
  {
   "cell_type": "code",
   "execution_count": null,
   "metadata": {
    "id": "EdPEQ3PpY0mO"
   },
   "outputs": [],
   "source": [
    "train_df[\"Date Time\"] = pd.to_datetime(train_df['Date Time'], utc=True)"
   ]
  },
  {
   "cell_type": "code",
   "execution_count": null,
   "metadata": {
    "colab": {
     "base_uri": "https://localhost:8080/"
    },
    "id": "58Alrr4AbYtv",
    "outputId": "b0358b68-89be-48b0-9260-4446eeb61766"
   },
   "outputs": [
    {
     "name": "stdout",
     "output_type": "stream",
     "text": [
      "<class 'pandas.core.frame.DataFrame'>\n",
      "Int64Index: 71967 entries, 0 to 74430\n",
      "Data columns (total 6 columns):\n",
      " #   Column     Non-Null Count  Dtype              \n",
      "---  ------     --------------  -----              \n",
      " 0   Route      71967 non-null  int64              \n",
      " 1   Day        71967 non-null  object             \n",
      " 2   Direction  71686 non-null  object             \n",
      " 3   Min Delay  71901 non-null  float64            \n",
      " 4   Min Gap    71869 non-null  float64            \n",
      " 5   Date Time  71967 non-null  datetime64[ns, UTC]\n",
      "dtypes: datetime64[ns, UTC](1), float64(2), int64(1), object(2)\n",
      "memory usage: 3.8+ MB\n"
     ]
    }
   ],
   "source": [
    "train_df.info()"
   ]
  },
  {
   "cell_type": "code",
   "execution_count": null,
   "metadata": {
    "colab": {
     "base_uri": "https://localhost:8080/"
    },
    "id": "E7zfZ-y1TLIU",
    "outputId": "52588a5a-3a8c-49af-87ae-9430122689e5"
   },
   "outputs": [
    {
     "data": {
      "text/plain": [
       "False    71967\n",
       "Name: Date Time, dtype: int64"
      ]
     },
     "execution_count": 450,
     "metadata": {
      "tags": []
     },
     "output_type": "execute_result"
    }
   ],
   "source": [
    "train_df[\"Date Time\"].isnull().value_counts() # Counting if there are any null values in date time columns"
   ]
  },
  {
   "cell_type": "code",
   "execution_count": null,
   "metadata": {
    "colab": {
     "base_uri": "https://localhost:8080/",
     "height": 204
    },
    "id": "BIFUKpdTWQtf",
    "outputId": "419d7699-a030-4f3d-bcde-1d7220413c9c"
   },
   "outputs": [
    {
     "data": {
      "text/html": [
       "<div>\n",
       "<style scoped>\n",
       "    .dataframe tbody tr th:only-of-type {\n",
       "        vertical-align: middle;\n",
       "    }\n",
       "\n",
       "    .dataframe tbody tr th {\n",
       "        vertical-align: top;\n",
       "    }\n",
       "\n",
       "    .dataframe thead th {\n",
       "        text-align: right;\n",
       "    }\n",
       "</style>\n",
       "<table border=\"1\" class=\"dataframe\">\n",
       "  <thead>\n",
       "    <tr style=\"text-align: right;\">\n",
       "      <th></th>\n",
       "      <th>Route</th>\n",
       "      <th>Day</th>\n",
       "      <th>Direction</th>\n",
       "      <th>Min Delay</th>\n",
       "      <th>Min Gap</th>\n",
       "      <th>Date Time</th>\n",
       "    </tr>\n",
       "  </thead>\n",
       "  <tbody>\n",
       "    <tr>\n",
       "      <th>0</th>\n",
       "      <td>505</td>\n",
       "      <td>Thursday</td>\n",
       "      <td>E/B</td>\n",
       "      <td>4.0</td>\n",
       "      <td>8.0</td>\n",
       "      <td>2014-01-02 06:31:00+00:00</td>\n",
       "    </tr>\n",
       "    <tr>\n",
       "      <th>1</th>\n",
       "      <td>504</td>\n",
       "      <td>Thursday</td>\n",
       "      <td>E/B</td>\n",
       "      <td>20.0</td>\n",
       "      <td>22.0</td>\n",
       "      <td>2014-01-02 12:43:00+00:00</td>\n",
       "    </tr>\n",
       "    <tr>\n",
       "      <th>2</th>\n",
       "      <td>501</td>\n",
       "      <td>Thursday</td>\n",
       "      <td>W/B</td>\n",
       "      <td>13.0</td>\n",
       "      <td>19.0</td>\n",
       "      <td>2014-01-02 14:01:00+00:00</td>\n",
       "    </tr>\n",
       "    <tr>\n",
       "      <th>3</th>\n",
       "      <td>504</td>\n",
       "      <td>Thursday</td>\n",
       "      <td>W/B</td>\n",
       "      <td>7.0</td>\n",
       "      <td>11.0</td>\n",
       "      <td>2014-01-02 14:22:00+00:00</td>\n",
       "    </tr>\n",
       "    <tr>\n",
       "      <th>4</th>\n",
       "      <td>504</td>\n",
       "      <td>Thursday</td>\n",
       "      <td>E/B</td>\n",
       "      <td>3.0</td>\n",
       "      <td>6.0</td>\n",
       "      <td>2014-01-02 16:42:00+00:00</td>\n",
       "    </tr>\n",
       "  </tbody>\n",
       "</table>\n",
       "</div>"
      ],
      "text/plain": [
       "   Route       Day Direction  Min Delay  Min Gap                 Date Time\n",
       "0    505  Thursday       E/B        4.0      8.0 2014-01-02 06:31:00+00:00\n",
       "1    504  Thursday       E/B       20.0     22.0 2014-01-02 12:43:00+00:00\n",
       "2    501  Thursday       W/B       13.0     19.0 2014-01-02 14:01:00+00:00\n",
       "3    504  Thursday       W/B        7.0     11.0 2014-01-02 14:22:00+00:00\n",
       "4    504  Thursday       E/B        3.0      6.0 2014-01-02 16:42:00+00:00"
      ]
     },
     "execution_count": 451,
     "metadata": {
      "tags": []
     },
     "output_type": "execute_result"
    }
   ],
   "source": [
    "train_df.head()"
   ]
  },
  {
   "cell_type": "code",
   "execution_count": null,
   "metadata": {
    "colab": {
     "base_uri": "https://localhost:8080/",
     "height": 444
    },
    "id": "DeTMdRMFoKwI",
    "outputId": "f85870e1-16cd-4fc9-a1f5-93af5f3228a3"
   },
   "outputs": [
    {
     "data": {
      "text/plain": [
       "[<matplotlib.lines.Line2D at 0x7f2169ec7050>]"
      ]
     },
     "execution_count": 410,
     "metadata": {
      "tags": []
     },
     "output_type": "execute_result"
    },
    {
     "data": {
      "image/png": "[encoded data removed]",
      "text/plain": [
       "<Figure size 1440x504 with 1 Axes>"
      ]
     },
     "metadata": {
      "needs_background": "light",
      "tags": []
     },
     "output_type": "display_data"
    }
   ],
   "source": [
    "plt.figure(figsize=(20,7))\n",
    "plt.plot(train_df['Date Time'], train_df[\"Min Delay\"])"
   ]
  },
  {
   "cell_type": "markdown",
   "metadata": {
    "id": "XnYt4ft3o9EJ"
   },
   "source": [
    "Since the data used for visualization is too long, it is really difficult to see patern directly.\n",
    "\n",
    "\n",
    "Dividing the data into groups based on time of the day.\n",
    "\n",
    "To check how the time of the day affects the delay\n",
    "\n",
    "Different time of the day are categorized as:\n",
    "1. Morning (5 AM to 12 PM)\n",
    "2. Afternoon (12 PM to 5 PM)\n",
    "3. Evening (5 PM to 9 PM)\n",
    "4. Night (9 PM to 5 AM)\n",
    "\n"
   ]
  },
  {
   "cell_type": "code",
   "execution_count": null,
   "metadata": {
    "id": "QtWaBmDzs-xM"
   },
   "outputs": [],
   "source": [
    "def day_divider(hour):\n",
    "  if hour > 5 and hour < 12:\n",
    "    return \"morning\"\n",
    "  elif hour >= 12 and hour < 17: \n",
    "    return \"afternoon\"\n",
    "  elif hour >= 17 and hour < 21:\n",
    "    return \"evening\"\n",
    "  else:\n",
    "    return \"night\"\n",
    "\n",
    "        \n",
    "train_df[\"Part of Day\"] = train_df.apply(lambda x: day_divider(x[\"Date Time\"].hour),axis=1)"
   ]
  },
  {
   "cell_type": "code",
   "execution_count": null,
   "metadata": {
    "colab": {
     "base_uri": "https://localhost:8080/",
     "height": 204
    },
    "id": "TE6uXV_1vUGs",
    "outputId": "9094aab6-0d9b-48f0-dd26-b63a6597b32e"
   },
   "outputs": [
    {
     "data": {
      "text/html": [
       "<div>\n",
       "<style scoped>\n",
       "    .dataframe tbody tr th:only-of-type {\n",
       "        vertical-align: middle;\n",
       "    }\n",
       "\n",
       "    .dataframe tbody tr th {\n",
       "        vertical-align: top;\n",
       "    }\n",
       "\n",
       "    .dataframe thead th {\n",
       "        text-align: right;\n",
       "    }\n",
       "</style>\n",
       "<table border=\"1\" class=\"dataframe\">\n",
       "  <thead>\n",
       "    <tr style=\"text-align: right;\">\n",
       "      <th></th>\n",
       "      <th>Route</th>\n",
       "      <th>Day</th>\n",
       "      <th>Direction</th>\n",
       "      <th>Min Delay</th>\n",
       "      <th>Min Gap</th>\n",
       "      <th>Date Time</th>\n",
       "      <th>Part of Day</th>\n",
       "    </tr>\n",
       "  </thead>\n",
       "  <tbody>\n",
       "    <tr>\n",
       "      <th>0</th>\n",
       "      <td>505</td>\n",
       "      <td>Thursday</td>\n",
       "      <td>E/B</td>\n",
       "      <td>4.0</td>\n",
       "      <td>8.0</td>\n",
       "      <td>2014-01-02 06:31:00+00:00</td>\n",
       "      <td>morning</td>\n",
       "    </tr>\n",
       "    <tr>\n",
       "      <th>1</th>\n",
       "      <td>504</td>\n",
       "      <td>Thursday</td>\n",
       "      <td>E/B</td>\n",
       "      <td>20.0</td>\n",
       "      <td>22.0</td>\n",
       "      <td>2014-01-02 12:43:00+00:00</td>\n",
       "      <td>afternoon</td>\n",
       "    </tr>\n",
       "    <tr>\n",
       "      <th>2</th>\n",
       "      <td>501</td>\n",
       "      <td>Thursday</td>\n",
       "      <td>W/B</td>\n",
       "      <td>13.0</td>\n",
       "      <td>19.0</td>\n",
       "      <td>2014-01-02 14:01:00+00:00</td>\n",
       "      <td>afternoon</td>\n",
       "    </tr>\n",
       "    <tr>\n",
       "      <th>3</th>\n",
       "      <td>504</td>\n",
       "      <td>Thursday</td>\n",
       "      <td>W/B</td>\n",
       "      <td>7.0</td>\n",
       "      <td>11.0</td>\n",
       "      <td>2014-01-02 14:22:00+00:00</td>\n",
       "      <td>afternoon</td>\n",
       "    </tr>\n",
       "    <tr>\n",
       "      <th>4</th>\n",
       "      <td>504</td>\n",
       "      <td>Thursday</td>\n",
       "      <td>E/B</td>\n",
       "      <td>3.0</td>\n",
       "      <td>6.0</td>\n",
       "      <td>2014-01-02 16:42:00+00:00</td>\n",
       "      <td>afternoon</td>\n",
       "    </tr>\n",
       "  </tbody>\n",
       "</table>\n",
       "</div>"
      ],
      "text/plain": [
       "   Route       Day Direction  ...  Min Gap                 Date Time Part of Day\n",
       "0    505  Thursday       E/B  ...      8.0 2014-01-02 06:31:00+00:00     morning\n",
       "1    504  Thursday       E/B  ...     22.0 2014-01-02 12:43:00+00:00   afternoon\n",
       "2    501  Thursday       W/B  ...     19.0 2014-01-02 14:01:00+00:00   afternoon\n",
       "3    504  Thursday       W/B  ...     11.0 2014-01-02 14:22:00+00:00   afternoon\n",
       "4    504  Thursday       E/B  ...      6.0 2014-01-02 16:42:00+00:00   afternoon\n",
       "\n",
       "[5 rows x 7 columns]"
      ]
     },
     "execution_count": 453,
     "metadata": {
      "tags": []
     },
     "output_type": "execute_result"
    }
   ],
   "source": [
    "train_df.head()"
   ]
  },
  {
   "cell_type": "code",
   "execution_count": null,
   "metadata": {
    "colab": {
     "base_uri": "https://localhost:8080/"
    },
    "id": "7rvjdDT4wdQh",
    "outputId": "871c89c6-7485-4a01-caef-128b9256ce3b"
   },
   "outputs": [
    {
     "data": {
      "text/plain": [
       "False    71967\n",
       "Name: Part of Day, dtype: int64"
      ]
     },
     "execution_count": 454,
     "metadata": {
      "tags": []
     },
     "output_type": "execute_result"
    }
   ],
   "source": [
    "train_df[\"Part of Day\"].isnull().value_counts()"
   ]
  },
  {
   "cell_type": "code",
   "execution_count": null,
   "metadata": {
    "colab": {
     "base_uri": "https://localhost:8080/",
     "height": 788
    },
    "id": "dQ0NuYOZUbSa",
    "outputId": "798deb0b-10ad-4c14-f717-2e88dbb509d2"
   },
   "outputs": [
    {
     "data": {
      "text/plain": [
       "<BarContainer object of 4 artists>"
      ]
     },
     "execution_count": 414,
     "metadata": {
      "tags": []
     },
     "output_type": "execute_result"
    },
    {
     "data": {
      "image/png": "[encoded data removed]",
      "text/plain": [
       "<Figure size 936x936 with 4 Axes>"
      ]
     },
     "metadata": {
      "needs_background": "light",
      "tags": []
     },
     "output_type": "display_data"
    }
   ],
   "source": [
    "# Let's plot some bar graph showing how much delay are occuring in each part of the day\n",
    "plt.figure(figsize=(13, 13))\n",
    "plt.subplot(2,2,1)\n",
    "plt.title(\"Minimum delay on each part of a day\")\n",
    "plt.bar(train_df.groupby([\"Part of Day\"])[\"Min Delay\"].min().reset_index()['Part of Day'], train_df.groupby([\"Part of Day\"])[\"Min Delay\"].min())\n",
    "plt.subplot(2,2,2)\n",
    "plt.title(\"Maximum delay on each part of a day\")\n",
    "plt.bar(train_df.groupby([\"Part of Day\"])[\"Min Delay\"].max().reset_index()['Part of Day'], train_df.groupby([\"Part of Day\"])[\"Min Delay\"].max())\n",
    "plt.subplot(2,2,3)\n",
    "plt.title(\"Average delay on each part of a day\")\n",
    "plt.bar(train_df.groupby([\"Part of Day\"])[\"Min Delay\"].mean().reset_index()['Part of Day'], train_df.groupby([\"Part of Day\"])[\"Min Delay\"].mean())\n",
    "plt.subplot(2,2,4)\n",
    "plt.title(\"Median delay on each part of a day\")\n",
    "plt.bar(train_df.groupby([\"Part of Day\"])[\"Min Delay\"].median().reset_index()['Part of Day'], train_df.groupby([\"Part of Day\"])[\"Min Delay\"].median())"
   ]
  },
  {
   "cell_type": "markdown",
   "metadata": {
    "id": "gEenb-VowGwC"
   },
   "source": [
    "### From here it is very clear that the most of the delay occurs in night and least delays occurs during morning.\n",
    "\n",
    "### So part of the day is also a good feature to include for predicting the delay\n",
    "\n",
    "_______"
   ]
  },
  {
   "cell_type": "markdown",
   "metadata": {
    "id": "mLaxaNPmwYEb"
   },
   "source": [
    "## Analysis done on :\n",
    "\n",
    "*   [x] Route\n",
    "*   [x] Location\n",
    "*   [x] Day  \n",
    "*   [x] Time\n",
    "*   [ ] Min Gap\n",
    "*   [ ] Direction"
   ]
  },
  {
   "cell_type": "markdown",
   "metadata": {
    "id": "Qd0y3OcMwksZ"
   },
   "source": [
    "_______\n",
    "\n",
    "### Analysis on Min Gap between the current street car and already en route street car"
   ]
  },
  {
   "cell_type": "code",
   "execution_count": null,
   "metadata": {
    "colab": {
     "base_uri": "https://localhost:8080/"
    },
    "id": "11J4jlDawscL",
    "outputId": "4fc49b5c-3d6c-4cc3-9f15-a17269edb492"
   },
   "outputs": [
    {
     "data": {
      "text/plain": [
       "count    71869.000000\n",
       "mean        18.119982\n",
       "std         33.659001\n",
       "min          0.000000\n",
       "25%          9.000000\n",
       "50%         12.000000\n",
       "75%         20.000000\n",
       "max       4216.000000\n",
       "Name: Min Gap, dtype: float64"
      ]
     },
     "execution_count": 455,
     "metadata": {
      "tags": []
     },
     "output_type": "execute_result"
    }
   ],
   "source": [
    "train_df[\"Min Gap\"].describe()"
   ]
  },
  {
   "cell_type": "code",
   "execution_count": null,
   "metadata": {
    "colab": {
     "base_uri": "https://localhost:8080/",
     "height": 391
    },
    "id": "T3Hn-AW7wv38",
    "outputId": "4ef285bb-d2b1-4859-f044-55a9aa512b86"
   },
   "outputs": [
    {
     "data": {
      "text/plain": [
       "<seaborn.axisgrid.PairGrid at 0x7f215b362f50>"
      ]
     },
     "execution_count": 416,
     "metadata": {
      "tags": []
     },
     "output_type": "execute_result"
    },
    {
     "data": {
      "image/png": "[encoded data removed]",
      "text/plain": [
       "<Figure size 360x360 with 6 Axes>"
      ]
     },
     "metadata": {
      "needs_background": "light",
      "tags": []
     },
     "output_type": "display_data"
    }
   ],
   "source": [
    "sns.pairplot(train_df[[\"Min Gap\", \"Min Delay\"]])"
   ]
  },
  {
   "cell_type": "markdown",
   "metadata": {
    "id": "KSAgzDu_xF-R"
   },
   "source": [
    "From the pairplot it is very much understandable that there is some linear kind of relationship between Min Delay and Min Gap. So, we will use this feature as well for predicting the delay.\n",
    "\n",
    "Preprocessing the NaN Values in the Min Gap feature\n",
    "\n",
    "I will not drop the samples, where there are no any Min Gap values, however they will be replaced by the Average Min Gap value"
   ]
  },
  {
   "cell_type": "code",
   "execution_count": null,
   "metadata": {
    "colab": {
     "base_uri": "https://localhost:8080/"
    },
    "id": "aTu0TI5Xw1Wq",
    "outputId": "2e18d526-f7b6-4fbf-c796-21290b22ec70"
   },
   "outputs": [
    {
     "data": {
      "text/plain": [
       "False    71869\n",
       "True        98\n",
       "Name: Min Gap, dtype: int64"
      ]
     },
     "execution_count": 456,
     "metadata": {
      "tags": []
     },
     "output_type": "execute_result"
    }
   ],
   "source": [
    "train_df[\"Min Gap\"].isnull().value_counts()"
   ]
  },
  {
   "cell_type": "code",
   "execution_count": null,
   "metadata": {
    "id": "96hSCWoXx6l8"
   },
   "outputs": [],
   "source": [
    "def clean_gap(df):\n",
    "  # This function will help to clean the Min Gap column feature with training data Min Gap mean value\n",
    "  df[\"Min Gap\"] = df[\"Min Gap\"].fillna(train_df['Min Gap'].mean())\n",
    "  return df"
   ]
  },
  {
   "cell_type": "code",
   "execution_count": null,
   "metadata": {
    "id": "YKrmrc8qxn2C"
   },
   "outputs": [],
   "source": [
    "train_df = clean_gap(train_df)"
   ]
  },
  {
   "cell_type": "code",
   "execution_count": null,
   "metadata": {
    "colab": {
     "base_uri": "https://localhost:8080/"
    },
    "id": "sSEIo479x1WN",
    "outputId": "8f00274d-3e03-4669-9442-768ea14eb434"
   },
   "outputs": [
    {
     "data": {
      "text/plain": [
       "False    71967\n",
       "Name: Min Gap, dtype: int64"
      ]
     },
     "execution_count": 459,
     "metadata": {
      "tags": []
     },
     "output_type": "execute_result"
    }
   ],
   "source": [
    "train_df[\"Min Gap\"].isnull().value_counts()"
   ]
  },
  {
   "cell_type": "markdown",
   "metadata": {
    "id": "4IAVx_6QyZHy"
   },
   "source": [
    "______\n",
    "## Analysis done on :\n",
    "\n",
    "*   [x] Route\n",
    "*   [x] Location\n",
    "*   [x] Day  \n",
    "*   [x] Time\n",
    "*   [x] Min Gap\n",
    "*   [ ] Direction"
   ]
  },
  {
   "cell_type": "markdown",
   "metadata": {
    "id": "qDfC_xBkyeu_"
   },
   "source": [
    "### Now doing analysis on direction feature, which I believe is the key for avoiding delays of the route"
   ]
  },
  {
   "cell_type": "code",
   "execution_count": null,
   "metadata": {
    "colab": {
     "base_uri": "https://localhost:8080/"
    },
    "id": "E05tMdnByaOE",
    "outputId": "373184ef-8a15-4f6e-8599-f62b861c4571"
   },
   "outputs": [
    {
     "data": {
      "text/plain": [
       "count     71686\n",
       "unique       98\n",
       "top         W/B\n",
       "freq      28257\n",
       "Name: Direction, dtype: object"
      ]
     },
     "execution_count": 460,
     "metadata": {
      "tags": []
     },
     "output_type": "execute_result"
    }
   ],
   "source": [
    "train_df[\"Direction\"].describe()"
   ]
  },
  {
   "cell_type": "code",
   "execution_count": null,
   "metadata": {
    "colab": {
     "base_uri": "https://localhost:8080/"
    },
    "id": "1_h0SCIwyn4E",
    "outputId": "1bca83b1-181e-4793-843c-84fc70039726"
   },
   "outputs": [
    {
     "data": {
      "text/plain": [
       "array(['E/B', 'W/B', 'S/B', 'N/B', 'EB', 'WB', 'B/W', 'BW', 'bw', 's',\n",
       "       'NB', 'wb', 'eb', 'w/b', 'ew', 'b/w', 'eastbound', 'w', 'sb',\n",
       "       'southbound', 'northbound', 'Service adjusted.', 'westbound', 'nb',\n",
       "       nan, 'b#', 'SB', 'we', 'EW', 'E', 'Service adjusted', 'W', '14',\n",
       "       's/b', '5', 'Bw', '0', 'sw', '2', '506', '54495', '4075', '12',\n",
       "       'bs', 'wruiter adv', '(Ref', 'e', '9', 'gap', '1114', 'run', 'ss',\n",
       "       '19', '5                       W/B', '68029', 'eb``', '6', '512',\n",
       "       'W`', 'n/b', '\\\\5', '10', '4', '7', '13', '-BD#', '`', '510', '\\\\',\n",
       "       '26', 'W\\\\B', 'N', '20', '8', 'e/b', 'ee', '.', 'See also', 'w/B',\n",
       "       'E5', 'Relief Operator. Ga', '18', '15', 'E/B W/B', '33', 'E/W',\n",
       "       'EB/WB', 'e/B', 'N/S', 'e/w', '30', 'S-E', 's/n', '1573', '-',\n",
       "       '31087', 'NBN', 'Eb', 'WN'], dtype=object)"
      ]
     },
     "execution_count": 461,
     "metadata": {
      "tags": []
     },
     "output_type": "execute_result"
    }
   ],
   "source": [
    "train_df[\"Direction\"].unique()"
   ]
  },
  {
   "cell_type": "code",
   "execution_count": null,
   "metadata": {
    "colab": {
     "base_uri": "https://localhost:8080/"
    },
    "id": "bUYcEzd21oal",
    "outputId": "4a5acc3d-6f36-41c4-f1f1-d79b2bcbaec7"
   },
   "outputs": [
    {
     "data": {
      "text/plain": [
       "W/B      28257\n",
       "E/B      27839\n",
       "N/B       5163\n",
       "S/B       4944\n",
       "B/W       4743\n",
       "         ...  \n",
       "1573         1\n",
       "e/B          1\n",
       "S-E          1\n",
       "31087        1\n",
       "s/n          1\n",
       "Name: Direction, Length: 98, dtype: int64"
      ]
     },
     "execution_count": 462,
     "metadata": {
      "tags": []
     },
     "output_type": "execute_result"
    }
   ],
   "source": [
    "train_df[\"Direction\"].value_counts()"
   ]
  },
  {
   "cell_type": "markdown",
   "metadata": {
    "id": "YQu-Ka2Iy2Qs"
   },
   "source": [
    "# This direction column is very noisy. \n",
    "\n",
    "Need to filter this column such that we only have 5 directions\n",
    "1. __eb__ for eastbound\n",
    "2. __wb__ for westbound\n",
    "3. __nb__ for northbound\n",
    "4. __sb__ for southbound\n",
    "5. __bw__ for bothways"
   ]
  },
  {
   "cell_type": "code",
   "execution_count": null,
   "metadata": {
    "id": "T_PlGBzTzavn"
   },
   "outputs": [],
   "source": [
    "valid_directions = ['eb','wb','nb','sb','bw']\n",
    "def check_direction (x):\n",
    "    if x in valid_directions:\n",
    "        return(x)\n",
    "    else:\n",
    "        return(\"bad direction\")"
   ]
  },
  {
   "cell_type": "code",
   "execution_count": null,
   "metadata": {
    "id": "JtK6-87T2Jel"
   },
   "outputs": [],
   "source": [
    "df = train_df.copy(deep=True)"
   ]
  },
  {
   "cell_type": "code",
   "execution_count": null,
   "metadata": {
    "id": "oQn0AJ44yseD"
   },
   "outputs": [],
   "source": [
    "def direction_cleanup(df):\n",
    "    print(\"Direction count pre cleanup\",df['Direction'].nunique())\n",
    "    df['Direction'] = df['Direction'].str.lower()\n",
    "    df['Direction'] = df['Direction'].str.replace('/','')\n",
    "    df['Direction'] = df['Direction'].replace({'eastbound':'eb','westbound':'wb','southbound':'sb','northbound':'nb'})\n",
    "    df['Direction'] = df['Direction'].apply(lambda x:check_direction(x))\n",
    "    print(\"Direction count post cleanup\",df['Direction'].nunique())\n",
    "    return(df)"
   ]
  },
  {
   "cell_type": "code",
   "execution_count": null,
   "metadata": {
    "colab": {
     "base_uri": "https://localhost:8080/"
    },
    "id": "UPo_C4Wp2Y1x",
    "outputId": "74544b94-da93-44e7-9a02-a13ab758b9ba"
   },
   "outputs": [
    {
     "name": "stdout",
     "output_type": "stream",
     "text": [
      "Direction count pre cleanup 98\n",
      "Direction count post cleanup 6\n"
     ]
    }
   ],
   "source": [
    "train_df = direction_cleanup(train_df)"
   ]
  },
  {
   "cell_type": "code",
   "execution_count": null,
   "metadata": {
    "colab": {
     "base_uri": "https://localhost:8080/"
    },
    "id": "HfUDlnEX3pCq",
    "outputId": "ea892cb6-2806-4924-ee60-1d7e175e68cb"
   },
   "outputs": [
    {
     "data": {
      "text/plain": [
       "array(['eb', 'wb', 'sb', 'nb', 'bw', 'bad direction'], dtype=object)"
      ]
     },
     "execution_count": 498,
     "metadata": {
      "tags": []
     },
     "output_type": "execute_result"
    }
   ],
   "source": [
    "train_df['Direction'].unique()"
   ]
  },
  {
   "cell_type": "code",
   "execution_count": null,
   "metadata": {
    "colab": {
     "base_uri": "https://localhost:8080/"
    },
    "id": "N2QlzdfV3tC4",
    "outputId": "17157a6f-580b-468b-be16-992a22395077"
   },
   "outputs": [
    {
     "data": {
      "text/plain": [
       "wb               28475\n",
       "eb               28157\n",
       "nb                5197\n",
       "sb                4977\n",
       "bw                4766\n",
       "bad direction      395\n",
       "Name: Direction, dtype: int64"
      ]
     },
     "execution_count": 499,
     "metadata": {
      "tags": []
     },
     "output_type": "execute_result"
    }
   ],
   "source": [
    "train_df[\"Direction\"].value_counts()"
   ]
  },
  {
   "cell_type": "code",
   "execution_count": null,
   "metadata": {
    "id": "-5kTWv-95FRy"
   },
   "outputs": [],
   "source": [
    "# Removing the bad directions examples\n",
    "# Because we cannot directly relate any other way to put the correct directions in them\n",
    "\n",
    "train_df = train_df[train_df[\"Direction\"]!= \"bad direction\"]"
   ]
  },
  {
   "cell_type": "code",
   "execution_count": null,
   "metadata": {
    "colab": {
     "base_uri": "https://localhost:8080/",
     "height": 359
    },
    "id": "fmaGmGuT2eft",
    "outputId": "918fea4c-a48a-4cc9-9c01-d9968190b642"
   },
   "outputs": [
    {
     "data": {
      "text/html": [
       "<div>\n",
       "<style scoped>\n",
       "    .dataframe tbody tr th:only-of-type {\n",
       "        vertical-align: middle;\n",
       "    }\n",
       "\n",
       "    .dataframe tbody tr th {\n",
       "        vertical-align: top;\n",
       "    }\n",
       "\n",
       "    .dataframe thead th {\n",
       "        text-align: right;\n",
       "    }\n",
       "</style>\n",
       "<table border=\"1\" class=\"dataframe\">\n",
       "  <thead>\n",
       "    <tr style=\"text-align: right;\">\n",
       "      <th></th>\n",
       "      <th>Route</th>\n",
       "      <th>Day</th>\n",
       "      <th>Direction</th>\n",
       "      <th>Min Delay</th>\n",
       "      <th>Min Gap</th>\n",
       "      <th>Date Time</th>\n",
       "      <th>Part of Day</th>\n",
       "    </tr>\n",
       "  </thead>\n",
       "  <tbody>\n",
       "    <tr>\n",
       "      <th>10956</th>\n",
       "      <td>504</td>\n",
       "      <td>Monday</td>\n",
       "      <td>wb</td>\n",
       "      <td>3.0</td>\n",
       "      <td>6.0</td>\n",
       "      <td>2014-12-29 06:46:00+00:00</td>\n",
       "      <td>morning</td>\n",
       "    </tr>\n",
       "    <tr>\n",
       "      <th>25033</th>\n",
       "      <td>504</td>\n",
       "      <td>Tuesday</td>\n",
       "      <td>eb</td>\n",
       "      <td>4.0</td>\n",
       "      <td>8.0</td>\n",
       "      <td>2016-02-16 05:45:00+00:00</td>\n",
       "      <td>night</td>\n",
       "    </tr>\n",
       "    <tr>\n",
       "      <th>39437</th>\n",
       "      <td>501</td>\n",
       "      <td>Tuesday</td>\n",
       "      <td>eb</td>\n",
       "      <td>10.0</td>\n",
       "      <td>15.0</td>\n",
       "      <td>2017-02-21 08:25:00+00:00</td>\n",
       "      <td>morning</td>\n",
       "    </tr>\n",
       "    <tr>\n",
       "      <th>27000</th>\n",
       "      <td>504</td>\n",
       "      <td>Tuesday</td>\n",
       "      <td>bw</td>\n",
       "      <td>4.0</td>\n",
       "      <td>8.0</td>\n",
       "      <td>2016-04-05 14:05:00+00:00</td>\n",
       "      <td>afternoon</td>\n",
       "    </tr>\n",
       "    <tr>\n",
       "      <th>20381</th>\n",
       "      <td>506</td>\n",
       "      <td>Friday</td>\n",
       "      <td>wb</td>\n",
       "      <td>25.0</td>\n",
       "      <td>30.0</td>\n",
       "      <td>2015-09-18 16:20:00+00:00</td>\n",
       "      <td>afternoon</td>\n",
       "    </tr>\n",
       "    <tr>\n",
       "      <th>18246</th>\n",
       "      <td>512</td>\n",
       "      <td>Saturday</td>\n",
       "      <td>eb</td>\n",
       "      <td>5.0</td>\n",
       "      <td>10.0</td>\n",
       "      <td>2015-07-18 13:57:00+00:00</td>\n",
       "      <td>afternoon</td>\n",
       "    </tr>\n",
       "    <tr>\n",
       "      <th>36106</th>\n",
       "      <td>501</td>\n",
       "      <td>Friday</td>\n",
       "      <td>eb</td>\n",
       "      <td>18.0</td>\n",
       "      <td>24.0</td>\n",
       "      <td>2016-12-09 21:32:00+00:00</td>\n",
       "      <td>night</td>\n",
       "    </tr>\n",
       "    <tr>\n",
       "      <th>11305</th>\n",
       "      <td>506</td>\n",
       "      <td>Wednesday</td>\n",
       "      <td>wb</td>\n",
       "      <td>8.0</td>\n",
       "      <td>13.0</td>\n",
       "      <td>2015-01-07 17:47:00+00:00</td>\n",
       "      <td>evening</td>\n",
       "    </tr>\n",
       "    <tr>\n",
       "      <th>40833</th>\n",
       "      <td>510</td>\n",
       "      <td>Sunday</td>\n",
       "      <td>eb</td>\n",
       "      <td>7.0</td>\n",
       "      <td>12.0</td>\n",
       "      <td>2017-04-02 17:54:00+00:00</td>\n",
       "      <td>evening</td>\n",
       "    </tr>\n",
       "    <tr>\n",
       "      <th>48770</th>\n",
       "      <td>501</td>\n",
       "      <td>Saturday</td>\n",
       "      <td>eb</td>\n",
       "      <td>6.0</td>\n",
       "      <td>12.0</td>\n",
       "      <td>2017-11-18 07:59:00+00:00</td>\n",
       "      <td>morning</td>\n",
       "    </tr>\n",
       "  </tbody>\n",
       "</table>\n",
       "</div>"
      ],
      "text/plain": [
       "       Route        Day  ...                 Date Time  Part of Day\n",
       "10956    504     Monday  ... 2014-12-29 06:46:00+00:00      morning\n",
       "25033    504    Tuesday  ... 2016-02-16 05:45:00+00:00        night\n",
       "39437    501    Tuesday  ... 2017-02-21 08:25:00+00:00      morning\n",
       "27000    504    Tuesday  ... 2016-04-05 14:05:00+00:00    afternoon\n",
       "20381    506     Friday  ... 2015-09-18 16:20:00+00:00    afternoon\n",
       "18246    512   Saturday  ... 2015-07-18 13:57:00+00:00    afternoon\n",
       "36106    501     Friday  ... 2016-12-09 21:32:00+00:00        night\n",
       "11305    506  Wednesday  ... 2015-01-07 17:47:00+00:00      evening\n",
       "40833    510     Sunday  ... 2017-04-02 17:54:00+00:00      evening\n",
       "48770    501   Saturday  ... 2017-11-18 07:59:00+00:00      morning\n",
       "\n",
       "[10 rows x 7 columns]"
      ]
     },
     "execution_count": 503,
     "metadata": {
      "tags": []
     },
     "output_type": "execute_result"
    }
   ],
   "source": [
    "train_df.sample(10)"
   ]
  },
  {
   "cell_type": "code",
   "execution_count": null,
   "metadata": {
    "colab": {
     "base_uri": "https://localhost:8080/"
    },
    "id": "3QoJ88A05Sm4",
    "outputId": "af71de07-5d94-4e16-c19a-e2d8a9f9eb1d"
   },
   "outputs": [
    {
     "name": "stdout",
     "output_type": "stream",
     "text": [
      "wb    28475\n",
      "eb    28157\n",
      "nb     5197\n",
      "sb     4977\n",
      "bw     4766\n",
      "Name: Direction, dtype: int64\n"
     ]
    }
   ],
   "source": [
    "print(train_df[\"Direction\"].value_counts())"
   ]
  },
  {
   "cell_type": "code",
   "execution_count": null,
   "metadata": {
    "colab": {
     "base_uri": "https://localhost:8080/",
     "height": 788
    },
    "id": "Wqk7nzLUzWH_",
    "outputId": "490f3fd7-0058-4015-e979-fed9af305512"
   },
   "outputs": [
    {
     "data": {
      "text/plain": [
       "<BarContainer object of 5 artists>"
      ]
     },
     "execution_count": 505,
     "metadata": {
      "tags": []
     },
     "output_type": "execute_result"
    },
    {
     "data": {
      "image/png": "[encoded data removed]",
      "text/plain": [
       "<Figure size 936x936 with 4 Axes>"
      ]
     },
     "metadata": {
      "needs_background": "light",
      "tags": []
     },
     "output_type": "display_data"
    }
   ],
   "source": [
    "# Bad directions has been filtered\n",
    "# Working on visualizing the plots of different directions and its impact on delay\n",
    "# Let's plot some bar graph showing how much delay are occuring in each part of the day\n",
    "plt.figure(figsize=(13, 13))\n",
    "plt.subplot(2,2,1)\n",
    "plt.title(\"Minimum delay on each direction\")\n",
    "plt.bar(train_df.groupby([\"Direction\"])[\"Min Delay\"].min().reset_index()['Direction'], train_df.groupby([\"Direction\"])[\"Min Delay\"].min())\n",
    "plt.subplot(2,2,2)\n",
    "plt.title(\"Maximum delay on each direction\")\n",
    "plt.bar(train_df.groupby([\"Direction\"])[\"Min Delay\"].max().reset_index()['Direction'], train_df.groupby([\"Direction\"])[\"Min Delay\"].max())\n",
    "plt.subplot(2,2,3)\n",
    "plt.title(\"Average delay on each direction\")\n",
    "plt.bar(train_df.groupby([\"Direction\"])[\"Min Delay\"].mean().reset_index()['Direction'], train_df.groupby([\"Direction\"])[\"Min Delay\"].mean())\n",
    "plt.subplot(2,2,4)\n",
    "plt.title(\"Median delay on each direction\")\n",
    "plt.bar(train_df.groupby([\"Direction\"])[\"Min Delay\"].median().reset_index()['Direction'], train_df.groupby([\"Direction\"])[\"Min Delay\"].median())"
   ]
  },
  {
   "cell_type": "markdown",
   "metadata": {
    "id": "2l6U96GH5csI"
   },
   "source": [
    "### It can be clearly seen from the analysis, that the direction has impact on the delay.\n",
    "\n",
    "### If the route is bothways direction, then the average delay is very high however the direction specific routes has comparatively less delay.\n",
    "\n",
    "### This feature can be a good source for prediction by the model"
   ]
  },
  {
   "cell_type": "markdown",
   "metadata": {
    "id": "AnEgijyo52He"
   },
   "source": [
    "________"
   ]
  },
  {
   "cell_type": "markdown",
   "metadata": {
    "id": "zYSZ6qX152OR"
   },
   "source": [
    "______\n",
    "## Analysis done on :\n",
    "\n",
    "*   [x] Route\n",
    "*   [x] Location\n",
    "*   [x] Day  \n",
    "*   [x] Time\n",
    "*   [x] Min Gap\n",
    "*   [x] Direction"
   ]
  },
  {
   "cell_type": "markdown",
   "metadata": {
    "id": "j8ihlpPL55YW"
   },
   "source": [
    "## Data analysis complete, and the required function has been created in the notebook, which can be directly used for further model development and testing.\n"
   ]
  }
 ],
 "metadata": {
  "colab": {
   "collapsed_sections": [],
   "name": "2 Get the data and Explore Data.ipynb",
   "provenance": []
  },
  "kernelspec": {
   "display_name": "Python 3",
   "language": "python",
   "name": "python3"
  },
  "language_info": {
   "codemirror_mode": {
    "name": "ipython",
    "version": 3
   },
   "file_extension": ".py",
   "mimetype": "text/x-python",
   "name": "python",
   "nbconvert_exporter": "python",
   "pygments_lexer": "ipython3",
   "version": "3.8.6"
  }
 },
 "nbformat": 4,
 "nbformat_minor": 1
}

{
 "cells": [
  {
   "cell_type": "markdown",
   "metadata": {
    "id": "MxlbpzwJjqb3"
   },
   "source": [
    "1. Define the objective in business terms.\n",
    "\n",
    "_Ans : To find the delay in each direction, such that person can avoid such delay by taking another direction for the given route._\n",
    "\n",
    "___\n",
    "2. How will your solution be used?\n",
    "\n",
    "_Ans: My solution will be used to predict delays on the route, and find the direction on which the delay is minimum such that it can be avoided._\n",
    "\n",
    "___\n",
    "3. What are the current solutions / workarounds (if any)?\n",
    "\n",
    "_Ans: No, there are no any current solutions pursuing my way to do prediction._\n",
    "\n",
    "___\n",
    "4. How should you frame this problem? (supervised/unsupervised, online/offline,\n",
    "etc.)\n",
    "\n",
    "_Ans: I will frame this problem as supervised technique. And, I will approach this with offline training, and employ model to predict the future delays. The online way of training will not be employed eventhough that is the better way to deal ML problems since the data is updating all the time._\n",
    "\n",
    "___\n",
    "5. How should performance be measured?\n",
    "\n",
    "_Ans: Performance will be measured in terms of r-square error, root mean squared error, and mean absolute error, because I am dealing with problem of predicting the delay which is a continious value._\n",
    "\n",
    "___\n",
    "6. Is the performance measure aligned with the business objective?\n",
    "\n",
    "_Ans: Yes, the performance measure is aligned with the business objective._\n",
    "___\n",
    "\n",
    "7. What would be the minimum performance needed to reach the business objective?\n",
    "\n",
    "_Ans: The mean absolute error and mean square error to be very minimum._\n",
    "\n",
    "___\n",
    "8. What are comparable problems? Can you reuse experience or tools?\n",
    "\n",
    "_Ans: There are not comparable problem that I can recall. Yes I can use experience of designing machine learning algorithms to frame the problem._\n",
    "\n",
    "___\n",
    "9. Is human expertise available?\n",
    "\n",
    "_Ans: No human expertise is not available._\n",
    "___\n",
    "10. How would you solve the problem manually?\n",
    "\n",
    "_Ans: The way to solve the problem manually would be to predict delay based on past week or last day. Given the route and time of the day, or day of the week, directly infer that would be the delay on the day we want to predict the delay._\n",
    "\n",
    "___\n",
    "11. List the assumptions you (or others) have made so far.\n",
    "\n",
    "_Ans: Assumptions are : There will be different value of delay on different direction. The direction with the minimum delay will be the route and the direction the user will want to take to avoid the delay._<br>\n",
    "_The delay prediction is a regression task, and the model mainly aims to minimize the delay given the various inputs._\n",
    "\n",
    "___\n",
    "12. Verify assumptions if possible.\n",
    "\n",
    "_Ans: Assumptions verification has been done on second notebook named (__2 Get the data and Explore Data.ipynb__)._"
   ]
  },
  {
   "cell_type": "code",
   "execution_count": null,
   "metadata": {
    "id": "ULOnp4o-8yiD"
   },
   "outputs": [],
   "source": []
  }
 ],
 "metadata": {
  "colab": {
   "collapsed_sections": [],
   "name": "1 Frame the problem and look at the big picture.ipynb",
   "provenance": []
  },
  "kernelspec": {
   "display_name": "Python 3",
   "language": "python",
   "name": "python3"
  },
  "language_info": {
   "codemirror_mode": {
    "name": "ipython",
    "version": 3
   },
   "file_extension": ".py",
   "mimetype": "text/x-python",
   "name": "python",
   "nbconvert_exporter": "python",
   "pygments_lexer": "ipython3",
   "version": "3.8.6"
  }
 },
 "nbformat": 4,
 "nbformat_minor": 1
}

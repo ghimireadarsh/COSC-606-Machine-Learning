{
 "cells": [
  {
   "cell_type": "markdown",
   "metadata": {
    "id": "ZnOiNd9CFfOO"
   },
   "source": [
    "__Submitted By__ \n",
    "\n",
    "Name - Adarsh Ghimire\n",
    "\n",
    "Student ID - 100058927\n",
    "\n",
    "Subject - Machine Learning\n"
   ]
  },
  {
   "cell_type": "code",
   "execution_count": null,
   "metadata": {
    "colab": {
     "base_uri": "https://localhost:8080/"
    },
    "id": "eSFUZ6i7DQOz",
    "outputId": "f1bd7047-c458-4e40-d337-aa7943ca7928"
   },
   "outputs": [
    {
     "name": "stdout",
     "output_type": "stream",
     "text": [
      "Mounted at /content/drive\n"
     ]
    }
   ],
   "source": [
    "from google.colab import drive\n",
    "drive.mount('/content/drive')"
   ]
  },
  {
   "cell_type": "code",
   "execution_count": null,
   "metadata": {
    "id": "LTM05KZ-DNy6"
   },
   "outputs": [],
   "source": [
    "import pandas as pd\n",
    "import numpy as np\n",
    "from sklearn.linear_model import LinearRegression\n",
    "from sklearn.preprocessing import PolynomialFeatures\n",
    "from sklearn.model_selection import train_test_split\n",
    "from sklearn.metrics import mean_squared_error\n",
    "from sklearn.metrics import r2_score\n",
    "import seaborn as sns\n",
    "import matplotlib.pyplot as plt"
   ]
  },
  {
   "cell_type": "code",
   "execution_count": null,
   "metadata": {
    "id": "HFMtvNFRDNzM"
   },
   "outputs": [],
   "source": [
    "data_path = \"drive/MyDrive/COSC 606 Machine learning/COVID-19_Daily_Testing.csv\"\n",
    "df = pd.read_csv(data_path)"
   ]
  },
  {
   "cell_type": "code",
   "execution_count": null,
   "metadata": {
    "colab": {
     "base_uri": "https://localhost:8080/",
     "height": 326
    },
    "id": "95gngEEHDNzO",
    "outputId": "62a821f4-b467-4762-d4ed-8f917ab22abb"
   },
   "outputs": [
    {
     "data": {
      "text/html": [
       "<div>\n",
       "<style scoped>\n",
       "    .dataframe tbody tr th:only-of-type {\n",
       "        vertical-align: middle;\n",
       "    }\n",
       "\n",
       "    .dataframe tbody tr th {\n",
       "        vertical-align: top;\n",
       "    }\n",
       "\n",
       "    .dataframe thead th {\n",
       "        text-align: right;\n",
       "    }\n",
       "</style>\n",
       "<table border=\"1\" class=\"dataframe\">\n",
       "  <thead>\n",
       "    <tr style=\"text-align: right;\">\n",
       "      <th></th>\n",
       "      <th>Date</th>\n",
       "      <th>Day</th>\n",
       "      <th>Tests</th>\n",
       "      <th>Cases</th>\n",
       "      <th>People Not-Positive - Total</th>\n",
       "      <th>People Tested - Age 0-17</th>\n",
       "      <th>People Tested - Age 18-29</th>\n",
       "      <th>People Tested - Age 30-39</th>\n",
       "      <th>People Tested - Age 40-49</th>\n",
       "      <th>People Tested - Age 50-59</th>\n",
       "      <th>People Tested - Age 60-69</th>\n",
       "      <th>People Tested - Age 70-79</th>\n",
       "      <th>People Tested - Age 80+</th>\n",
       "      <th>People Tested - Age Unknown</th>\n",
       "      <th>People Tested - Female</th>\n",
       "      <th>People Tested - Male</th>\n",
       "      <th>People Tested - Gender Unknown</th>\n",
       "      <th>People Tested - Latinx</th>\n",
       "      <th>People Tested - Asian Non-Latinx</th>\n",
       "      <th>People Tested - Black Non-Latinx</th>\n",
       "      <th>People Tested - White Non-Latinx</th>\n",
       "      <th>People Tested - Other Race Non-Latinx</th>\n",
       "      <th>People Tested - Unknown Race/Ethnicity</th>\n",
       "      <th>People Positive - Age 0-17</th>\n",
       "      <th>People Positive - Age 18-29</th>\n",
       "      <th>People Positive - Age 30-30</th>\n",
       "      <th>People Positive - Age 40-49</th>\n",
       "      <th>People Positive - Age 50-59</th>\n",
       "      <th>People Positive - Age 60-69</th>\n",
       "      <th>People Positive - Age 70-79</th>\n",
       "      <th>People Positive - Age 80+</th>\n",
       "      <th>People Positive - Age Unknown</th>\n",
       "      <th>People Positive - Female</th>\n",
       "      <th>People Positive - Male</th>\n",
       "      <th>People Positive - Gender Unknown</th>\n",
       "      <th>People Positive - Latinx</th>\n",
       "      <th>People Positive - Asian Non-Latinx</th>\n",
       "      <th>People Positive - Black Non-Latinx</th>\n",
       "      <th>People Positive - White Non-Latinx</th>\n",
       "      <th>People Positive - Other Race Non-Latinx</th>\n",
       "      <th>People Positive - Unknown Race/Ethnicity</th>\n",
       "      <th>People Not-Positive - Age 0-17</th>\n",
       "      <th>People Not-Positive - Age 18-29</th>\n",
       "      <th>People Not-Positive - Age 30-39</th>\n",
       "      <th>People Not-Positive - Age 40-49</th>\n",
       "      <th>People Not-Positive - Age 50-59</th>\n",
       "      <th>People Not-Positive - Age 60-69</th>\n",
       "      <th>People Not-Positive - Age 70-79</th>\n",
       "      <th>People Not-Positive - Age 80+</th>\n",
       "      <th>People Not-Positive - Age Unknown</th>\n",
       "      <th>People Not-Positive - Female</th>\n",
       "      <th>People Not-Positive - Male</th>\n",
       "      <th>People Not-Positive - Gender Unknown</th>\n",
       "      <th>People Not-Positive - Latinx</th>\n",
       "      <th>People Not-Positive - Asian Non-Latinx</th>\n",
       "      <th>People Not-Positive - Black Non-Latinx</th>\n",
       "      <th>People Not-Positive - White Non-Latinx</th>\n",
       "      <th>People Not-Positive - Other Race Non-Latinx</th>\n",
       "      <th>People Not-Positive - Unknown Race/Ethnicity</th>\n",
       "    </tr>\n",
       "  </thead>\n",
       "  <tbody>\n",
       "    <tr>\n",
       "      <th>0</th>\n",
       "      <td>03-01-20</td>\n",
       "      <td>Sunday</td>\n",
       "      <td>1</td>\n",
       "      <td>0</td>\n",
       "      <td>1</td>\n",
       "      <td>0</td>\n",
       "      <td>0</td>\n",
       "      <td>1</td>\n",
       "      <td>0</td>\n",
       "      <td>0</td>\n",
       "      <td>0</td>\n",
       "      <td>0</td>\n",
       "      <td>0</td>\n",
       "      <td>0</td>\n",
       "      <td>0</td>\n",
       "      <td>1</td>\n",
       "      <td>0</td>\n",
       "      <td>0</td>\n",
       "      <td>0</td>\n",
       "      <td>0</td>\n",
       "      <td>1</td>\n",
       "      <td>0</td>\n",
       "      <td>0</td>\n",
       "      <td>0</td>\n",
       "      <td>0</td>\n",
       "      <td>0</td>\n",
       "      <td>0</td>\n",
       "      <td>0</td>\n",
       "      <td>0</td>\n",
       "      <td>0</td>\n",
       "      <td>0</td>\n",
       "      <td>0</td>\n",
       "      <td>0</td>\n",
       "      <td>0</td>\n",
       "      <td>0</td>\n",
       "      <td>0</td>\n",
       "      <td>0</td>\n",
       "      <td>0</td>\n",
       "      <td>0</td>\n",
       "      <td>0</td>\n",
       "      <td>0</td>\n",
       "      <td>0</td>\n",
       "      <td>0</td>\n",
       "      <td>1</td>\n",
       "      <td>0</td>\n",
       "      <td>0</td>\n",
       "      <td>0</td>\n",
       "      <td>0</td>\n",
       "      <td>0</td>\n",
       "      <td>0</td>\n",
       "      <td>0</td>\n",
       "      <td>1</td>\n",
       "      <td>0</td>\n",
       "      <td>0</td>\n",
       "      <td>0</td>\n",
       "      <td>0</td>\n",
       "      <td>1</td>\n",
       "      <td>0</td>\n",
       "      <td>0</td>\n",
       "    </tr>\n",
       "    <tr>\n",
       "      <th>1</th>\n",
       "      <td>05-02-20</td>\n",
       "      <td>Saturday</td>\n",
       "      <td>2,431</td>\n",
       "      <td>705</td>\n",
       "      <td>1,726</td>\n",
       "      <td>129</td>\n",
       "      <td>470</td>\n",
       "      <td>458</td>\n",
       "      <td>458</td>\n",
       "      <td>412</td>\n",
       "      <td>281</td>\n",
       "      <td>128</td>\n",
       "      <td>94</td>\n",
       "      <td>1</td>\n",
       "      <td>1,238</td>\n",
       "      <td>1,158</td>\n",
       "      <td>35</td>\n",
       "      <td>569</td>\n",
       "      <td>39</td>\n",
       "      <td>376</td>\n",
       "      <td>276</td>\n",
       "      <td>73</td>\n",
       "      <td>1,098</td>\n",
       "      <td>24</td>\n",
       "      <td>141</td>\n",
       "      <td>120</td>\n",
       "      <td>152</td>\n",
       "      <td>137</td>\n",
       "      <td>76</td>\n",
       "      <td>39</td>\n",
       "      <td>16</td>\n",
       "      <td>0</td>\n",
       "      <td>340</td>\n",
       "      <td>361</td>\n",
       "      <td>4</td>\n",
       "      <td>343</td>\n",
       "      <td>9</td>\n",
       "      <td>103</td>\n",
       "      <td>51</td>\n",
       "      <td>22</td>\n",
       "      <td>177</td>\n",
       "      <td>105</td>\n",
       "      <td>329</td>\n",
       "      <td>338</td>\n",
       "      <td>306</td>\n",
       "      <td>275</td>\n",
       "      <td>205</td>\n",
       "      <td>89</td>\n",
       "      <td>78</td>\n",
       "      <td>1</td>\n",
       "      <td>898</td>\n",
       "      <td>797</td>\n",
       "      <td>31</td>\n",
       "      <td>226</td>\n",
       "      <td>30</td>\n",
       "      <td>273</td>\n",
       "      <td>225</td>\n",
       "      <td>51</td>\n",
       "      <td>921</td>\n",
       "    </tr>\n",
       "    <tr>\n",
       "      <th>2</th>\n",
       "      <td>05/14/2020</td>\n",
       "      <td>Thursday</td>\n",
       "      <td>4,098</td>\n",
       "      <td>772</td>\n",
       "      <td>3,326</td>\n",
       "      <td>260</td>\n",
       "      <td>805</td>\n",
       "      <td>833</td>\n",
       "      <td>685</td>\n",
       "      <td>604</td>\n",
       "      <td>471</td>\n",
       "      <td>253</td>\n",
       "      <td>171</td>\n",
       "      <td>16</td>\n",
       "      <td>2,049</td>\n",
       "      <td>1,786</td>\n",
       "      <td>263</td>\n",
       "      <td>848</td>\n",
       "      <td>55</td>\n",
       "      <td>581</td>\n",
       "      <td>510</td>\n",
       "      <td>144</td>\n",
       "      <td>1,960</td>\n",
       "      <td>48</td>\n",
       "      <td>167</td>\n",
       "      <td>153</td>\n",
       "      <td>131</td>\n",
       "      <td>107</td>\n",
       "      <td>95</td>\n",
       "      <td>42</td>\n",
       "      <td>29</td>\n",
       "      <td>0</td>\n",
       "      <td>395</td>\n",
       "      <td>362</td>\n",
       "      <td>15</td>\n",
       "      <td>319</td>\n",
       "      <td>12</td>\n",
       "      <td>151</td>\n",
       "      <td>68</td>\n",
       "      <td>35</td>\n",
       "      <td>187</td>\n",
       "      <td>212</td>\n",
       "      <td>638</td>\n",
       "      <td>680</td>\n",
       "      <td>554</td>\n",
       "      <td>497</td>\n",
       "      <td>376</td>\n",
       "      <td>211</td>\n",
       "      <td>142</td>\n",
       "      <td>16</td>\n",
       "      <td>1,654</td>\n",
       "      <td>1,424</td>\n",
       "      <td>248</td>\n",
       "      <td>529</td>\n",
       "      <td>43</td>\n",
       "      <td>430</td>\n",
       "      <td>442</td>\n",
       "      <td>109</td>\n",
       "      <td>1,773</td>\n",
       "    </tr>\n",
       "    <tr>\n",
       "      <th>3</th>\n",
       "      <td>03-05-20</td>\n",
       "      <td>Thursday</td>\n",
       "      <td>17</td>\n",
       "      <td>1</td>\n",
       "      <td>16</td>\n",
       "      <td>4</td>\n",
       "      <td>2</td>\n",
       "      <td>0</td>\n",
       "      <td>4</td>\n",
       "      <td>3</td>\n",
       "      <td>2</td>\n",
       "      <td>0</td>\n",
       "      <td>2</td>\n",
       "      <td>0</td>\n",
       "      <td>8</td>\n",
       "      <td>9</td>\n",
       "      <td>0</td>\n",
       "      <td>2</td>\n",
       "      <td>0</td>\n",
       "      <td>5</td>\n",
       "      <td>2</td>\n",
       "      <td>1</td>\n",
       "      <td>7</td>\n",
       "      <td>0</td>\n",
       "      <td>0</td>\n",
       "      <td>0</td>\n",
       "      <td>0</td>\n",
       "      <td>1</td>\n",
       "      <td>0</td>\n",
       "      <td>0</td>\n",
       "      <td>0</td>\n",
       "      <td>0</td>\n",
       "      <td>1</td>\n",
       "      <td>0</td>\n",
       "      <td>0</td>\n",
       "      <td>0</td>\n",
       "      <td>0</td>\n",
       "      <td>1</td>\n",
       "      <td>0</td>\n",
       "      <td>0</td>\n",
       "      <td>0</td>\n",
       "      <td>4</td>\n",
       "      <td>2</td>\n",
       "      <td>0</td>\n",
       "      <td>4</td>\n",
       "      <td>2</td>\n",
       "      <td>2</td>\n",
       "      <td>0</td>\n",
       "      <td>2</td>\n",
       "      <td>0</td>\n",
       "      <td>7</td>\n",
       "      <td>9</td>\n",
       "      <td>0</td>\n",
       "      <td>2</td>\n",
       "      <td>0</td>\n",
       "      <td>4</td>\n",
       "      <td>2</td>\n",
       "      <td>1</td>\n",
       "      <td>7</td>\n",
       "    </tr>\n",
       "    <tr>\n",
       "      <th>4</th>\n",
       "      <td>03-06-20</td>\n",
       "      <td>Friday</td>\n",
       "      <td>18</td>\n",
       "      <td>3</td>\n",
       "      <td>15</td>\n",
       "      <td>1</td>\n",
       "      <td>5</td>\n",
       "      <td>1</td>\n",
       "      <td>3</td>\n",
       "      <td>3</td>\n",
       "      <td>2</td>\n",
       "      <td>2</td>\n",
       "      <td>0</td>\n",
       "      <td>1</td>\n",
       "      <td>8</td>\n",
       "      <td>10</td>\n",
       "      <td>0</td>\n",
       "      <td>2</td>\n",
       "      <td>0</td>\n",
       "      <td>1</td>\n",
       "      <td>5</td>\n",
       "      <td>1</td>\n",
       "      <td>9</td>\n",
       "      <td>0</td>\n",
       "      <td>0</td>\n",
       "      <td>0</td>\n",
       "      <td>2</td>\n",
       "      <td>0</td>\n",
       "      <td>1</td>\n",
       "      <td>0</td>\n",
       "      <td>0</td>\n",
       "      <td>0</td>\n",
       "      <td>0</td>\n",
       "      <td>3</td>\n",
       "      <td>0</td>\n",
       "      <td>0</td>\n",
       "      <td>0</td>\n",
       "      <td>0</td>\n",
       "      <td>3</td>\n",
       "      <td>0</td>\n",
       "      <td>0</td>\n",
       "      <td>1</td>\n",
       "      <td>5</td>\n",
       "      <td>1</td>\n",
       "      <td>1</td>\n",
       "      <td>3</td>\n",
       "      <td>1</td>\n",
       "      <td>2</td>\n",
       "      <td>0</td>\n",
       "      <td>1</td>\n",
       "      <td>8</td>\n",
       "      <td>7</td>\n",
       "      <td>0</td>\n",
       "      <td>2</td>\n",
       "      <td>0</td>\n",
       "      <td>1</td>\n",
       "      <td>2</td>\n",
       "      <td>1</td>\n",
       "      <td>9</td>\n",
       "    </tr>\n",
       "  </tbody>\n",
       "</table>\n",
       "</div>"
      ],
      "text/plain": [
       "         Date  ... People Not-Positive - Unknown Race/Ethnicity\n",
       "0    03-01-20  ...                                            0\n",
       "1    05-02-20  ...                                          921\n",
       "2  05/14/2020  ...                                        1,773\n",
       "3    03-05-20  ...                                            7\n",
       "4    03-06-20  ...                                            9\n",
       "\n",
       "[5 rows x 59 columns]"
      ]
     },
     "execution_count": 4,
     "metadata": {
      "tags": []
     },
     "output_type": "execute_result"
    }
   ],
   "source": [
    "df.head()"
   ]
  },
  {
   "cell_type": "code",
   "execution_count": null,
   "metadata": {
    "colab": {
     "base_uri": "https://localhost:8080/"
    },
    "id": "Ph8O-QmYDNzS",
    "outputId": "83cc790b-95ce-45f3-ba76-681491136536"
   },
   "outputs": [
    {
     "name": "stdout",
     "output_type": "stream",
     "text": [
      "<class 'pandas.core.frame.DataFrame'>\n",
      "RangeIndex: 89 entries, 0 to 88\n",
      "Data columns (total 59 columns):\n",
      " #   Column                                        Non-Null Count  Dtype \n",
      "---  ------                                        --------------  ----- \n",
      " 0   Date                                          88 non-null     object\n",
      " 1   Day                                           88 non-null     object\n",
      " 2   Tests                                         89 non-null     object\n",
      " 3   Cases                                         89 non-null     object\n",
      " 4   People Not-Positive - Total                   89 non-null     object\n",
      " 5   People Tested - Age 0-17                      89 non-null     int64 \n",
      " 6   People Tested - Age 18-29                     89 non-null     object\n",
      " 7   People Tested - Age 30-39                     89 non-null     object\n",
      " 8   People Tested - Age 40-49                     89 non-null     int64 \n",
      " 9   People Tested - Age 50-59                     89 non-null     int64 \n",
      " 10  People Tested - Age 60-69                     89 non-null     int64 \n",
      " 11  People Tested - Age 70-79                     89 non-null     int64 \n",
      " 12  People Tested - Age 80+                       89 non-null     int64 \n",
      " 13  People Tested - Age Unknown                   89 non-null     int64 \n",
      " 14  People Tested - Female                        89 non-null     object\n",
      " 15  People Tested - Male                          89 non-null     object\n",
      " 16  People Tested - Gender Unknown                89 non-null     int64 \n",
      " 17  People Tested - Latinx                        89 non-null     object\n",
      " 18  People Tested - Asian Non-Latinx              89 non-null     int64 \n",
      " 19  People Tested - Black Non-Latinx              89 non-null     int64 \n",
      " 20  People Tested - White Non-Latinx              89 non-null     int64 \n",
      " 21  People Tested - Other Race Non-Latinx         89 non-null     int64 \n",
      " 22  People Tested - Unknown Race/Ethnicity        89 non-null     object\n",
      " 23  People Positive - Age 0-17                    89 non-null     int64 \n",
      " 24  People Positive - Age 18-29                   89 non-null     int64 \n",
      " 25  People Positive - Age 30-30                   89 non-null     int64 \n",
      " 26  People Positive - Age 40-49                   89 non-null     int64 \n",
      " 27  People Positive - Age 50-59                   89 non-null     int64 \n",
      " 28  People Positive - Age 60-69                   89 non-null     int64 \n",
      " 29  People Positive - Age 70-79                   89 non-null     int64 \n",
      " 30  People Positive - Age 80+                     89 non-null     int64 \n",
      " 31  People Positive - Age Unknown                 89 non-null     int64 \n",
      " 32  People Positive - Female                      89 non-null     int64 \n",
      " 33  People Positive - Male                        89 non-null     int64 \n",
      " 34  People Positive - Gender Unknown              89 non-null     int64 \n",
      " 35  People Positive - Latinx                      89 non-null     int64 \n",
      " 36  People Positive - Asian Non-Latinx            89 non-null     int64 \n",
      " 37  People Positive - Black Non-Latinx            89 non-null     int64 \n",
      " 38  People Positive - White Non-Latinx            89 non-null     int64 \n",
      " 39  People Positive - Other Race Non-Latinx       89 non-null     int64 \n",
      " 40  People Positive - Unknown Race/Ethnicity      89 non-null     int64 \n",
      " 41  People Not-Positive - Age 0-17                89 non-null     int64 \n",
      " 42  People Not-Positive - Age 18-29               89 non-null     object\n",
      " 43  People Not-Positive - Age 30-39               89 non-null     int64 \n",
      " 44  People Not-Positive - Age 40-49               89 non-null     int64 \n",
      " 45  People Not-Positive - Age 50-59               89 non-null     int64 \n",
      " 46  People Not-Positive - Age 60-69               89 non-null     int64 \n",
      " 47  People Not-Positive - Age 70-79               89 non-null     int64 \n",
      " 48  People Not-Positive - Age 80+                 89 non-null     int64 \n",
      " 49  People Not-Positive - Age Unknown             89 non-null     int64 \n",
      " 50  People Not-Positive - Female                  89 non-null     object\n",
      " 51  People Not-Positive - Male                    89 non-null     object\n",
      " 52  People Not-Positive - Gender Unknown          89 non-null     int64 \n",
      " 53  People Not-Positive - Latinx                  89 non-null     int64 \n",
      " 54  People Not-Positive - Asian Non-Latinx        89 non-null     int64 \n",
      " 55  People Not-Positive - Black Non-Latinx        89 non-null     int64 \n",
      " 56  People Not-Positive - White Non-Latinx        89 non-null     int64 \n",
      " 57  People Not-Positive - Other Race Non-Latinx   89 non-null     int64 \n",
      " 58  People Not-Positive - Unknown Race/Ethnicity  89 non-null     object\n",
      "dtypes: int64(44), object(15)\n",
      "memory usage: 41.1+ KB\n",
      "None\n"
     ]
    }
   ],
   "source": [
    "print(df.info())"
   ]
  },
  {
   "cell_type": "code",
   "execution_count": null,
   "metadata": {
    "id": "atcIVkkpDNzT"
   },
   "outputs": [],
   "source": [
    "# To replace commas from the numbers and converting the object type to integer type\n",
    "# Concerned only about Tests done as feature and Cases found as target\n",
    "# The regression problem will be focused on the basis of finding relation between tests done and cases found.\n",
    "df['Cases'] = df['Cases'].str.replace(',', '')\n",
    "df['Tests'] = df['Tests'].str.replace(',', '')\n",
    "df['Cases'] = pd.to_numeric(df['Cases']) \n",
    "df['Tests'] = pd.to_numeric(df['Tests'])"
   ]
  },
  {
   "cell_type": "code",
   "execution_count": null,
   "metadata": {
    "colab": {
     "base_uri": "https://localhost:8080/"
    },
    "id": "lOuFkpwgDNzU",
    "outputId": "033515f6-534d-45c6-e5b9-dee50de629a7"
   },
   "outputs": [
    {
     "name": "stdout",
     "output_type": "stream",
     "text": [
      "<class 'pandas.core.frame.DataFrame'>\n",
      "RangeIndex: 89 entries, 0 to 88\n",
      "Data columns (total 59 columns):\n",
      " #   Column                                        Non-Null Count  Dtype \n",
      "---  ------                                        --------------  ----- \n",
      " 0   Date                                          88 non-null     object\n",
      " 1   Day                                           88 non-null     object\n",
      " 2   Tests                                         89 non-null     int64 \n",
      " 3   Cases                                         89 non-null     int64 \n",
      " 4   People Not-Positive - Total                   89 non-null     object\n",
      " 5   People Tested - Age 0-17                      89 non-null     int64 \n",
      " 6   People Tested - Age 18-29                     89 non-null     object\n",
      " 7   People Tested - Age 30-39                     89 non-null     object\n",
      " 8   People Tested - Age 40-49                     89 non-null     int64 \n",
      " 9   People Tested - Age 50-59                     89 non-null     int64 \n",
      " 10  People Tested - Age 60-69                     89 non-null     int64 \n",
      " 11  People Tested - Age 70-79                     89 non-null     int64 \n",
      " 12  People Tested - Age 80+                       89 non-null     int64 \n",
      " 13  People Tested - Age Unknown                   89 non-null     int64 \n",
      " 14  People Tested - Female                        89 non-null     object\n",
      " 15  People Tested - Male                          89 non-null     object\n",
      " 16  People Tested - Gender Unknown                89 non-null     int64 \n",
      " 17  People Tested - Latinx                        89 non-null     object\n",
      " 18  People Tested - Asian Non-Latinx              89 non-null     int64 \n",
      " 19  People Tested - Black Non-Latinx              89 non-null     int64 \n",
      " 20  People Tested - White Non-Latinx              89 non-null     int64 \n",
      " 21  People Tested - Other Race Non-Latinx         89 non-null     int64 \n",
      " 22  People Tested - Unknown Race/Ethnicity        89 non-null     object\n",
      " 23  People Positive - Age 0-17                    89 non-null     int64 \n",
      " 24  People Positive - Age 18-29                   89 non-null     int64 \n",
      " 25  People Positive - Age 30-30                   89 non-null     int64 \n",
      " 26  People Positive - Age 40-49                   89 non-null     int64 \n",
      " 27  People Positive - Age 50-59                   89 non-null     int64 \n",
      " 28  People Positive - Age 60-69                   89 non-null     int64 \n",
      " 29  People Positive - Age 70-79                   89 non-null     int64 \n",
      " 30  People Positive - Age 80+                     89 non-null     int64 \n",
      " 31  People Positive - Age Unknown                 89 non-null     int64 \n",
      " 32  People Positive - Female                      89 non-null     int64 \n",
      " 33  People Positive - Male                        89 non-null     int64 \n",
      " 34  People Positive - Gender Unknown              89 non-null     int64 \n",
      " 35  People Positive - Latinx                      89 non-null     int64 \n",
      " 36  People Positive - Asian Non-Latinx            89 non-null     int64 \n",
      " 37  People Positive - Black Non-Latinx            89 non-null     int64 \n",
      " 38  People Positive - White Non-Latinx            89 non-null     int64 \n",
      " 39  People Positive - Other Race Non-Latinx       89 non-null     int64 \n",
      " 40  People Positive - Unknown Race/Ethnicity      89 non-null     int64 \n",
      " 41  People Not-Positive - Age 0-17                89 non-null     int64 \n",
      " 42  People Not-Positive - Age 18-29               89 non-null     object\n",
      " 43  People Not-Positive - Age 30-39               89 non-null     int64 \n",
      " 44  People Not-Positive - Age 40-49               89 non-null     int64 \n",
      " 45  People Not-Positive - Age 50-59               89 non-null     int64 \n",
      " 46  People Not-Positive - Age 60-69               89 non-null     int64 \n",
      " 47  People Not-Positive - Age 70-79               89 non-null     int64 \n",
      " 48  People Not-Positive - Age 80+                 89 non-null     int64 \n",
      " 49  People Not-Positive - Age Unknown             89 non-null     int64 \n",
      " 50  People Not-Positive - Female                  89 non-null     object\n",
      " 51  People Not-Positive - Male                    89 non-null     object\n",
      " 52  People Not-Positive - Gender Unknown          89 non-null     int64 \n",
      " 53  People Not-Positive - Latinx                  89 non-null     int64 \n",
      " 54  People Not-Positive - Asian Non-Latinx        89 non-null     int64 \n",
      " 55  People Not-Positive - Black Non-Latinx        89 non-null     int64 \n",
      " 56  People Not-Positive - White Non-Latinx        89 non-null     int64 \n",
      " 57  People Not-Positive - Other Race Non-Latinx   89 non-null     int64 \n",
      " 58  People Not-Positive - Unknown Race/Ethnicity  89 non-null     object\n",
      "dtypes: int64(46), object(13)\n",
      "memory usage: 41.1+ KB\n"
     ]
    }
   ],
   "source": [
    "df.info()"
   ]
  },
  {
   "cell_type": "code",
   "execution_count": null,
   "metadata": {
    "id": "JDZWqQlvDNzV"
   },
   "outputs": [],
   "source": [
    "data_numeric = df.select_dtypes(include=['float64', 'int64'])\n",
    "plt.figure(figsize=(20, 10))\n",
    "sns.pairplot(data_numeric)\n",
    "plt.show()"
   ]
  },
  {
   "cell_type": "code",
   "execution_count": null,
   "metadata": {
    "id": "yDhdz88jDNzW"
   },
   "outputs": [],
   "source": [
    "X = df['Tests'].values.reshape(-1,1)\n",
    "y = df['Cases'].values.reshape(-1,1)"
   ]
  },
  {
   "cell_type": "code",
   "execution_count": null,
   "metadata": {
    "colab": {
     "base_uri": "https://localhost:8080/"
    },
    "id": "XiN4kvNtGM7d",
    "outputId": "20d41b65-c6e8-4311-8b75-ea926e4be79f"
   },
   "outputs": [
    {
     "name": "stdout",
     "output_type": "stream",
     "text": [
      "(89, 1)\n",
      "(89, 1)\n"
     ]
    }
   ],
   "source": [
    "print(X.shape)\n",
    "print(y.shape)"
   ]
  },
  {
   "cell_type": "markdown",
   "metadata": {
    "id": "zO_CjiHUKbW5"
   },
   "source": [
    "### Linear Regression Model with out any feature manipulations"
   ]
  },
  {
   "cell_type": "code",
   "execution_count": null,
   "metadata": {
    "colab": {
     "base_uri": "https://localhost:8080/",
     "height": 514
    },
    "id": "yCtA1jOdDNzX",
    "outputId": "4f54e016-4b4c-4663-beba-575db71674e2"
   },
   "outputs": [
    {
     "name": "stdout",
     "output_type": "stream",
     "text": [
      "The linear model is: Y = 97.777 + 0.18572X\n"
     ]
    },
    {
     "data": {
      "image/png": "[encoded data removed]",
      "text/plain": [
       "<Figure size 1152x576 with 1 Axes>"
      ]
     },
     "metadata": {
      "needs_background": "light",
      "tags": []
     },
     "output_type": "display_data"
    }
   ],
   "source": [
    "reg = LinearRegression()\n",
    "reg.fit(X, y)\n",
    "predictions = reg.predict(X)\n",
    "print(\"The linear model is: Y = {:.5} + {:.5}X\".format(reg.intercept_[0], reg.coef_[0][0]))\n",
    "plt.figure(figsize=(16, 8))\n",
    "\n",
    "plt.scatter(X, y, c='red')\n",
    "plt.plot(X, predictions, c='blue', linewidth=2)\n",
    "plt.xlabel(\"Tests\")\n",
    "plt.ylabel(\"Cases\")\n",
    "plt.show()"
   ]
  },
  {
   "cell_type": "code",
   "execution_count": null,
   "metadata": {
    "colab": {
     "base_uri": "https://localhost:8080/"
    },
    "id": "T7pXi1p5Gb74",
    "outputId": "0af6ef70-6447-42a2-fcd9-14622545eefb"
   },
   "outputs": [
    {
     "name": "stdout",
     "output_type": "stream",
     "text": [
      "RMSE for Linear Regression :  171.79768160540917\n"
     ]
    }
   ],
   "source": [
    "print('RMSE for Linear Regression : ',np.sqrt(mean_squared_error(y,predictions)))"
   ]
  },
  {
   "cell_type": "markdown",
   "metadata": {
    "id": "VIqcUOyIKG73"
   },
   "source": [
    "The RMSE calculated with the Linear regression without any feature manipulation is __171.79__\n",
    "\n",
    "______"
   ]
  },
  {
   "cell_type": "markdown",
   "metadata": {
    "id": "E9reZAcPKiyA"
   },
   "source": [
    "### Linear Regression with just feature scaling"
   ]
  },
  {
   "cell_type": "code",
   "execution_count": null,
   "metadata": {
    "colab": {
     "base_uri": "https://localhost:8080/"
    },
    "id": "cuforFIUKCcB",
    "outputId": "79c2f196-42f9-4f40-c20d-21fb103a872e"
   },
   "outputs": [
    {
     "name": "stdout",
     "output_type": "stream",
     "text": [
      "[[0.        ]\n",
      " [0.40703518]\n",
      " [0.68626466]]\n"
     ]
    }
   ],
   "source": [
    "# Feature Scaling, which means changing values from 0 to 1\n",
    "X_scaled = (X - min(X))/(max(X)-min(X))\n",
    "print(X_scaled[:3])"
   ]
  },
  {
   "cell_type": "code",
   "execution_count": null,
   "metadata": {
    "colab": {
     "base_uri": "https://localhost:8080/",
     "height": 514
    },
    "id": "eLJmUNyTKWPn",
    "outputId": "27c12f28-e525-49c5-e3c8-e4669106fc69"
   },
   "outputs": [
    {
     "name": "stdout",
     "output_type": "stream",
     "text": [
      "The linear model is: Y = 97.963 + 1108.8X\n"
     ]
    },
    {
     "data": {
      "image/png": "[encoded data removed]",
      "text/plain": [
       "<Figure size 1152x576 with 1 Axes>"
      ]
     },
     "metadata": {
      "needs_background": "light",
      "tags": []
     },
     "output_type": "display_data"
    }
   ],
   "source": [
    "reg_scaled = LinearRegression()\n",
    "reg_scaled.fit(X_scaled, y)\n",
    "predictions_scaled = reg_scaled.predict(X_scaled)\n",
    "print(\"The linear model is: Y = {:.5} + {:.5}X\".format(reg_scaled.intercept_[0], reg_scaled.coef_[0][0]))\n",
    "plt.figure(figsize=(16, 8))\n",
    "\n",
    "plt.scatter(X_scaled, y, c='red')\n",
    "plt.plot(X_scaled, predictions_scaled, c='blue', linewidth=2)\n",
    "plt.xlabel(\"Tests Value Scaled\")\n",
    "plt.ylabel(\"Cases\")\n",
    "plt.show()"
   ]
  },
  {
   "cell_type": "code",
   "execution_count": null,
   "metadata": {
    "colab": {
     "base_uri": "https://localhost:8080/"
    },
    "id": "NHnU1U_6LYMT",
    "outputId": "0ffb114e-c0f3-47d1-a2af-a47ad800edbd"
   },
   "outputs": [
    {
     "name": "stdout",
     "output_type": "stream",
     "text": [
      "RMSE for Linear Regression :  171.79768160540914\n"
     ]
    }
   ],
   "source": [
    "print('RMSE for Linear Regression : ',np.sqrt(mean_squared_error(y, predictions_scaled)))"
   ]
  },
  {
   "cell_type": "markdown",
   "metadata": {
    "id": "KH8QwmFhLnM-"
   },
   "source": [
    "The RMSE calculated with the Linear regression with feature scaled is __171.7976__\n",
    "\n",
    "_______"
   ]
  },
  {
   "cell_type": "markdown",
   "metadata": {
    "id": "ZbGzmeQEL1lw"
   },
   "source": [
    "### Linear Regression with just feature normalization"
   ]
  },
  {
   "cell_type": "code",
   "execution_count": null,
   "metadata": {
    "colab": {
     "base_uri": "https://localhost:8080/"
    },
    "id": "HPw2aihnLyhy",
    "outputId": "f7491cf8-5193-4a35-a364-3ece9f46788e"
   },
   "outputs": [
    {
     "name": "stdout",
     "output_type": "stream",
     "text": [
      "[[-0.36255811]\n",
      " [ 0.04447707]\n",
      " [ 0.32370655]]\n"
     ]
    }
   ],
   "source": [
    "# Feature Normalization, which means changing feature values such that distribution is normal.\n",
    "X_normalized = (X - np.mean(X))/(max(X)-min(X))\n",
    "print(X_normalized[:3])"
   ]
  },
  {
   "cell_type": "code",
   "execution_count": null,
   "metadata": {
    "colab": {
     "base_uri": "https://localhost:8080/",
     "height": 514
    },
    "id": "jmV6N9bzLyh4",
    "outputId": "ab90ecea-3646-426e-d995-1345a99c7d22"
   },
   "outputs": [
    {
     "name": "stdout",
     "output_type": "stream",
     "text": [
      "The linear model is: Y = 499.96 + 1108.8X\n"
     ]
    },
    {
     "data": {
      "image/png": "[encoded data removed]",
      "text/plain": [
       "<Figure size 1152x576 with 1 Axes>"
      ]
     },
     "metadata": {
      "needs_background": "light",
      "tags": []
     },
     "output_type": "display_data"
    }
   ],
   "source": [
    "reg_normalized = LinearRegression()\n",
    "reg_normalized.fit(X_normalized, y)\n",
    "predictions_normalized = reg_normalized.predict(X_normalized)\n",
    "print(\"The linear model is: Y = {:.5} + {:.5}X\".format(reg_normalized.intercept_[0], reg_normalized.coef_[0][0]))\n",
    "plt.figure(figsize=(16, 8))\n",
    "\n",
    "plt.scatter(X_normalized, y, c='red')\n",
    "plt.plot(X_normalized, predictions_normalized, c='blue', linewidth=2)\n",
    "plt.xlabel(\"Tests Value Normalized\")\n",
    "plt.ylabel(\"Cases\")\n",
    "plt.show()"
   ]
  },
  {
   "cell_type": "code",
   "execution_count": null,
   "metadata": {
    "colab": {
     "base_uri": "https://localhost:8080/"
    },
    "id": "Dhr3xYRuLyh4",
    "outputId": "80e84bf1-9212-495e-dc03-048c91b34ad6"
   },
   "outputs": [
    {
     "name": "stdout",
     "output_type": "stream",
     "text": [
      "RMSE for Linear Regression :  171.79768160540917\n"
     ]
    }
   ],
   "source": [
    "print('RMSE for Linear Regression : ',np.sqrt(mean_squared_error(y, predictions_normalized)))"
   ]
  },
  {
   "cell_type": "markdown",
   "metadata": {
    "id": "bosmssaJNEQG"
   },
   "source": [
    "The RMSE calculated with the Linear regression with feature normalized is __171.7976__\n",
    "__________"
   ]
  },
  {
   "cell_type": "markdown",
   "metadata": {
    "id": "c-kZG8mENVgb"
   },
   "source": [
    "### Linear Regression with just feature standardization"
   ]
  },
  {
   "cell_type": "code",
   "execution_count": null,
   "metadata": {
    "colab": {
     "base_uri": "https://localhost:8080/"
    },
    "id": "VcNhZtPoNVgc",
    "outputId": "d6caa7d5-ba81-4d3f-a665-c4e6250950fd"
   },
   "outputs": [
    {
     "name": "stdout",
     "output_type": "stream",
     "text": [
      "[[-1.25398817]\n",
      " [ 0.15383387]\n",
      " [ 1.11961137]]\n"
     ]
    }
   ],
   "source": [
    "# Feature Standardization, which means changing feature values such that distribution is normal and standarzied by the standard deviation.\n",
    "X_std = (X - np.mean(X))/(np.std(X))\n",
    "print(X_std[:3])"
   ]
  },
  {
   "cell_type": "code",
   "execution_count": null,
   "metadata": {
    "colab": {
     "base_uri": "https://localhost:8080/",
     "height": 514
    },
    "id": "gBuGMXM2NVge",
    "outputId": "0f84d165-73e7-4ccf-f142-2b3cb8c816df"
   },
   "outputs": [
    {
     "name": "stdout",
     "output_type": "stream",
     "text": [
      "The linear model is: Y = 499.96 + 320.57X\n"
     ]
    },
    {
     "data": {
      "image/png": "[encoded data removed]",
      "text/plain": [
       "<Figure size 1152x576 with 1 Axes>"
      ]
     },
     "metadata": {
      "needs_background": "light",
      "tags": []
     },
     "output_type": "display_data"
    }
   ],
   "source": [
    "reg_std = LinearRegression()\n",
    "reg_std.fit(X_std, y)\n",
    "predictions_std = reg_std.predict(X_std)\n",
    "print(\"The linear model is: Y = {:.5} + {:.5}X\".format(reg_std.intercept_[0], reg_std.coef_[0][0]))\n",
    "plt.figure(figsize=(16, 8))\n",
    "\n",
    "plt.scatter(X_std, y, c='red')\n",
    "plt.plot(X_std, predictions_std, c='blue', linewidth=2)\n",
    "plt.xlabel(\"Tests Value Standardized\")\n",
    "plt.ylabel(\"Cases\")\n",
    "plt.show()"
   ]
  },
  {
   "cell_type": "code",
   "execution_count": null,
   "metadata": {
    "colab": {
     "base_uri": "https://localhost:8080/"
    },
    "id": "qgc1--URNVgf",
    "outputId": "1694292e-9bae-4acb-9dc6-e58fbb63e80b"
   },
   "outputs": [
    {
     "name": "stdout",
     "output_type": "stream",
     "text": [
      "RMSE for Linear Regression :  171.79768160540917\n"
     ]
    }
   ],
   "source": [
    "print('RMSE for Linear Regression : ',np.sqrt(mean_squared_error(y, predictions_std)))"
   ]
  },
  {
   "cell_type": "markdown",
   "metadata": {
    "id": "dfqPDCWGNVgh"
   },
   "source": [
    "The RMSE calculated with the Linear regression with feature normalized is __171.7976__\n",
    "\n",
    "_____\n"
   ]
  },
  {
   "cell_type": "markdown",
   "metadata": {
    "id": "Fzx-dR78HMxi"
   },
   "source": [
    "The feature standarizations, normalizations, and scaling, have not affected the regression problem at hand. Because the linear regression problem is only univariate, and the scikit-learn uses the least square technique to compute linear regression model. Thus, all the feature manipulation techniques do not affect the overall result of the system. However, it would have affected if only we have used the gradient descent approach to compute the regression model."
   ]
  },
  {
   "cell_type": "markdown",
   "metadata": {
    "id": "G5t9CXk0PeXd"
   },
   "source": [
    "### Polynomial Regression"
   ]
  },
  {
   "cell_type": "markdown",
   "metadata": {
    "id": "SaIiQSovP7PV"
   },
   "source": [
    "#### Polynomial regression with degree 4"
   ]
  },
  {
   "cell_type": "code",
   "execution_count": null,
   "metadata": {
    "colab": {
     "base_uri": "https://localhost:8080/",
     "height": 514
    },
    "id": "Va9qxLSiPPUQ",
    "outputId": "2e96131a-99d5-4e0f-c811-d946e7ce73ff"
   },
   "outputs": [
    {
     "data": {
      "image/png": "[encoded data removed]",
      "text/plain": [
       "<Figure size 1152x576 with 1 Axes>"
      ]
     },
     "metadata": {
      "needs_background": "light",
      "tags": []
     },
     "output_type": "display_data"
    },
    {
     "name": "stdout",
     "output_type": "stream",
     "text": [
      "RMSE for Linear Regression=> 131.076775703435\n"
     ]
    }
   ],
   "source": [
    "poly = PolynomialFeatures(degree = 4) \n",
    "X_poly = poly.fit_transform(X) \n",
    "  \n",
    "poly.fit(X_poly, y) \n",
    "lin2 = LinearRegression() \n",
    "lin2.fit(X_poly, y) \n",
    "pred = lin2.predict(X_poly)\n",
    "new_X, new_y = zip(*sorted(zip(X, pred)))\n",
    "\n",
    "plt.figure(figsize=(16, 8))\n",
    "plt.scatter(X, y, c='red')\n",
    "plt.plot(new_X, new_y, c='blue')\n",
    "plt.xlabel(\"Tests\")\n",
    "plt.ylabel(\"Cases\")\n",
    "plt.show()\n",
    "print('RMSE for Linear Regression=>',np.sqrt(mean_squared_error(y,lin2.predict(poly.fit_transform(X)))))"
   ]
  },
  {
   "cell_type": "markdown",
   "metadata": {
    "id": "spaMN4R2QAaq"
   },
   "source": [
    "#### Polynomial regression with degree 3"
   ]
  },
  {
   "cell_type": "code",
   "execution_count": null,
   "metadata": {
    "colab": {
     "base_uri": "https://localhost:8080/",
     "height": 514
    },
    "id": "9RmI7WyaPyOb",
    "outputId": "2d8fe75e-76f9-4cad-b806-1a7a57f84037"
   },
   "outputs": [
    {
     "data": {
      "image/png": "[encoded data removed]",
      "text/plain": [
       "<Figure size 1152x576 with 1 Axes>"
      ]
     },
     "metadata": {
      "needs_background": "light",
      "tags": []
     },
     "output_type": "display_data"
    },
    {
     "name": "stdout",
     "output_type": "stream",
     "text": [
      "RMSE for Linear Regression=> 131.2391556826983\n"
     ]
    }
   ],
   "source": [
    "poly = PolynomialFeatures(degree = 3) \n",
    "X_poly = poly.fit_transform(X) \n",
    "  \n",
    "poly.fit(X_poly, y) \n",
    "lin2 = LinearRegression() \n",
    "lin2.fit(X_poly, y) \n",
    "pred = lin2.predict(X_poly)\n",
    "new_X, new_y = zip(*sorted(zip(X, pred)))\n",
    "\n",
    "plt.figure(figsize=(16, 8))\n",
    "plt.scatter(X, y, c='red')\n",
    "plt.plot(new_X, new_y, c='blue')\n",
    "plt.xlabel(\"Tests\")\n",
    "plt.ylabel(\"Cases\")\n",
    "plt.show()\n",
    "print('RMSE for Linear Regression=>',np.sqrt(mean_squared_error(y,lin2.predict(poly.fit_transform(X)))))"
   ]
  },
  {
   "cell_type": "markdown",
   "metadata": {
    "id": "7JECe_38QLws"
   },
   "source": [
    "#### Polynomial regression with degree 2"
   ]
  },
  {
   "cell_type": "code",
   "execution_count": null,
   "metadata": {
    "colab": {
     "base_uri": "https://localhost:8080/",
     "height": 514
    },
    "id": "OmBGaXoUQLww",
    "outputId": "3a93f308-2406-48c5-cad3-1a961cdbff20"
   },
   "outputs": [
    {
     "data": {
      "image/png": "[encoded data removed]",
      "text/plain": [
       "<Figure size 1152x576 with 1 Axes>"
      ]
     },
     "metadata": {
      "needs_background": "light",
      "tags": []
     },
     "output_type": "display_data"
    },
    {
     "name": "stdout",
     "output_type": "stream",
     "text": [
      "RMSE for Linear Regression=> 136.7701535452868\n"
     ]
    }
   ],
   "source": [
    "poly = PolynomialFeatures(degree = 2) \n",
    "X_poly = poly.fit_transform(X) \n",
    "  \n",
    "poly.fit(X_poly, y) \n",
    "lin2 = LinearRegression() \n",
    "lin2.fit(X_poly, y) \n",
    "pred = lin2.predict(X_poly)\n",
    "new_X, new_y = zip(*sorted(zip(X, pred)))\n",
    "\n",
    "plt.figure(figsize=(16, 8))\n",
    "plt.scatter(X, y, c='red')\n",
    "plt.plot(new_X, new_y, c='blue')\n",
    "plt.xlabel(\"Tests\")\n",
    "plt.ylabel(\"Cases\")\n",
    "plt.show()\n",
    "print('RMSE for Linear Regression=>',np.sqrt(mean_squared_error(y,lin2.predict(poly.fit_transform(X)))))"
   ]
  },
  {
   "cell_type": "markdown",
   "metadata": {
    "id": "A2S-A62iKphX"
   },
   "source": [
    "The regression model based on degree of polynomial can be seen to have produced varying RMSE score, because of the fact that the higher order polynomials curves are much complex and can easily fit the data, however the lower order polynomials are simple and might not completely fit the data. Thus, need to take into account the consideration for increasing complexity or increasing generalizability of the model."
   ]
  },
  {
   "cell_type": "code",
   "execution_count": null,
   "metadata": {
    "id": "OlBHgMQhMA09"
   },
   "outputs": [],
   "source": []
  }
 ],
 "metadata": {
  "colab": {
   "collapsed_sections": [],
   "name": "Linear regression with COVID dataset.ipynb",
   "provenance": []
  },
  "kernelspec": {
   "display_name": "Python 3",
   "language": "python",
   "name": "python3"
  },
  "language_info": {
   "codemirror_mode": {
    "name": "ipython",
    "version": 3
   },
   "file_extension": ".py",
   "mimetype": "text/x-python",
   "name": "python",
   "nbconvert_exporter": "python",
   "pygments_lexer": "ipython3",
   "version": "3.8.6"
  }
 },
 "nbformat": 4,
 "nbformat_minor": 1
}
